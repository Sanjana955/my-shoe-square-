{
 "cells": [
  {
   "cell_type": "markdown",
   "id": "0cb64394-1139-49b7-a6d3-bc067f7135ae",
   "metadata": {},
   "source": [
    "DAY 1 THURSDAY 24-04-2025 5 to 7 "
   ]
  },
  {
   "cell_type": "code",
   "execution_count": 4,
   "id": "0dbcdc4b-27ce-47a2-a0a6-46f276338bd5",
   "metadata": {},
   "outputs": [
    {
     "name": "stdout",
     "output_type": "stream",
     "text": [
      "hello world\n"
     ]
    }
   ],
   "source": [
    "print(\"hello world\")"
   ]
  },
  {
   "cell_type": "code",
   "execution_count": 2,
   "id": "d130dbda-dfd7-41cb-a23d-b059878fc260",
   "metadata": {},
   "outputs": [
    {
     "name": "stdout",
     "output_type": "stream",
     "text": [
      "hello\n"
     ]
    }
   ],
   "source": [
    "print(\"hello\")"
   ]
  },
  {
   "cell_type": "markdown",
   "id": "8d3c4901-40ac-4588-8681-82d3b0da9d70",
   "metadata": {},
   "source": [
    "welcome "
   ]
  },
  {
   "cell_type": "markdown",
   "id": "69a54c1a-50ee-4d40-a5a1-75ded6709e11",
   "metadata": {},
   "source": [
    "# welcome"
   ]
  },
  {
   "cell_type": "markdown",
   "id": "3013b52e-9d35-4ff7-a373-22abb45c6442",
   "metadata": {},
   "source": [
    "## welcome"
   ]
  },
  {
   "cell_type": "markdown",
   "id": "2df671ac-664a-4ae3-9806-f03085a5b07c",
   "metadata": {},
   "source": [
    "### welcome "
   ]
  },
  {
   "cell_type": "markdown",
   "id": "95c6ae90-9806-43d1-b60c-4435c9f2aae1",
   "metadata": {},
   "source": [
    "#### welcome"
   ]
  },
  {
   "cell_type": "markdown",
   "id": "7c3dc527-3ecb-48d1-a953-3f2587a99f25",
   "metadata": {},
   "source": [
    "##### welcome"
   ]
  },
  {
   "cell_type": "code",
   "execution_count": 12,
   "id": "c1dc37b2-3592-4904-b615-5fd96b102701",
   "metadata": {},
   "outputs": [],
   "source": [
    "#case sensitive \n",
    "a = 10 "
   ]
  },
  {
   "cell_type": "code",
   "execution_count": 13,
   "id": "3727b890-5225-4631-9361-6aaf1aaeb6c3",
   "metadata": {},
   "outputs": [],
   "source": [
    "A = 50"
   ]
  },
  {
   "cell_type": "code",
   "execution_count": 14,
   "id": "000cae53-774f-4f0f-8e53-d58da5bb0894",
   "metadata": {},
   "outputs": [
    {
     "name": "stdout",
     "output_type": "stream",
     "text": [
      "Hello World\n"
     ]
    }
   ],
   "source": [
    "print(\"Hello World\")"
   ]
  },
  {
   "cell_type": "code",
   "execution_count": 16,
   "id": "c66eff86-9c0d-4ff6-9599-fc293149b0d9",
   "metadata": {},
   "outputs": [
    {
     "name": "stdout",
     "output_type": "stream",
     "text": [
      "7\n"
     ]
    }
   ],
   "source": [
    "print(7)"
   ]
  },
  {
   "cell_type": "code",
   "execution_count": 17,
   "id": "905a579d-8440-4549-88f7-e8fe19d54be4",
   "metadata": {},
   "outputs": [
    {
     "name": "stdout",
     "output_type": "stream",
     "text": [
      "7.7\n"
     ]
    }
   ],
   "source": [
    "print(7.7)"
   ]
  },
  {
   "cell_type": "code",
   "execution_count": 18,
   "id": "217bf312-8938-44b2-93bf-d99bce735bad",
   "metadata": {},
   "outputs": [
    {
     "name": "stdout",
     "output_type": "stream",
     "text": [
      "True\n"
     ]
    }
   ],
   "source": [
    "print(True)"
   ]
  },
  {
   "cell_type": "code",
   "execution_count": 19,
   "id": "96cb4787-a9f2-4a59-8e9f-92275c2d69dc",
   "metadata": {},
   "outputs": [
    {
     "name": "stdout",
     "output_type": "stream",
     "text": [
      "hello 5 7.7 True\n"
     ]
    }
   ],
   "source": [
    "print('hello',5,7.7,True)"
   ]
  },
  {
   "cell_type": "code",
   "execution_count": 20,
   "id": "07434af3-f30d-4a1e-a2b8-28bacd81e509",
   "metadata": {},
   "outputs": [
    {
     "name": "stdout",
     "output_type": "stream",
     "text": [
      "hello_world\n"
     ]
    }
   ],
   "source": [
    "print('hello', end='_')\n",
    "print('world')"
   ]
  },
  {
   "cell_type": "code",
   "execution_count": 21,
   "id": "1e4425b8-09a4-401c-b46a-dbf9a4ac45f3",
   "metadata": {},
   "outputs": [
    {
     "name": "stdout",
     "output_type": "stream",
     "text": [
      "hello******sanjana\n"
     ]
    }
   ],
   "source": [
    "print(\"hello\", end='******')\n",
    "print(\"sanjana\")"
   ]
  },
  {
   "cell_type": "code",
   "execution_count": 22,
   "id": "cd6c3ba9-104f-49a6-9a6f-5ff34df73c25",
   "metadata": {},
   "outputs": [
    {
     "name": "stdout",
     "output_type": "stream",
     "text": [
      "hellonotworld\n",
      "python\n"
     ]
    }
   ],
   "source": [
    "print(\"hello\", end='not')\n",
    "print(\"world\")\n",
    "print(\"python\")"
   ]
  },
  {
   "cell_type": "markdown",
   "id": "2842885e-20e6-4445-9e37-4c777e438456",
   "metadata": {},
   "source": [
    "DATA TYPES"
   ]
  },
  {
   "cell_type": "code",
   "execution_count": null,
   "id": "e47101cb-5013-4d8b-9775-6c4a462705b2",
   "metadata": {},
   "outputs": [],
   "source": [
    "integer : it is a whole number without decimal values with positive and negative "
   ]
  },
  {
   "cell_type": "code",
   "execution_count": 23,
   "id": "e1327189-cdb3-4ab9-bc83-b38ba4894f98",
   "metadata": {},
   "outputs": [],
   "source": [
    "age = 25"
   ]
  },
  {
   "cell_type": "code",
   "execution_count": null,
   "id": "7f106c73-a2fe-45b7-bc9c-d03a7d103701",
   "metadata": {},
   "outputs": [],
   "source": [
    "type(age)"
   ]
  },
  {
   "cell_type": "code",
   "execution_count": 24,
   "id": "1a78d05b-d0fe-4ba8-af57-8e57cfb87908",
   "metadata": {},
   "outputs": [
    {
     "data": {
      "text/plain": [
       "int"
      ]
     },
     "execution_count": 24,
     "metadata": {},
     "output_type": "execute_result"
    }
   ],
   "source": [
    "int"
   ]
  },
  {
   "cell_type": "code",
   "execution_count": null,
   "id": "9a725dfd-8120-4342-9691-6c22d0bb424c",
   "metadata": {},
   "outputs": [],
   "source": [
    "Flot : it include decimal points"
   ]
  },
  {
   "cell_type": "code",
   "execution_count": null,
   "id": "927f1a77-8355-4a68-8719-91ca5a0b8376",
   "metadata": {},
   "outputs": [],
   "source": [
    "price = 99.99\n",
    "pi = 3.14\n"
   ]
  },
  {
   "cell_type": "code",
   "execution_count": null,
   "id": "1d920117-41ab-4a53-b2e2-9a68ad7dfd31",
   "metadata": {},
   "outputs": [],
   "source": [
    "type(price)\n"
   ]
  },
  {
   "cell_type": "code",
   "execution_count": 26,
   "id": "d05002b2-3ec5-47bc-a21b-2289d61155c4",
   "metadata": {},
   "outputs": [
    {
     "data": {
      "text/plain": [
       "float"
      ]
     },
     "execution_count": 26,
     "metadata": {},
     "output_type": "execute_result"
    }
   ],
   "source": [
    "float"
   ]
  },
  {
   "cell_type": "code",
   "execution_count": 27,
   "id": "a319779b-3984-464b-b987-eb70101db53a",
   "metadata": {},
   "outputs": [
    {
     "data": {
      "text/plain": [
       "float"
      ]
     },
     "execution_count": 27,
     "metadata": {},
     "output_type": "execute_result"
    }
   ],
   "source": [
    "type(11.99)"
   ]
  },
  {
   "cell_type": "markdown",
   "id": "1a8f013b-5b92-4f48-b804-e424dd43a27b",
   "metadata": {},
   "source": [
    "Boolean Values"
   ]
  },
  {
   "cell_type": "code",
   "execution_count": 28,
   "id": "151bccfb-d145-48c2-bb04-4c92c0f4c0ca",
   "metadata": {},
   "outputs": [
    {
     "data": {
      "text/plain": [
       "bool"
      ]
     },
     "execution_count": 28,
     "metadata": {},
     "output_type": "execute_result"
    }
   ],
   "source": [
    "is_sunny = True\n",
    "type(is_sunny)"
   ]
  },
  {
   "cell_type": "markdown",
   "id": "6accce65-d1ae-4a2a-9190-f30af411876c",
   "metadata": {},
   "source": [
    "String : sequence of charcter enclosed with single and double quotes "
   ]
  },
  {
   "cell_type": "code",
   "execution_count": 30,
   "id": "0c99c44c-2c57-4393-aeb3-f6e311ec73f3",
   "metadata": {},
   "outputs": [
    {
     "data": {
      "text/plain": [
       "str"
      ]
     },
     "execution_count": 30,
     "metadata": {},
     "output_type": "execute_result"
    }
   ],
   "source": [
    "name = \"Sanjana\"\n",
    "greeting = (\"Good Morning\")\n",
    "type(name)"
   ]
  },
  {
   "cell_type": "markdown",
   "id": "7337316a-d583-40d0-aaf1-5d371f2864ba",
   "metadata": {},
   "source": [
    "complex "
   ]
  },
  {
   "cell_type": "code",
   "execution_count": null,
   "id": "14259d9a-bb3e-46ef-bb6e-74782c9b5286",
   "metadata": {},
   "outputs": [],
   "source": [
    "A complex number is a number composed of a real part and imaginary part \n"
   ]
  },
  {
   "cell_type": "code",
   "execution_count": 31,
   "id": "ac1aa71d-0ff3-441b-ae08-ba82455492a0",
   "metadata": {},
   "outputs": [
    {
     "data": {
      "text/plain": [
       "complex"
      ]
     },
     "execution_count": 31,
     "metadata": {},
     "output_type": "execute_result"
    }
   ],
   "source": [
    "z = 3 + 2j\n",
    "type(z)"
   ]
  },
  {
   "cell_type": "markdown",
   "id": "15738527-4e1f-4e84-9af1-11941110afb2",
   "metadata": {},
   "source": [
    "LIST : A list is a order collection of items  it is muttable which we can change "
   ]
  },
  {
   "cell_type": "code",
   "execution_count": 32,
   "id": "e93717a2-a40b-41bd-a77d-d4c84252547b",
   "metadata": {},
   "outputs": [
    {
     "data": {
      "text/plain": [
       "list"
      ]
     },
     "execution_count": 32,
     "metadata": {},
     "output_type": "execute_result"
    }
   ],
   "source": [
    "lis = [\"apple\",\"banana\"]\n",
    "numbers = [1, 2]\n",
    "mixed = [1, \"apple\", 3.5, True]\n",
    "type(lis)"
   ]
  },
  {
   "cell_type": "markdown",
   "id": "b85c1b63-a876-4fc8-b6c7-611513550254",
   "metadata": {},
   "source": [
    "TUPLE : A tuple is an order collection of items which can be a different data type eclosed in a parameters it is immutable "
   ]
  },
  {
   "cell_type": "code",
   "execution_count": 38,
   "id": "cc8922aa-563a-45fc-9f8a-b36121a91368",
   "metadata": {},
   "outputs": [
    {
     "data": {
      "text/plain": [
       "tuple"
      ]
     },
     "execution_count": 38,
     "metadata": {},
     "output_type": "execute_result"
    }
   ],
   "source": [
    "point = (3,4)\n",
    "person = (\"John\", 30 , \"ram\")\n",
    "colors = (\"Red\",\"green\")\n",
    "type(point)"
   ]
  },
  {
   "cell_type": "markdown",
   "id": "42d8af08-0c12-4925-9b54-84075bcad885",
   "metadata": {},
   "source": [
    "SET : it is a unorder collection of unique items, enclosed in currly braces , it remove duplications"
   ]
  },
  {
   "cell_type": "code",
   "execution_count": 41,
   "id": "c58b1da2-221e-4ef1-8dbe-1722aad0c84c",
   "metadata": {},
   "outputs": [
    {
     "name": "stdout",
     "output_type": "stream",
     "text": [
      "{1, 2, 3, 4, 5}\n"
     ]
    }
   ],
   "source": [
    "unique_numbers = {1,2,3,4,4,5}\n",
    "fruits = {\"apple\", \"banana\", \"cherry\"}\n"
   ]
  },
  {
   "cell_type": "code",
   "execution_count": 43,
   "id": "ebfc67b5-fe6f-491f-a45c-dabe2372e1d6",
   "metadata": {},
   "outputs": [
    {
     "data": {
      "text/plain": [
       "{1, 2, 3, 4, 5}"
      ]
     },
     "execution_count": 43,
     "metadata": {},
     "output_type": "execute_result"
    }
   ],
   "source": [
    "unique_numbers"
   ]
  },
  {
   "cell_type": "code",
   "execution_count": 45,
   "id": "de1fd007-604e-4001-930f-42dae2496319",
   "metadata": {},
   "outputs": [
    {
     "data": {
      "text/plain": [
       "set"
      ]
     },
     "execution_count": 45,
     "metadata": {},
     "output_type": "execute_result"
    }
   ],
   "source": [
    "type(unique_numbers)"
   ]
  },
  {
   "cell_type": "code",
   "execution_count": null,
   "id": "ed1ce3ec-1ba1-471d-b098-5b276eb21bc4",
   "metadata": {},
   "outputs": [],
   "source": []
  },
  {
   "cell_type": "code",
   "execution_count": null,
   "id": "bdf143a9-21fa-4bcf-a9fd-3428d463f83d",
   "metadata": {},
   "outputs": [],
   "source": []
  },
  {
   "cell_type": "code",
   "execution_count": null,
   "id": "00f7489e-e5d6-46ba-b7d8-29ecd8fb4713",
   "metadata": {},
   "outputs": [],
   "source": []
  },
  {
   "cell_type": "code",
   "execution_count": null,
   "id": "da445934-95aa-42ea-9588-2153d7ceabfe",
   "metadata": {},
   "outputs": [],
   "source": []
  },
  {
   "cell_type": "code",
   "execution_count": null,
   "id": "f60e78f7-84e4-4973-a414-d4f45d60fc22",
   "metadata": {},
   "outputs": [],
   "source": []
  },
  {
   "cell_type": "code",
   "execution_count": null,
   "id": "949b637c-0cba-473e-812c-294bebd90388",
   "metadata": {},
   "outputs": [],
   "source": []
  },
  {
   "cell_type": "code",
   "execution_count": null,
   "id": "011323fb-b8f5-4513-97dc-845cb53406d7",
   "metadata": {},
   "outputs": [],
   "source": []
  },
  {
   "cell_type": "code",
   "execution_count": null,
   "id": "ac5edd4f-b7c0-43aa-ab03-bf1ace47fd7b",
   "metadata": {},
   "outputs": [],
   "source": []
  },
  {
   "cell_type": "code",
   "execution_count": null,
   "id": "4901d942-7f44-4ba0-bc1d-1361fd779719",
   "metadata": {},
   "outputs": [],
   "source": []
  },
  {
   "cell_type": "code",
   "execution_count": null,
   "id": "263c2e6a-589b-4acd-834b-92e147a5b520",
   "metadata": {},
   "outputs": [],
   "source": []
  },
  {
   "cell_type": "code",
   "execution_count": null,
   "id": "285d0da7-99f8-4a20-837d-35e58673ebb2",
   "metadata": {},
   "outputs": [],
   "source": []
  },
  {
   "cell_type": "code",
   "execution_count": null,
   "id": "7faccb7e-70a7-4519-89d4-a487fef1826c",
   "metadata": {},
   "outputs": [],
   "source": []
  },
  {
   "cell_type": "code",
   "execution_count": null,
   "id": "56d454d9-54f7-47bf-bb9e-09000e1e6666",
   "metadata": {},
   "outputs": [],
   "source": []
  },
  {
   "cell_type": "code",
   "execution_count": null,
   "id": "659939a0-146a-4e5e-80da-3d9b97bac758",
   "metadata": {},
   "outputs": [],
   "source": []
  },
  {
   "cell_type": "code",
   "execution_count": null,
   "id": "ce6c7670-cf2d-4606-ba7a-d845a50efef7",
   "metadata": {},
   "outputs": [],
   "source": []
  },
  {
   "cell_type": "code",
   "execution_count": null,
   "id": "4c5d04fa-a50f-4eae-9511-e9a9232b9526",
   "metadata": {},
   "outputs": [],
   "source": []
  },
  {
   "cell_type": "code",
   "execution_count": null,
   "id": "6c3ee05c-4dbf-499b-a21c-5436564a0302",
   "metadata": {},
   "outputs": [],
   "source": []
  },
  {
   "cell_type": "code",
   "execution_count": null,
   "id": "a2c97a61-168f-46b2-8958-1bb007f44296",
   "metadata": {},
   "outputs": [],
   "source": []
  },
  {
   "cell_type": "code",
   "execution_count": null,
   "id": "24ea09d5-a091-4709-9c5f-e0ace3678344",
   "metadata": {},
   "outputs": [],
   "source": []
  },
  {
   "cell_type": "code",
   "execution_count": null,
   "id": "e1d305f3-6543-46b9-9a5c-9927df2424d6",
   "metadata": {},
   "outputs": [],
   "source": []
  },
  {
   "cell_type": "code",
   "execution_count": null,
   "id": "ca020cbb-7208-4a94-802b-41c561d60ca6",
   "metadata": {},
   "outputs": [],
   "source": []
  },
  {
   "cell_type": "code",
   "execution_count": null,
   "id": "4c0163a5-30de-4043-a176-52636d11c6cc",
   "metadata": {},
   "outputs": [],
   "source": []
  },
  {
   "cell_type": "code",
   "execution_count": null,
   "id": "21cb039b-af44-44aa-b545-6bcf5921965e",
   "metadata": {},
   "outputs": [],
   "source": []
  },
  {
   "cell_type": "code",
   "execution_count": null,
   "id": "0f4a5675-a148-46c8-b53c-670b64052dfe",
   "metadata": {},
   "outputs": [],
   "source": []
  }
 ],
 "metadata": {
  "kernelspec": {
   "display_name": "Python 3 (ipykernel)",
   "language": "python",
   "name": "python3"
  },
  "language_info": {
   "codemirror_mode": {
    "name": "ipython",
    "version": 3
   },
   "file_extension": ".py",
   "mimetype": "text/x-python",
   "name": "python",
   "nbconvert_exporter": "python",
   "pygments_lexer": "ipython3",
   "version": "3.12.7"
  }
 },
 "nbformat": 4,
 "nbformat_minor": 5
}
