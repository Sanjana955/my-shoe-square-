{
 "cells": [
  {
   "cell_type": "markdown",
   "id": "eeb315ad-22b8-4aa7-9502-154e2e7e73ee",
   "metadata": {},
   "source": [
    "## Set: "
   ]
  },
  {
   "cell_type": "code",
   "execution_count": 3,
   "id": "4b9bd76a-5d72-49c3-9758-224fa052e165",
   "metadata": {},
   "outputs": [
    {
     "name": "stdout",
     "output_type": "stream",
     "text": [
      "{1, 3}\n"
     ]
    }
   ],
   "source": [
    "# adding an element\n",
    "my_set.remove(2)\n",
    "print(my_set)"
   ]
  },
  {
   "cell_type": "code",
   "execution_count": 2,
   "id": "115a2534-79b4-4c4f-bf6f-617049942adf",
   "metadata": {},
   "outputs": [
    {
     "name": "stdout",
     "output_type": "stream",
     "text": [
      "1\n",
      "2\n",
      "3\n"
     ]
    }
   ],
   "source": [
    "my_set = {1,2,3}\n",
    "for item in my_set:\n",
    "    print(item)"
   ]
  },
  {
   "cell_type": "code",
   "execution_count": 4,
   "id": "f16ed7c4-8100-49c1-a919-38f642a43594",
   "metadata": {},
   "outputs": [],
   "source": [
    "my_set = {1,2,3}"
   ]
  },
  {
   "cell_type": "code",
   "execution_count": 5,
   "id": "a918bbd6-7ef0-48b2-99f6-3195f7896ed3",
   "metadata": {},
   "outputs": [],
   "source": [
    "my_set.add(555)"
   ]
  },
  {
   "cell_type": "code",
   "execution_count": 6,
   "id": "6f2d6d43-610b-4ea0-867d-40f3e225dbda",
   "metadata": {},
   "outputs": [
    {
     "data": {
      "text/plain": [
       "{1, 2, 3, 555}"
      ]
     },
     "execution_count": 6,
     "metadata": {},
     "output_type": "execute_result"
    }
   ],
   "source": [
    "my_set"
   ]
  },
  {
   "cell_type": "code",
   "execution_count": 11,
   "id": "b91f7633-f2e1-4ad1-906b-f7444904fbca",
   "metadata": {},
   "outputs": [],
   "source": [
    "my_set.add(6)"
   ]
  },
  {
   "cell_type": "code",
   "execution_count": 12,
   "id": "03629ece-46d1-4d61-a04c-5e521fa89f0a",
   "metadata": {},
   "outputs": [
    {
     "name": "stdout",
     "output_type": "stream",
     "text": [
      "{1, 2, 3, 6, 555}\n"
     ]
    }
   ],
   "source": [
    "print(my_set)"
   ]
  },
  {
   "cell_type": "code",
   "execution_count": 17,
   "id": "67c8a2e6-bb4a-4f8c-95a7-bd462faae7bb",
   "metadata": {},
   "outputs": [],
   "source": [
    "# Example 2\n",
    "my_set = {1,2,3}\n"
   ]
  },
  {
   "cell_type": "code",
   "execution_count": 18,
   "id": "9f681586-d6eb-433a-949e-82a7fdc6411e",
   "metadata": {},
   "outputs": [],
   "source": [
    "my_set.update([20,55,88,99])"
   ]
  },
  {
   "cell_type": "code",
   "execution_count": 19,
   "id": "088a0976-ec78-4598-851c-f4cbb5a6fd78",
   "metadata": {},
   "outputs": [],
   "source": [
    "my_set.update([4,5])"
   ]
  },
  {
   "cell_type": "code",
   "execution_count": 21,
   "id": "251bd2a2-985a-48f7-a9df-837bf9f64bd1",
   "metadata": {},
   "outputs": [
    {
     "data": {
      "text/plain": [
       "{1, 2, 3, 4, 5, 20, 55, 88, 99}"
      ]
     },
     "execution_count": 21,
     "metadata": {},
     "output_type": "execute_result"
    }
   ],
   "source": [
    "my_set"
   ]
  },
  {
   "cell_type": "code",
   "execution_count": 45,
   "id": "ddfa60a0-a631-47a6-8cb1-f2dc22529cce",
   "metadata": {},
   "outputs": [
    {
     "data": {
      "text/plain": [
       "{1, 3}"
      ]
     },
     "execution_count": 45,
     "metadata": {},
     "output_type": "execute_result"
    }
   ],
   "source": [
    "# remove \n",
    "my_set = {1,2,3}\n",
    "my_set.remove(2)\n",
    "my_set"
   ]
  },
  {
   "cell_type": "code",
   "execution_count": 29,
   "id": "47690e6f-e578-4258-8e9a-79a9f421c6bb",
   "metadata": {},
   "outputs": [
    {
     "ename": "KeyError",
     "evalue": "5",
     "output_type": "error",
     "traceback": [
      "\u001b[1;31m---------------------------------------------------------------------------\u001b[0m",
      "\u001b[1;31mKeyError\u001b[0m                                  Traceback (most recent call last)",
      "Cell \u001b[1;32mIn[29], line 1\u001b[0m\n\u001b[1;32m----> 1\u001b[0m my_set\u001b[38;5;241m.\u001b[39mremove(\u001b[38;5;241m5\u001b[39m)\n",
      "\u001b[1;31mKeyError\u001b[0m: 5"
     ]
    }
   ],
   "source": [
    "my_set.remove(5)"
   ]
  },
  {
   "cell_type": "code",
   "execution_count": 44,
   "id": "1ab89d21-ddfd-4a06-b163-637aa676c715",
   "metadata": {},
   "outputs": [
    {
     "data": {
      "text/plain": [
       "{1, 2, 3}"
      ]
     },
     "execution_count": 44,
     "metadata": {},
     "output_type": "execute_result"
    }
   ],
   "source": [
    "# discard()\n",
    "my_set = {1,2,3}\n",
    "my_set.discard(5)\n",
    "my_set"
   ]
  },
  {
   "cell_type": "code",
   "execution_count": 33,
   "id": "267cba0d-2fbf-4e24-ac8b-d89bcb53ea05",
   "metadata": {},
   "outputs": [],
   "source": [
    "my_set.discard(5)     ----------> # no error "
   ]
  },
  {
   "cell_type": "code",
   "execution_count": 40,
   "id": "371d91c3-9ad0-4e4a-a08d-7151ecfcea34",
   "metadata": {},
   "outputs": [
    {
     "data": {
      "text/plain": [
       "{2, 3}"
      ]
     },
     "execution_count": 40,
     "metadata": {},
     "output_type": "execute_result"
    }
   ],
   "source": [
    "# pop ()\n",
    "my_set = {1,2,3}\n",
    "a = my_set.pop()\n",
    "a\n",
    "my_set"
   ]
  },
  {
   "cell_type": "code",
   "execution_count": 39,
   "id": "d43b7c11-850f-47fe-8d6a-139e2055f43e",
   "metadata": {},
   "outputs": [
    {
     "name": "stdout",
     "output_type": "stream",
     "text": [
      "set()\n"
     ]
    }
   ],
   "source": [
    "# clear ()\n",
    "my_set = {1,2,3}\n",
    "my_set.clear()\n",
    "print(my_set)"
   ]
  },
  {
   "cell_type": "code",
   "execution_count": 43,
   "id": "2b68d65f-e19e-4ae3-a70b-193162d3681e",
   "metadata": {},
   "outputs": [
    {
     "data": {
      "text/plain": [
       "{1, 2, 3, 4, 5}"
      ]
     },
     "execution_count": 43,
     "metadata": {},
     "output_type": "execute_result"
    }
   ],
   "source": [
    "# union () ----------> combines all the elemnets\n",
    "set1 = {1,2,3}\n",
    "set2 = {3,4,5}\n",
    "set1.union(set2)"
   ]
  },
  {
   "cell_type": "code",
   "execution_count": 46,
   "id": "3dfb9f98-8e52-4c2a-ba3d-d84aa320b031",
   "metadata": {},
   "outputs": [
    {
     "data": {
      "text/plain": [
       "{2, 3}"
      ]
     },
     "execution_count": 46,
     "metadata": {},
     "output_type": "execute_result"
    }
   ],
   "source": [
    "# intersection()    ---------> takes commen elements\n",
    "\n",
    "set1 = {1,2,3}\n",
    "set2 = {2,3,4}\n",
    "set1.intersection(set2)"
   ]
  },
  {
   "cell_type": "code",
   "execution_count": 47,
   "id": "8c7bb1ab-27d4-441e-afd0-ccfbd04597d8",
   "metadata": {},
   "outputs": [
    {
     "data": {
      "text/plain": [
       "{1, 5}"
      ]
     },
     "execution_count": 47,
     "metadata": {},
     "output_type": "execute_result"
    }
   ],
   "source": [
    "# difference \n",
    "set1 = {1,2,3,4,5}\n",
    "set2 = {2,3,4}\n",
    "set1.difference(set2)"
   ]
  },
  {
   "cell_type": "code",
   "execution_count": 50,
   "id": "ffeeb54b-859f-451b-abf7-2040b68c7b0f",
   "metadata": {},
   "outputs": [
    {
     "name": "stdout",
     "output_type": "stream",
     "text": [
      "{1, 4}\n"
     ]
    }
   ],
   "source": [
    "# symmetric difference ()\n",
    "set1 = {1,2,3,}\n",
    "set2 = {2,3,4}\n",
    "result = set1.symmetric_difference(set2)\n",
    "print(result)"
   ]
  },
  {
   "cell_type": "code",
   "execution_count": 51,
   "id": "c917eb7f-0d93-48cc-b349-2295b54923d3",
   "metadata": {},
   "outputs": [
    {
     "data": {
      "text/plain": [
       "False"
      ]
     },
     "execution_count": 51,
     "metadata": {},
     "output_type": "execute_result"
    }
   ],
   "source": [
    "# issubset()\n",
    "set1 = {1,2,3}\n",
    "set2 = {1,2}\n",
    "set1.issubset(set2)"
   ]
  },
  {
   "cell_type": "code",
   "execution_count": 52,
   "id": "e58bd7f6-0fc8-4e3f-8a25-d523f50fadf5",
   "metadata": {},
   "outputs": [
    {
     "data": {
      "text/plain": [
       "True"
      ]
     },
     "execution_count": 52,
     "metadata": {},
     "output_type": "execute_result"
    }
   ],
   "source": [
    "set2.issubset(set1)"
   ]
  },
  {
   "cell_type": "code",
   "execution_count": 55,
   "id": "0afce5b8-8938-4451-a987-c3223a1ac5e4",
   "metadata": {},
   "outputs": [
    {
     "name": "stdout",
     "output_type": "stream",
     "text": [
      "True\n"
     ]
    }
   ],
   "source": [
    "# issuperset()     -----------> returns true is the set contains all elements of another set\n",
    "set1 = {1,2,3,}\n",
    "set2 = {1,2}\n",
    "print(set1.issuperset(set2))"
   ]
  },
  {
   "cell_type": "code",
   "execution_count": 56,
   "id": "4f8f25b9-dc1b-4175-b422-4804629b1236",
   "metadata": {},
   "outputs": [
    {
     "data": {
      "text/plain": [
       "True"
      ]
     },
     "execution_count": 56,
     "metadata": {},
     "output_type": "execute_result"
    }
   ],
   "source": [
    "# isdisjoint      ---------> returns true if the sets have no elements in common.\n",
    "set1 = {1,2,3}\n",
    "set2 = {4,5,6}\n",
    "set1.isdisjoint(set2)"
   ]
  },
  {
   "cell_type": "code",
   "execution_count": 57,
   "id": "2716c62d-b98c-4ba7-8cbf-acc54f37d3d2",
   "metadata": {},
   "outputs": [
    {
     "name": "stdout",
     "output_type": "stream",
     "text": [
      "{1, 2, 3}\n"
     ]
    }
   ],
   "source": [
    "# Copy()\n",
    "set1 = {1,2,3}\n",
    "set_copy = set1.copy()\n",
    "print(set_copy)"
   ]
  },
  {
   "cell_type": "code",
   "execution_count": 58,
   "id": "0b9a0443-151f-4ddb-a51d-18954047783a",
   "metadata": {},
   "outputs": [
    {
     "data": {
      "text/plain": [
       "{1, 3}"
      ]
     },
     "execution_count": 58,
     "metadata": {},
     "output_type": "execute_result"
    }
   ],
   "source": [
    "# Frozenset\n",
    "my_set"
   ]
  },
  {
   "cell_type": "code",
   "execution_count": 59,
   "id": "51fb0a70-4898-4e04-ac45-2403b2c85311",
   "metadata": {},
   "outputs": [],
   "source": [
    "a = frozenset(my_set)"
   ]
  },
  {
   "cell_type": "code",
   "execution_count": 61,
   "id": "5af4d61f-7a6e-4cb3-a235-682a629029e6",
   "metadata": {},
   "outputs": [
    {
     "data": {
      "text/plain": [
       "frozenset({1, 3})"
      ]
     },
     "execution_count": 61,
     "metadata": {},
     "output_type": "execute_result"
    }
   ],
   "source": [
    "a"
   ]
  },
  {
   "cell_type": "code",
   "execution_count": 64,
   "id": "107f54f7-af75-4a3b-9e3c-ad4f8f6fc0f8",
   "metadata": {},
   "outputs": [
    {
     "ename": "AttributeError",
     "evalue": "'frozenset' object has no attribute 'add'",
     "output_type": "error",
     "traceback": [
      "\u001b[1;31m---------------------------------------------------------------------------\u001b[0m",
      "\u001b[1;31mAttributeError\u001b[0m                            Traceback (most recent call last)",
      "Cell \u001b[1;32mIn[64], line 1\u001b[0m\n\u001b[1;32m----> 1\u001b[0m a\u001b[38;5;241m.\u001b[39madd(\u001b[38;5;241m100\u001b[39m)\n",
      "\u001b[1;31mAttributeError\u001b[0m: 'frozenset' object has no attribute 'add'"
     ]
    }
   ],
   "source": [
    "a.add(100)"
   ]
  },
  {
   "cell_type": "markdown",
   "id": "dc11424f-0967-4b88-8b66-fa1fcda708a3",
   "metadata": {},
   "source": [
    "python function in set"
   ]
  },
  {
   "cell_type": "code",
   "execution_count": 66,
   "id": "12c6bb5c-670b-4764-9040-1ee6ef00c403",
   "metadata": {},
   "outputs": [
    {
     "name": "stdout",
     "output_type": "stream",
     "text": [
      "5\n"
     ]
    }
   ],
   "source": [
    "#len()\n",
    "my_set = {1,2,3,4,5}\n",
    "print(len(my_set))"
   ]
  },
  {
   "cell_type": "code",
   "execution_count": 67,
   "id": "af01b4c2-27e4-45c0-9de1-c6a908efeabd",
   "metadata": {},
   "outputs": [],
   "source": [
    "my_set.add(55)"
   ]
  },
  {
   "cell_type": "code",
   "execution_count": 68,
   "id": "c81e3be0-4312-4855-a601-f55dbd583df1",
   "metadata": {},
   "outputs": [
    {
     "data": {
      "text/plain": [
       "{1, 2, 3, 4, 5, 55}"
      ]
     },
     "execution_count": 68,
     "metadata": {},
     "output_type": "execute_result"
    }
   ],
   "source": [
    "my_set"
   ]
  },
  {
   "cell_type": "code",
   "execution_count": 70,
   "id": "a98306cb-c265-4a51-89e8-adb3b34aefde",
   "metadata": {},
   "outputs": [
    {
     "data": {
      "text/plain": [
       "5"
      ]
     },
     "execution_count": 70,
     "metadata": {},
     "output_type": "execute_result"
    }
   ],
   "source": [
    "# max()\n",
    "my_set = {1,2,3,4,5}\n",
    "max(my_set)"
   ]
  },
  {
   "cell_type": "code",
   "execution_count": 71,
   "id": "2b8c36e9-e8a1-4495-839e-13a2792196a8",
   "metadata": {},
   "outputs": [
    {
     "data": {
      "text/plain": [
       "1"
      ]
     },
     "execution_count": 71,
     "metadata": {},
     "output_type": "execute_result"
    }
   ],
   "source": [
    "# min()\n",
    "my_set = {1,2,3,4,5}\n",
    "min(my_set)"
   ]
  },
  {
   "cell_type": "code",
   "execution_count": 72,
   "id": "5b42cd7c-4698-436a-bbba-f51f78d777d0",
   "metadata": {},
   "outputs": [
    {
     "data": {
      "text/plain": [
       "15"
      ]
     },
     "execution_count": 72,
     "metadata": {},
     "output_type": "execute_result"
    }
   ],
   "source": [
    "# sum()\n",
    "my_set = {1,2,3,4,5}\n",
    "sum(my_set)"
   ]
  },
  {
   "cell_type": "code",
   "execution_count": 75,
   "id": "8b328d61-d629-43c1-9452-939f6b86663a",
   "metadata": {},
   "outputs": [
    {
     "data": {
      "text/plain": [
       "[11, 23, 55, 87, 90]"
      ]
     },
     "execution_count": 75,
     "metadata": {},
     "output_type": "execute_result"
    }
   ],
   "source": [
    "# sort()\n",
    "my_set = {55,87,23,11,90}\n",
    "sorted(my_set)"
   ]
  },
  {
   "cell_type": "code",
   "execution_count": 77,
   "id": "1e7a09b2-990d-494f-9d85-b741d5292ca9",
   "metadata": {},
   "outputs": [
    {
     "data": {
      "text/plain": [
       "set"
      ]
     },
     "execution_count": 77,
     "metadata": {},
     "output_type": "execute_result"
    }
   ],
   "source": [
    "type(my_set)"
   ]
  },
  {
   "cell_type": "code",
   "execution_count": 79,
   "id": "953b9c68-8cb6-4b1d-bbd2-7ed3e0200e0b",
   "metadata": {},
   "outputs": [
    {
     "name": "stdout",
     "output_type": "stream",
     "text": [
      "True\n"
     ]
    }
   ],
   "source": [
    "# any()\n",
    "my_set = {0, False, None, 50}\n",
    "print(any(my_set))"
   ]
  },
  {
   "cell_type": "code",
   "execution_count": 80,
   "id": "a66b7751-ef2d-4db6-99fb-54cb35a0912a",
   "metadata": {},
   "outputs": [
    {
     "name": "stdout",
     "output_type": "stream",
     "text": [
      "True\n"
     ]
    }
   ],
   "source": [
    "# all()\n",
    "my_set ={1,2,3}\n",
    "print(all(my_set))"
   ]
  },
  {
   "cell_type": "code",
   "execution_count": 81,
   "id": "a645ba88-6307-4d8c-b5da-40a5b9757b71",
   "metadata": {},
   "outputs": [
    {
     "name": "stdout",
     "output_type": "stream",
     "text": [
      "{1, 2, 3, 4, 5}\n"
     ]
    }
   ],
   "source": [
    "# set()\n",
    "my_list = [1,2,3,4,5]\n",
    "my_set = set(my_list)\n",
    "print(my_set)"
   ]
  },
  {
   "cell_type": "code",
   "execution_count": 83,
   "id": "2af1078a-1e20-4cd3-8fea-d09143fdd7fa",
   "metadata": {},
   "outputs": [
    {
     "name": "stdout",
     "output_type": "stream",
     "text": [
      "{1, 4, 9, 16, 25}\n"
     ]
    }
   ],
   "source": [
    "# Basic set comprehension\n",
    "numbers = [1,2,3,4,5]\n",
    "squares_set = {x**2 for x in numbers}\n",
    "print(squares_set)"
   ]
  },
  {
   "cell_type": "code",
   "execution_count": 84,
   "id": "a4545ff7-2889-4679-af41-e4079859cd84",
   "metadata": {},
   "outputs": [
    {
     "name": "stdout",
     "output_type": "stream",
     "text": [
      "{16, 4}\n"
     ]
    }
   ],
   "source": [
    "# set comprehension with a condition\n",
    "numbers = [1,2,3,4,5]\n",
    "even_squares_set = {x**2 for x in numbers if x % 2 ==0}\n",
    "print(even_squares_set)"
   ]
  }
 ],
 "metadata": {
  "kernelspec": {
   "display_name": "Python 3 (ipykernel)",
   "language": "python",
   "name": "python3"
  },
  "language_info": {
   "codemirror_mode": {
    "name": "ipython",
    "version": 3
   },
   "file_extension": ".py",
   "mimetype": "text/x-python",
   "name": "python",
   "nbconvert_exporter": "python",
   "pygments_lexer": "ipython3",
   "version": "3.12.7"
  }
 },
 "nbformat": 4,
 "nbformat_minor": 5
}
