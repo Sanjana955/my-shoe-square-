{
 "cells": [
  {
   "cell_type": "code",
   "execution_count": 5,
   "id": "b16da9db-5c5f-4488-9a80-60721abdd9a4",
   "metadata": {},
   "outputs": [
    {
     "name": "stdout",
     "output_type": "stream",
     "text": [
      "1\n",
      "2\n",
      "3\n",
      "4\n",
      "6\n",
      "7\n"
     ]
    }
   ],
   "source": [
    "# List of integer\n",
    "numbers = [1,2,3,4,5,6,7]\n",
    "# loop through the list\n",
    "for number in numbers:\n",
    "    if number == 5:\n",
    "        continue\n",
    "    print(number)"
   ]
  },
  {
   "cell_type": "code",
   "execution_count": 6,
   "id": "cf493991-1e1f-4c66-9eb9-6a934ac6cd03",
   "metadata": {},
   "outputs": [
    {
     "name": "stdout",
     "output_type": "stream",
     "text": [
      "1\n",
      "2\n",
      "3\n",
      "4\n",
      "6\n",
      "7\n"
     ]
    }
   ],
   "source": [
    "numbers = [1,2,3,4,5,6,7]\n",
    "for number in numbers:\n",
    "    if number == 5:\n",
    "        continue\n",
    "    print(number)"
   ]
  },
  {
   "cell_type": "code",
   "execution_count": 19,
   "id": "c56fe3d3-80c6-4088-a853-c41787cd51f9",
   "metadata": {},
   "outputs": [
    {
     "data": {
      "text/plain": [
       "1"
      ]
     },
     "execution_count": 19,
     "metadata": {},
     "output_type": "execute_result"
    }
   ],
   "source": [
    "5%2   ------> prime number "
   ]
  },
  {
   "cell_type": "code",
   "execution_count": 22,
   "id": "25c9568f-2c29-422b-96ba-d49c76d07adc",
   "metadata": {},
   "outputs": [
    {
     "data": {
      "text/plain": [
       "0"
      ]
     },
     "execution_count": 22,
     "metadata": {},
     "output_type": "execute_result"
    }
   ],
   "source": [
    "4%2    ------> not prime number"
   ]
  },
  {
   "cell_type": "code",
   "execution_count": 24,
   "id": "f919e072-1630-4269-bb58-62a22181c5a4",
   "metadata": {},
   "outputs": [
    {
     "name": "stdout",
     "output_type": "stream",
     "text": [
      "10 is not a prime number\n",
      "11 is a prime number\n",
      "12 is not a prime number\n",
      "13 is a prime number\n",
      "14 is not a prime number\n",
      "15 is a prime number\n",
      "16 is not a prime number\n",
      "17 is a prime number\n",
      "18 is not a prime number\n",
      "19 is a prime number\n",
      "20 is not a prime number\n",
      "21 is a prime number\n",
      "22 is not a prime number\n",
      "23 is a prime number\n",
      "24 is not a prime number\n",
      "25 is a prime number\n",
      "26 is not a prime number\n",
      "27 is a prime number\n",
      "28 is not a prime number\n",
      "29 is a prime number\n",
      "30 is not a prime number\n",
      "31 is a prime number\n",
      "32 is not a prime number\n",
      "33 is a prime number\n",
      "34 is not a prime number\n",
      "35 is a prime number\n",
      "36 is not a prime number\n",
      "37 is a prime number\n",
      "38 is not a prime number\n",
      "39 is a prime number\n",
      "40 is not a prime number\n",
      "41 is a prime number\n",
      "42 is not a prime number\n",
      "43 is a prime number\n",
      "44 is not a prime number\n",
      "45 is a prime number\n",
      "46 is not a prime number\n",
      "47 is a prime number\n",
      "48 is not a prime number\n",
      "49 is a prime number\n"
     ]
    }
   ],
   "source": [
    "for i in range(10,50):\n",
    "    if i%2!=0:\n",
    "        print(f'{i} is a prime number')\n",
    "    else:\n",
    "        print(f'{i} is not a prime number')"
   ]
  },
  {
   "cell_type": "code",
   "execution_count": 32,
   "id": "6d4e78cd-cf0c-4938-8ebc-adddf442873d",
   "metadata": {},
   "outputs": [
    {
     "name": "stdout",
     "output_type": "stream",
     "text": [
      "11 is a prime number\n",
      "13 is a prime number\n",
      "15 is a prime number\n",
      "17 is a prime number\n",
      "19 is a prime number\n",
      "21 is a prime number\n",
      "23 is a prime number\n",
      "25 is a prime number\n",
      "27 is a prime number\n",
      "29 is a prime number\n",
      "31 is a prime number\n",
      "33 is a prime number\n",
      "35 is a prime number\n",
      "37 is a prime number\n",
      "39 is a prime number\n",
      "41 is a prime number\n",
      "43 is a prime number\n",
      "45 is a prime number\n",
      "47 is a prime number\n",
      "49 is a prime number\n"
     ]
    }
   ],
   "source": [
    "for i in range(10,50):\n",
    "    if i%2!=0:\n",
    "        print(f'{i} is a prime number')"
   ]
  },
  {
   "cell_type": "code",
   "execution_count": 33,
   "id": "0936cda1-373c-4ed7-859b-af108d9a405b",
   "metadata": {},
   "outputs": [
    {
     "name": "stdout",
     "output_type": "stream",
     "text": [
      "10 is not a prime number\n",
      "12 is not a prime number\n",
      "14 is not a prime number\n",
      "16 is not a prime number\n",
      "18 is not a prime number\n",
      "20 is not a prime number\n",
      "22 is not a prime number\n",
      "24 is not a prime number\n",
      "26 is not a prime number\n",
      "28 is not a prime number\n",
      "30 is not a prime number\n",
      "32 is not a prime number\n",
      "34 is not a prime number\n",
      "36 is not a prime number\n",
      "38 is not a prime number\n",
      "40 is not a prime number\n",
      "42 is not a prime number\n",
      "44 is not a prime number\n",
      "46 is not a prime number\n",
      "48 is not a prime number\n"
     ]
    }
   ],
   "source": [
    "for i in range(10,50):\n",
    "    if i%2!=1:\n",
    "        print(f'{i} is not a prime number')"
   ]
  },
  {
   "cell_type": "code",
   "execution_count": 37,
   "id": "7f815054-1fbe-46f7-beb7-88541d254199",
   "metadata": {},
   "outputs": [
    {
     "name": "stdout",
     "output_type": "stream",
     "text": [
      "12\n",
      "14\n",
      "16\n",
      "18\n",
      "20\n"
     ]
    }
   ],
   "source": [
    "numbers = [2,4,6,8,10,12,14,16,18,20]\n",
    "for num in numbers:\n",
    "    if num > 10 and num % 2 == 0:\n",
    "        print(num)"
   ]
  },
  {
   "cell_type": "code",
   "execution_count": null,
   "id": "aaa7f995-89cb-4f91-90bf-6a1caceabfd7",
   "metadata": {},
   "outputs": [],
   "source": []
  }
 ],
 "metadata": {
  "kernelspec": {
   "display_name": "Python 3 (ipykernel)",
   "language": "python",
   "name": "python3"
  },
  "language_info": {
   "codemirror_mode": {
    "name": "ipython",
    "version": 3
   },
   "file_extension": ".py",
   "mimetype": "text/x-python",
   "name": "python",
   "nbconvert_exporter": "python",
   "pygments_lexer": "ipython3",
   "version": "3.12.7"
  }
 },
 "nbformat": 4,
 "nbformat_minor": 5
}
