{
 "cells": [
  {
   "cell_type": "code",
   "execution_count": 2,
   "id": "6690f955-6b0a-43f3-b366-6a2de67a6b89",
   "metadata": {},
   "outputs": [],
   "source": [
    "def greet_user():\n",
    "    name = input(\"Please enter your name: \")\n",
    "    print(f\"Hello, {name} ! Nice to meet you.\")    "
   ]
  },
  {
   "cell_type": "code",
   "execution_count": 3,
   "id": "55ee56e3-6fba-43ba-ba76-a72c0b75cd4c",
   "metadata": {},
   "outputs": [
    {
     "name": "stdin",
     "output_type": "stream",
     "text": [
      "Please enter your name:  sanjana\n"
     ]
    },
    {
     "name": "stdout",
     "output_type": "stream",
     "text": [
      "Hello, sanjana ! Nice to meet you.\n"
     ]
    }
   ],
   "source": [
    "greet_user()"
   ]
  },
  {
   "cell_type": "code",
   "execution_count": 6,
   "id": "6d029198-425d-460e-90a5-125bf80a606d",
   "metadata": {},
   "outputs": [],
   "source": [
    "# Example \n",
    "def func(name, age, gender):\n",
    "    print(f\"hello my name is {name} my age is {age} my gender is {gender}\")"
   ]
  },
  {
   "cell_type": "code",
   "execution_count": 7,
   "id": "51ac33db-ba4f-423a-af66-21ea37b4a179",
   "metadata": {},
   "outputs": [
    {
     "name": "stdout",
     "output_type": "stream",
     "text": [
      "hello my name is sanjana my age is 21 my gender is Female\n"
     ]
    }
   ],
   "source": [
    "func(age = 21, name = \"sanjana\", gender = \"Female\")"
   ]
  },
  {
   "cell_type": "code",
   "execution_count": 8,
   "id": "1ce66c2f-8a02-4a05-b16b-b7e81a88302d",
   "metadata": {},
   "outputs": [
    {
     "name": "stdout",
     "output_type": "stream",
     "text": [
      "hello my name is raj my age is 30 my gender is male\n"
     ]
    }
   ],
   "source": [
    "func(\"raj\",30,\"male\")"
   ]
  },
  {
   "cell_type": "code",
   "execution_count": 9,
   "id": "37ddc976-0922-43d7-9151-67c108ac4aeb",
   "metadata": {},
   "outputs": [
    {
     "name": "stdout",
     "output_type": "stream",
     "text": [
      "hello my name is pooja my age is 22 my gender is female\n"
     ]
    }
   ],
   "source": [
    "func(gender = \"female\", name =\"pooja\", age = 22)"
   ]
  },
  {
   "cell_type": "code",
   "execution_count": 15,
   "id": "7a5b758a-12ec-40d7-851b-1713ed31466d",
   "metadata": {},
   "outputs": [],
   "source": [
    "# Example with Default Arguments\n",
    "def book_flight(departure, Destination, set_class = \"Economy\", meal_pref = \"Standard\"):\n",
    "    print(f\"Booking a flight from {departure} to {Destination} in {set_class} class with a {meal_pref} meal.\")"
   ]
  },
  {
   "cell_type": "code",
   "execution_count": 16,
   "id": "742ec98f-8b78-487f-b5a4-52628fcf979b",
   "metadata": {},
   "outputs": [
    {
     "name": "stdout",
     "output_type": "stream",
     "text": [
      "Booking a flight from New York to london in Economy class with a Standard meal.\n"
     ]
    }
   ],
   "source": [
    "book_flight(departure = \"New York\", Destination = \"london\")"
   ]
  },
  {
   "cell_type": "code",
   "execution_count": null,
   "id": "261e1daf-d66c-4e11-a194-2b4fffd84f3e",
   "metadata": {},
   "outputs": [],
   "source": [
    "*args: syntax is used to pass a variable number of positional arguments to a function . when *args is used"
   ]
  },
  {
   "cell_type": "code",
   "execution_count": 19,
   "id": "fa77441a-8f7a-4f9d-9ec2-dbeb2e49fdc3",
   "metadata": {},
   "outputs": [],
   "source": [
    "# *arr\n",
    "def func20(*num):\n",
    "    z = num[0]+num[1]+num[2]+num[3]\n",
    "    print(z)"
   ]
  },
  {
   "cell_type": "code",
   "execution_count": 20,
   "id": "f8e7eb07-fdac-41d5-9dd4-f528fcf0988d",
   "metadata": {},
   "outputs": [
    {
     "name": "stdout",
     "output_type": "stream",
     "text": [
      "100\n"
     ]
    }
   ],
   "source": [
    "func20(10,20,30,40)"
   ]
  },
  {
   "cell_type": "code",
   "execution_count": 22,
   "id": "66419f96-a78d-49fa-835c-855de04e28e3",
   "metadata": {},
   "outputs": [],
   "source": [
    "def func10(*num):\n",
    "    z = num[0]+num[1]+num[2]\n",
    "    print(z)"
   ]
  },
  {
   "cell_type": "code",
   "execution_count": 23,
   "id": "fa4e9118-d453-49d0-8c58-6fbf308779b2",
   "metadata": {},
   "outputs": [
    {
     "name": "stdout",
     "output_type": "stream",
     "text": [
      "18\n"
     ]
    }
   ],
   "source": [
    "func10(5,6,7,8,9,2)"
   ]
  },
  {
   "cell_type": "code",
   "execution_count": 24,
   "id": "ecbf640c-f5bc-4e36-95d6-9afdde400a46",
   "metadata": {},
   "outputs": [],
   "source": [
    "# Example for adding a numbers \n",
    "def add_numbers(*a):\n",
    "    x = sum(a)\n",
    "    print(x)"
   ]
  },
  {
   "cell_type": "code",
   "execution_count": 27,
   "id": "377c4da1-b584-4d2b-ba18-531d7f434c37",
   "metadata": {},
   "outputs": [
    {
     "name": "stdout",
     "output_type": "stream",
     "text": [
      "13\n"
     ]
    },
    {
     "data": {
      "text/plain": [
       "function"
      ]
     },
     "execution_count": 27,
     "metadata": {},
     "output_type": "execute_result"
    }
   ],
   "source": [
    "add_numbers(2,4,7)\n",
    "type(add_numbers)"
   ]
  },
  {
   "cell_type": "code",
   "execution_count": 31,
   "id": "fc9960c2-6163-43ad-85db-f701c2703daa",
   "metadata": {},
   "outputs": [],
   "source": [
    "# find teh maximum value \n",
    "def find_max(*args):\n",
    "    return max(args)"
   ]
  },
  {
   "cell_type": "code",
   "execution_count": 32,
   "id": "77a4b80d-c7ad-4536-8abf-431a0d16bb82",
   "metadata": {},
   "outputs": [
    {
     "name": "stdout",
     "output_type": "stream",
     "text": [
      "9\n"
     ]
    }
   ],
   "source": [
    "print(find_max(4,9,2,8,6))"
   ]
  },
  {
   "cell_type": "code",
   "execution_count": 33,
   "id": "78fd4045-6858-404c-9863-34446dafb7ad",
   "metadata": {},
   "outputs": [],
   "source": [
    "# Concatenate String\n",
    "def concatenate_string(*args):\n",
    "    return \" \".join(args)"
   ]
  },
  {
   "cell_type": "code",
   "execution_count": 34,
   "id": "84924690-88b9-4df2-8b77-925e16c87b32",
   "metadata": {},
   "outputs": [
    {
     "data": {
      "text/plain": [
       "'Hello world !'"
      ]
     },
     "execution_count": 34,
     "metadata": {},
     "output_type": "execute_result"
    }
   ],
   "source": [
    "concatenate_string(\"Hello\",\"world\",\"!\")"
   ]
  },
  {
   "cell_type": "code",
   "execution_count": 35,
   "id": "0646661f-8e0e-4d0c-ac98-8058a776be88",
   "metadata": {},
   "outputs": [],
   "source": [
    "def concatinate_string(*args):\n",
    "    return \" \".join(args)"
   ]
  },
  {
   "cell_type": "code",
   "execution_count": 37,
   "id": "533eb663-de73-4360-87ee-413dc38f0d49",
   "metadata": {},
   "outputs": [
    {
     "data": {
      "text/plain": [
       "'welcome to the python programming'"
      ]
     },
     "execution_count": 37,
     "metadata": {},
     "output_type": "execute_result"
    }
   ],
   "source": [
    "concatinate_string(\"welcome\",\"to\",\"the\",\"python\",\"programming\")"
   ]
  },
  {
   "cell_type": "markdown",
   "id": "b9002014-1e5d-412f-b562-788fc2db6d68",
   "metadata": {},
   "source": [
    "### *kwargs: Arbitray key arguments "
   ]
  },
  {
   "cell_type": "code",
   "execution_count": 45,
   "id": "89add2d0-65e0-4114-b8ca-9f7e8d03d1b4",
   "metadata": {},
   "outputs": [],
   "source": [
    "def fun(**a):\n",
    "    print(type(a))\n",
    "    for i,j in a.items():\n",
    "        print(f\"this is a key {i} this is a value {j}\")"
   ]
  },
  {
   "cell_type": "code",
   "execution_count": 46,
   "id": "7c957251-a5ad-4356-8d52-c052775d8c22",
   "metadata": {},
   "outputs": [
    {
     "name": "stdout",
     "output_type": "stream",
     "text": [
      "<class 'dict'>\n",
      "this is a key name this is a value sanjana\n",
      "this is a key age this is a value 21\n"
     ]
    }
   ],
   "source": [
    "fun(name = \"sanjana\", age = 21)"
   ]
  },
  {
   "cell_type": "markdown",
   "id": "67abcd54-bf81-4d23-a643-b5b5c9e10ce8",
   "metadata": {},
   "source": [
    "### Types of Varibales in Functions"
   ]
  },
  {
   "cell_type": "markdown",
   "id": "92dee95b-e4b0-42e9-a280-966e95df1bf9",
   "metadata": {},
   "source": [
    "Local Variables:\n",
    " variables thata are declared inside a function and can only be accesed with in a function \n",
    " they exist only while the function is being executed and are destroy once in the funcation "
   ]
  },
  {
   "cell_type": "markdown",
   "id": "403a67ed-819b-4885-ad13-ee2a8c441447",
   "metadata": {},
   "source": [
    "Global function:\n",
    " Variable declared outside a function and can be accessed both inside and outside any function\n",
    " Global Variable are accessible throught the program"
   ]
  },
  {
   "cell_type": "markdown",
   "id": "9872cd30-c8b4-4121-a17c-63b85cd15763",
   "metadata": {},
   "source": [
    "### Nested Function"
   ]
  },
  {
   "cell_type": "code",
   "execution_count": null,
   "id": "63817850-edf8-442d-90ee-21ac37c75d93",
   "metadata": {},
   "outputs": [],
   "source": [
    "A Nested function is a function defined inside another function."
   ]
  },
  {
   "cell_type": "code",
   "execution_count": 55,
   "id": "41129285-b1da-4a15-9c45-42275274380e",
   "metadata": {},
   "outputs": [
    {
     "name": "stdout",
     "output_type": "stream",
     "text": [
      "Hello\n",
      "World\n"
     ]
    }
   ],
   "source": [
    "def outer_fun():\n",
    "    print(\"Hello\")\n",
    "def inner_fun():\n",
    "        print(\"World\")\n",
    "\n",
    "\n",
    "outer_fun()\n",
    "inner_fun()\n"
   ]
  },
  {
   "cell_type": "markdown",
   "id": "edaf15e9-0f80-49d3-bd6c-bec5c68bb797",
   "metadata": {},
   "source": [
    "### Deleting a Function "
   ]
  },
  {
   "cell_type": "code",
   "execution_count": 50,
   "id": "eebc34d7-0a51-473b-8e99-d17407e5ccf3",
   "metadata": {},
   "outputs": [],
   "source": [
    "def my_function():\n",
    "    print(\"Hello, World!\")"
   ]
  },
  {
   "cell_type": "code",
   "execution_count": 51,
   "id": "a117f64f-9a00-43ba-bbf7-e96900dee7b3",
   "metadata": {},
   "outputs": [
    {
     "name": "stdout",
     "output_type": "stream",
     "text": [
      "Hello, World!\n"
     ]
    }
   ],
   "source": [
    "my_function()"
   ]
  },
  {
   "cell_type": "code",
   "execution_count": 52,
   "id": "dc3ebaf9-1a37-4eb5-9466-e348ce16436f",
   "metadata": {},
   "outputs": [],
   "source": [
    "del my_function"
   ]
  },
  {
   "cell_type": "code",
   "execution_count": 53,
   "id": "0f30dddf-3c98-40ad-adbd-26fe0f4e20da",
   "metadata": {},
   "outputs": [
    {
     "ename": "NameError",
     "evalue": "name 'my_function' is not defined",
     "output_type": "error",
     "traceback": [
      "\u001b[1;31m---------------------------------------------------------------------------\u001b[0m",
      "\u001b[1;31mNameError\u001b[0m                                 Traceback (most recent call last)",
      "Cell \u001b[1;32mIn[53], line 1\u001b[0m\n\u001b[1;32m----> 1\u001b[0m my_function()\n",
      "\u001b[1;31mNameError\u001b[0m: name 'my_function' is not defined"
     ]
    }
   ],
   "source": [
    "my_function()"
   ]
  },
  {
   "cell_type": "markdown",
   "id": "3492f1f3-6f22-4457-bb75-86194a8efb88",
   "metadata": {},
   "source": [
    "### Lambda Function in python"
   ]
  },
  {
   "cell_type": "code",
   "execution_count": 59,
   "id": "d5bdebc7-a54a-4dad-b81f-5c1008377e41",
   "metadata": {},
   "outputs": [],
   "source": [
    "ba = lambda a,b,c : a+b+c"
   ]
  },
  {
   "cell_type": "code",
   "execution_count": 60,
   "id": "b881a8c2-cf7c-46b0-b979-e6071aa7640a",
   "metadata": {},
   "outputs": [
    {
     "data": {
      "text/plain": [
       "90"
      ]
     },
     "execution_count": 60,
     "metadata": {},
     "output_type": "execute_result"
    }
   ],
   "source": [
    "ba(20,30,40)"
   ]
  },
  {
   "cell_type": "code",
   "execution_count": 63,
   "id": "5e43426b-912e-4f4d-bf2b-71e78008055e",
   "metadata": {},
   "outputs": [],
   "source": [
    "a = lambda c : c*20"
   ]
  },
  {
   "cell_type": "code",
   "execution_count": 64,
   "id": "f78d9f77-83c4-4731-b371-f8089edc9883",
   "metadata": {},
   "outputs": [
    {
     "data": {
      "text/plain": [
       "40"
      ]
     },
     "execution_count": 64,
     "metadata": {},
     "output_type": "execute_result"
    }
   ],
   "source": [
    "a(2)"
   ]
  }
 ],
 "metadata": {
  "kernelspec": {
   "display_name": "Python 3 (ipykernel)",
   "language": "python",
   "name": "python3"
  },
  "language_info": {
   "codemirror_mode": {
    "name": "ipython",
    "version": 3
   },
   "file_extension": ".py",
   "mimetype": "text/x-python",
   "name": "python",
   "nbconvert_exporter": "python",
   "pygments_lexer": "ipython3",
   "version": "3.12.7"
  }
 },
 "nbformat": 4,
 "nbformat_minor": 5
}
