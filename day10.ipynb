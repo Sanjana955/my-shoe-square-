{
 "cells": [
  {
   "cell_type": "markdown",
   "id": "5c8e46fc-aa32-400f-840c-32312e706d5b",
   "metadata": {},
   "source": [
    "List Methods"
   ]
  },
  {
   "cell_type": "code",
   "execution_count": 3,
   "id": "320c06d6-1558-40a2-a96d-b910c6f3294f",
   "metadata": {},
   "outputs": [],
   "source": [
    "# append (items) : adds an item to the end of the list (add only 1 elements)\n",
    "\n",
    "fruits = [\"apple\", \"banana\"]\n",
    "fruits.append(\"cherry\")"
   ]
  },
  {
   "cell_type": "code",
   "execution_count": 4,
   "id": "2294b084-e27d-4359-8016-6ccfefe3f2ce",
   "metadata": {},
   "outputs": [],
   "source": [
    "fruits = [\"apple\",\"banana\"]"
   ]
  },
  {
   "cell_type": "code",
   "execution_count": 12,
   "id": "e54b393d-7acd-455b-b61c-577f9858147f",
   "metadata": {},
   "outputs": [],
   "source": [
    "fruits.append(\"orange\")"
   ]
  },
  {
   "cell_type": "code",
   "execution_count": 13,
   "id": "1f9c9c57-acc2-4127-9dbc-771fed4f37b2",
   "metadata": {},
   "outputs": [
    {
     "data": {
      "text/plain": [
       "['apple', 'banana', 1, 23, 56, 8, 9, 'orange']"
      ]
     },
     "execution_count": 13,
     "metadata": {},
     "output_type": "execute_result"
    }
   ],
   "source": [
    "fruits"
   ]
  },
  {
   "cell_type": "code",
   "execution_count": 14,
   "id": "2e66d887-5ce5-4d21-bff7-9e2f6d95c4b3",
   "metadata": {},
   "outputs": [],
   "source": [
    "# Extends\n",
    "\n",
    "fruits = [\"apple\", \"banana\"]\n",
    "more_fruits =[\"cherry\",\"date\"]\n",
    "fruits.extend(more_fruits)"
   ]
  },
  {
   "cell_type": "code",
   "execution_count": 15,
   "id": "bd3abc6d-20e5-4b04-aea0-2a882895a5fc",
   "metadata": {},
   "outputs": [],
   "source": [
    "fruits = [\"apple\",\"banana\"]"
   ]
  },
  {
   "cell_type": "code",
   "execution_count": 16,
   "id": "2f6582c3-eff6-44d1-bac2-477fd9abea85",
   "metadata": {},
   "outputs": [],
   "source": [
    "fruits.extend([1,23,56,8,9])"
   ]
  },
  {
   "cell_type": "code",
   "execution_count": 17,
   "id": "76aa7ccc-b52b-4b36-888b-98c155bbc132",
   "metadata": {},
   "outputs": [
    {
     "data": {
      "text/plain": [
       "['apple', 'banana', 1, 23, 56, 8, 9]"
      ]
     },
     "execution_count": 17,
     "metadata": {},
     "output_type": "execute_result"
    }
   ],
   "source": [
    "fruits"
   ]
  },
  {
   "cell_type": "markdown",
   "id": "6eea0749-5118-49ab-acbb-0e076c2d332b",
   "metadata": {},
   "source": [
    "insert : insert an item at a specific position in the list "
   ]
  },
  {
   "cell_type": "code",
   "execution_count": 26,
   "id": "c203dc24-e239-4ee0-b7e0-379f136027a8",
   "metadata": {},
   "outputs": [],
   "source": [
    "fruits = ['apple','banana']\n",
    "fruits.insert(1,'cherey')"
   ]
  },
  {
   "cell_type": "code",
   "execution_count": 27,
   "id": "b22b8373-0f85-4293-9092-285d7b39d8ac",
   "metadata": {},
   "outputs": [],
   "source": [
    "fruits.insert(2,60)"
   ]
  },
  {
   "cell_type": "code",
   "execution_count": 28,
   "id": "391d16ca-480b-4420-b62e-2e00fbb5fb9b",
   "metadata": {},
   "outputs": [
    {
     "data": {
      "text/plain": [
       "['apple', 'cherey', 60, 'banana']"
      ]
     },
     "execution_count": 28,
     "metadata": {},
     "output_type": "execute_result"
    }
   ],
   "source": [
    "fruits"
   ]
  },
  {
   "cell_type": "markdown",
   "id": "b753d0a2-2d06-4d44-bea1-a0e4f3e1ea8e",
   "metadata": {},
   "source": [
    "remove : removea the first occurance  of an item from the list"
   ]
  },
  {
   "cell_type": "code",
   "execution_count": 30,
   "id": "0441096a-07a4-4e76-8bef-d37dad552e52",
   "metadata": {},
   "outputs": [],
   "source": [
    "fruits = ['apple','banana','cherry']\n",
    "fruits.remove('banana')"
   ]
  },
  {
   "cell_type": "code",
   "execution_count": null,
   "id": "6a7bb3a1-1e2c-4c6d-9334-99119db9e3c9",
   "metadata": {},
   "outputs": [],
   "source": [
    "fruits =['apple','banana','cherry','banana']"
   ]
  },
  {
   "cell_type": "code",
   "execution_count": 32,
   "id": "0f8f513c-d5fc-4cf5-b4c7-293b0af179d9",
   "metadata": {},
   "outputs": [],
   "source": [
    "fruits.remove('banana')"
   ]
  },
  {
   "cell_type": "code",
   "execution_count": 33,
   "id": "6f09f515-17ff-4587-8182-b3e5bc0902ef",
   "metadata": {},
   "outputs": [
    {
     "data": {
      "text/plain": [
       "['apple', 'cherry', 'banana']"
      ]
     },
     "execution_count": 33,
     "metadata": {},
     "output_type": "execute_result"
    }
   ],
   "source": [
    "fruits"
   ]
  },
  {
   "cell_type": "markdown",
   "id": "b04f16d5-6db6-4b14-89a1-f6b4b9c40781",
   "metadata": {},
   "source": [
    "pop"
   ]
  },
  {
   "cell_type": "code",
   "execution_count": 35,
   "id": "2959990b-6975-45e4-b272-3b7df5803fea",
   "metadata": {},
   "outputs": [],
   "source": [
    "fruits =['apple','banana','cherry']\n",
    "last_fruit = fruits.pop()"
   ]
  },
  {
   "cell_type": "code",
   "execution_count": 36,
   "id": "2293bba0-f545-407d-9b8c-b3082d3fa981",
   "metadata": {},
   "outputs": [],
   "source": [
    "fruits =['apple','banana','cherry']"
   ]
  },
  {
   "cell_type": "code",
   "execution_count": 37,
   "id": "0f63cf61-9e40-4f56-b024-4a596c5ed395",
   "metadata": {},
   "outputs": [
    {
     "data": {
      "text/plain": [
       "'cherry'"
      ]
     },
     "execution_count": 37,
     "metadata": {},
     "output_type": "execute_result"
    }
   ],
   "source": [
    "fruits.pop()"
   ]
  },
  {
   "cell_type": "code",
   "execution_count": 38,
   "id": "dba36a09-c6e4-4263-912d-6bfc3613e2a2",
   "metadata": {},
   "outputs": [
    {
     "data": {
      "text/plain": [
       "['apple', 'banana']"
      ]
     },
     "execution_count": 38,
     "metadata": {},
     "output_type": "execute_result"
    }
   ],
   "source": [
    "fruits"
   ]
  },
  {
   "cell_type": "code",
   "execution_count": 39,
   "id": "e30cc902-865b-493b-b56d-e46f88043905",
   "metadata": {},
   "outputs": [
    {
     "data": {
      "text/plain": [
       "'apple'"
      ]
     },
     "execution_count": 39,
     "metadata": {},
     "output_type": "execute_result"
    }
   ],
   "source": [
    "fruits.pop(0)"
   ]
  },
  {
   "cell_type": "markdown",
   "id": "981b4b28-5b98-4997-ba59-2be00257a03d",
   "metadata": {},
   "source": [
    "clear : remove all elements in teh list "
   ]
  },
  {
   "cell_type": "code",
   "execution_count": 40,
   "id": "ec80a214-302e-4ceb-816e-55118055a02e",
   "metadata": {},
   "outputs": [],
   "source": [
    "fruits = ['apple','banana','cherry']\n",
    "fruits.clear()"
   ]
  },
  {
   "cell_type": "code",
   "execution_count": 41,
   "id": "d42487de-8d77-40f5-93d6-35a5a83b6c57",
   "metadata": {},
   "outputs": [],
   "source": [
    "fruits.clear()"
   ]
  },
  {
   "cell_type": "code",
   "execution_count": 42,
   "id": "7298b8e5-a08d-4c64-8d71-90b5eca56689",
   "metadata": {},
   "outputs": [
    {
     "data": {
      "text/plain": [
       "[]"
      ]
     },
     "execution_count": 42,
     "metadata": {},
     "output_type": "execute_result"
    }
   ],
   "source": [
    "fruits"
   ]
  },
  {
   "cell_type": "markdown",
   "id": "b2c94a20-9f76-4dc6-ad37-e35655fe5a9a",
   "metadata": {},
   "source": [
    "index (item, start=0, end=len(list)"
   ]
  },
  {
   "cell_type": "code",
   "execution_count": 43,
   "id": "3f825f88-59ce-4448-8247-ae7b67a45a9b",
   "metadata": {},
   "outputs": [],
   "source": [
    "fruits = ['apple','banana','cherry']\n",
    "index_of_cherry = fruits.index('cherry')"
   ]
  },
  {
   "cell_type": "code",
   "execution_count": 45,
   "id": "b5766af5-4c6c-4b4c-bb7d-1545056c9645",
   "metadata": {},
   "outputs": [],
   "source": [
    "fruits = ['apple','cherry','banana','cherry','cherry']"
   ]
  },
  {
   "cell_type": "code",
   "execution_count": 50,
   "id": "27b72f1e-7000-4759-844b-0cdd6853ac36",
   "metadata": {},
   "outputs": [
    {
     "data": {
      "text/plain": [
       "1"
      ]
     },
     "execution_count": 50,
     "metadata": {},
     "output_type": "execute_result"
    }
   ],
   "source": [
    "fruits.index('cherry')"
   ]
  },
  {
   "cell_type": "markdown",
   "id": "eef5bae2-f2d7-4893-ba5e-824bcbecba02",
   "metadata": {},
   "source": [
    "count()"
   ]
  },
  {
   "cell_type": "code",
   "execution_count": 54,
   "id": "3b39b7f4-282a-4656-8409-3faa9185ddc2",
   "metadata": {},
   "outputs": [],
   "source": [
    "fruits = ['apple','banana','cherry','banana']\n",
    "banana_count = fruits.count('banana')"
   ]
  },
  {
   "cell_type": "code",
   "execution_count": 55,
   "id": "03e00690-a11e-4b6b-9b4c-766c71eabaf6",
   "metadata": {},
   "outputs": [],
   "source": [
    "fruits = ['apple','cherry','banana','banana','banana']"
   ]
  },
  {
   "cell_type": "code",
   "execution_count": 56,
   "id": "7ea356cf-74ef-4235-b8c9-11bbc24348c1",
   "metadata": {},
   "outputs": [
    {
     "data": {
      "text/plain": [
       "3"
      ]
     },
     "execution_count": 56,
     "metadata": {},
     "output_type": "execute_result"
    }
   ],
   "source": [
    "fruits.count('banana')"
   ]
  },
  {
   "cell_type": "code",
   "execution_count": null,
   "id": "5a2d162e-1436-4473-b16a-580725365a48",
   "metadata": {},
   "outputs": [],
   "source": [
    "sort "
   ]
  },
  {
   "cell_type": "code",
   "execution_count": 57,
   "id": "3f5ec92c-9db2-4e75-b147-c88bade5f78f",
   "metadata": {},
   "outputs": [],
   "source": [
    "number = [3,1,4,1,5,9]\n",
    "number.sort()"
   ]
  },
  {
   "cell_type": "code",
   "execution_count": 59,
   "id": "137071b6-ed66-4067-a4e1-a58b18083d1d",
   "metadata": {},
   "outputs": [
    {
     "data": {
      "text/plain": [
       "[1, 1, 3, 4, 5, 9]"
      ]
     },
     "execution_count": 59,
     "metadata": {},
     "output_type": "execute_result"
    }
   ],
   "source": [
    "number"
   ]
  },
  {
   "cell_type": "code",
   "execution_count": 60,
   "id": "d7f97204-fdcc-4852-bb36-ec4e1474e9c4",
   "metadata": {},
   "outputs": [],
   "source": [
    "number.sort(reverse = True)   # it gives decending order "
   ]
  },
  {
   "cell_type": "code",
   "execution_count": 61,
   "id": "dec62282-3f33-460e-9362-fe11eeef3150",
   "metadata": {},
   "outputs": [
    {
     "data": {
      "text/plain": [
       "[9, 5, 4, 3, 1, 1]"
      ]
     },
     "execution_count": 61,
     "metadata": {},
     "output_type": "execute_result"
    }
   ],
   "source": [
    "number"
   ]
  },
  {
   "cell_type": "code",
   "execution_count": 62,
   "id": "26b57d37-2818-4a10-b78e-3b00b1f5fdb0",
   "metadata": {},
   "outputs": [],
   "source": [
    "# reverse \n",
    "fruits = ['apple','banana','cherry']\n",
    "fruits.reverse()"
   ]
  },
  {
   "cell_type": "code",
   "execution_count": 63,
   "id": "78a03765-cc77-41ec-9d33-71fd329a4963",
   "metadata": {},
   "outputs": [
    {
     "data": {
      "text/plain": [
       "['cherry', 'banana', 'apple']"
      ]
     },
     "execution_count": 63,
     "metadata": {},
     "output_type": "execute_result"
    }
   ],
   "source": [
    "fruits"
   ]
  },
  {
   "cell_type": "code",
   "execution_count": 69,
   "id": "6cf29278-342c-47db-870f-c584b2bb4f58",
   "metadata": {},
   "outputs": [
    {
     "data": {
      "text/plain": [
       "'apple + banana + cherry'"
      ]
     },
     "execution_count": 69,
     "metadata": {},
     "output_type": "execute_result"
    }
   ],
   "source": [
    "# join()\n",
    "\n",
    "fruits = ['apple','banana','cherry']\n",
    "fruit_string = ' + ' .join(fruits)\n",
    "fruit_string"
   ]
  },
  {
   "cell_type": "code",
   "execution_count": 70,
   "id": "e0ffcfbc-324b-495a-8cf0-bca501e8184d",
   "metadata": {},
   "outputs": [
    {
     "data": {
      "text/plain": [
       "9"
      ]
     },
     "execution_count": 70,
     "metadata": {},
     "output_type": "execute_result"
    }
   ],
   "source": [
    "# max() ----------------> important\n",
    "\n",
    "numbers =  [4,5,2,9]\n",
    "max(numbers)"
   ]
  },
  {
   "cell_type": "code",
   "execution_count": 73,
   "id": "0016fd8e-0967-4910-925f-94b0adfdf420",
   "metadata": {},
   "outputs": [
    {
     "data": {
      "text/plain": [
       "2"
      ]
     },
     "execution_count": 73,
     "metadata": {},
     "output_type": "execute_result"
    }
   ],
   "source": [
    "numbers =  [4,5,2,9]\n",
    "min(numbers)"
   ]
  },
  {
   "cell_type": "markdown",
   "id": "1c447919-e068-437d-b534-ba70c3a5ad45",
   "metadata": {},
   "source": [
    "sum()"
   ]
  },
  {
   "cell_type": "code",
   "execution_count": 74,
   "id": "a0174f69-1a9d-445d-b2ea-00533d713a33",
   "metadata": {},
   "outputs": [],
   "source": [
    "numbers =  [4,5,2,9]\n",
    "total = sum(numbers)"
   ]
  },
  {
   "cell_type": "code",
   "execution_count": 76,
   "id": "cc6eea47-6896-4251-a28f-6065b66c9a6d",
   "metadata": {},
   "outputs": [
    {
     "data": {
      "text/plain": [
       "20"
      ]
     },
     "execution_count": 76,
     "metadata": {},
     "output_type": "execute_result"
    }
   ],
   "source": [
    "total"
   ]
  },
  {
   "cell_type": "markdown",
   "id": "42bf6a19-54a6-476d-9f41-fcb9b4d99079",
   "metadata": {},
   "source": [
    "len() : returns the numbers of elemnts "
   ]
  },
  {
   "cell_type": "code",
   "execution_count": 78,
   "id": "1e38448b-9eeb-4232-9bef-913045ba638c",
   "metadata": {},
   "outputs": [
    {
     "data": {
      "text/plain": [
       "5"
      ]
     },
     "execution_count": 78,
     "metadata": {},
     "output_type": "execute_result"
    }
   ],
   "source": [
    "fruits = ['apple','banana','cherry','kiwi','papaya']\n",
    "len(fruits)"
   ]
  },
  {
   "cell_type": "markdown",
   "id": "7891a037-0da5-4278-a307-82770a2399b6",
   "metadata": {},
   "source": [
    "all()"
   ]
  },
  {
   "cell_type": "code",
   "execution_count": 79,
   "id": "dca296a8-3541-4d94-b47d-b43a206ceef2",
   "metadata": {},
   "outputs": [
    {
     "data": {
      "text/plain": [
       "False"
      ]
     },
     "execution_count": 79,
     "metadata": {},
     "output_type": "execute_result"
    }
   ],
   "source": [
    "bool_list = [True, True, False]\n",
    "all(bool_list)"
   ]
  },
  {
   "cell_type": "code",
   "execution_count": 80,
   "id": "8ccb396a-e9a2-430d-bbdf-e810d8233d7a",
   "metadata": {},
   "outputs": [
    {
     "data": {
      "text/plain": [
       "True"
      ]
     },
     "execution_count": 80,
     "metadata": {},
     "output_type": "execute_result"
    }
   ],
   "source": [
    "all(numbers)"
   ]
  },
  {
   "cell_type": "markdown",
   "id": "cd60db82-d189-41bc-9e2a-c5f1ae90d16c",
   "metadata": {},
   "source": [
    "any()"
   ]
  },
  {
   "cell_type": "code",
   "execution_count": 81,
   "id": "998ba092-0ead-4a37-9736-f4f0f89fe2c8",
   "metadata": {},
   "outputs": [
    {
     "data": {
      "text/plain": [
       "True"
      ]
     },
     "execution_count": 81,
     "metadata": {},
     "output_type": "execute_result"
    }
   ],
   "source": [
    "bool_list = [True, False, False]\n",
    "any(bool_list)"
   ]
  },
  {
   "cell_type": "markdown",
   "id": "3fab590a-b8d8-4c1a-be25-cc4e4181a06d",
   "metadata": {},
   "source": [
    "del "
   ]
  },
  {
   "cell_type": "code",
   "execution_count": null,
   "id": "125604c2-56db-4d0c-bf73-2bdfc5687936",
   "metadata": {},
   "outputs": [],
   "source": [
    "sorted ()"
   ]
  },
  {
   "cell_type": "code",
   "execution_count": 84,
   "id": "441b11b6-56d5-4c15-b522-53779ffecf49",
   "metadata": {},
   "outputs": [
    {
     "data": {
      "text/plain": [
       "[3, 1, 4, 1, 5]"
      ]
     },
     "execution_count": 84,
     "metadata": {},
     "output_type": "execute_result"
    }
   ],
   "source": [
    "numbers = [3,1,4,1,5]\n",
    "numbers"
   ]
  },
  {
   "cell_type": "code",
   "execution_count": 85,
   "id": "749573b4-fff8-430d-8c25-23944d7aacf8",
   "metadata": {},
   "outputs": [],
   "source": [
    "numbers.sort()"
   ]
  },
  {
   "cell_type": "code",
   "execution_count": 86,
   "id": "aab9706b-3e9e-4aab-9fef-40e8fd7a9efd",
   "metadata": {},
   "outputs": [
    {
     "data": {
      "text/plain": [
       "[1, 1, 3, 4, 5]"
      ]
     },
     "execution_count": 86,
     "metadata": {},
     "output_type": "execute_result"
    }
   ],
   "source": [
    "numbers"
   ]
  },
  {
   "cell_type": "code",
   "execution_count": 87,
   "id": "74d2df24-3eae-468c-9f83-7d86778230a2",
   "metadata": {},
   "outputs": [],
   "source": [
    "a = [9,8,7,6,4,1]"
   ]
  },
  {
   "cell_type": "code",
   "execution_count": 88,
   "id": "163b8f7b-a0b3-460a-9441-dd2c4a2ff84b",
   "metadata": {},
   "outputs": [
    {
     "data": {
      "text/plain": [
       "[1, 4, 6, 7, 8, 9]"
      ]
     },
     "execution_count": 88,
     "metadata": {},
     "output_type": "execute_result"
    }
   ],
   "source": [
    "sorted(a)"
   ]
  },
  {
   "cell_type": "code",
   "execution_count": null,
   "id": "e142b58d-ba32-4725-ac54-029b57be4739",
   "metadata": {},
   "outputs": [],
   "source": [
    "list comprehence in python"
   ]
  },
  {
   "cell_type": "code",
   "execution_count": 104,
   "id": "01d2f5b8-d739-4c44-b96b-54082431c8de",
   "metadata": {},
   "outputs": [],
   "source": [
    "square = []\n",
    "for i in range (1,7):\n",
    "    squares.append(i**2)"
   ]
  },
  {
   "cell_type": "code",
   "execution_count": 105,
   "id": "c0d82ded-1466-494f-b0db-3babe36e3fc7",
   "metadata": {},
   "outputs": [],
   "source": [
    "squares = [i**2 for i in range(1,6)]"
   ]
  },
  {
   "cell_type": "code",
   "execution_count": 106,
   "id": "dbbd75cf-454d-4146-9aed-4bbad7fb593b",
   "metadata": {},
   "outputs": [
    {
     "data": {
      "text/plain": [
       "[1, 4, 9, 16, 25]"
      ]
     },
     "execution_count": 106,
     "metadata": {},
     "output_type": "execute_result"
    }
   ],
   "source": [
    "squares"
   ]
  },
  {
   "cell_type": "markdown",
   "id": "54d5e28f-dbfb-468a-bdb7-d3649cbed147",
   "metadata": {},
   "source": [
    "list Comprehension with a condition "
   ]
  },
  {
   "cell_type": "code",
   "execution_count": 108,
   "id": "aea6463a-6473-4301-bf3e-d0d327ab61b4",
   "metadata": {},
   "outputs": [],
   "source": [
    "even_square =[] ---------------> using for loop with an if statment\n",
    "for i in range(1,11):\n",
    "    if i % 2 == 0:\n",
    "        even_square.append(i**2)"
   ]
  },
  {
   "cell_type": "code",
   "execution_count": 109,
   "id": "94feb5ca-b222-4033-aec8-5d7699ac59c3",
   "metadata": {},
   "outputs": [
    {
     "data": {
      "text/plain": [
       "[4, 16, 36, 64, 100]"
      ]
     },
     "execution_count": 109,
     "metadata": {},
     "output_type": "execute_result"
    }
   ],
   "source": [
    "even_square"
   ]
  },
  {
   "cell_type": "code",
   "execution_count": 111,
   "id": "0a075d61-b392-47f6-a576-3d4da4b6cc54",
   "metadata": {},
   "outputs": [],
   "source": [
    "even_square = [i**2 for i in range(1,11) if i % 2 == 0]   --------------> using list comprehension with a a condition:"
   ]
  },
  {
   "cell_type": "code",
   "execution_count": 112,
   "id": "6573be42-6b44-45c7-bdca-9bf4d0d05111",
   "metadata": {},
   "outputs": [
    {
     "data": {
      "text/plain": [
       "[4, 16, 36, 64, 100]"
      ]
     },
     "execution_count": 112,
     "metadata": {},
     "output_type": "execute_result"
    }
   ],
   "source": [
    "even_square"
   ]
  },
  {
   "cell_type": "code",
   "execution_count": 117,
   "id": "993824f1-2037-4632-818f-48c116305b6a",
   "metadata": {},
   "outputs": [
    {
     "data": {
      "text/plain": [
       "[('apple', 'red'), ('banana', 'yello'), ('cherry', 'green')]"
      ]
     },
     "execution_count": 117,
     "metadata": {},
     "output_type": "execute_result"
    }
   ],
   "source": [
    "#zip()\n",
    "\n",
    "fruits = ['apple','banana','cherry']\n",
    "color = ['red','yello','green']\n",
    "combined = list(zip(fruits,color))\n",
    "combined"
   ]
  },
  {
   "cell_type": "markdown",
   "id": "d381679a-4671-485f-80d4-c65b70834144",
   "metadata": {},
   "source": [
    "using nested for loop "
   ]
  },
  {
   "cell_type": "code",
   "execution_count": 6,
   "id": "37ef7d5c-0cdb-45e4-976c-6ec42c75b243",
   "metadata": {},
   "outputs": [
    {
     "data": {
      "text/plain": [
       "[[0, 0, 0], [0, 1, 2], [0, 2, 4]]"
      ]
     },
     "execution_count": 6,
     "metadata": {},
     "output_type": "execute_result"
    }
   ],
   "source": [
    "matrix = []\n",
    "for i in range(3):\n",
    "    row = []\n",
    "    for j in range(3):\n",
    "        row.append(i * j)\n",
    "    matrix.append(row)\n",
    "    \n",
    "matrix"
   ]
  },
  {
   "cell_type": "code",
   "execution_count": 3,
   "id": "1f6643d9-08cd-47ae-a0b6-58a7eb865f6b",
   "metadata": {},
   "outputs": [],
   "source": [
    "matrix = [[i * j for j in range(3)] for i in range(3)]            ----------> using nested list comprehension"
   ]
  },
  {
   "cell_type": "code",
   "execution_count": 4,
   "id": "b68dfb27-36d6-437f-ae81-4a0b4d3a2a73",
   "metadata": {},
   "outputs": [
    {
     "data": {
      "text/plain": [
       "[[0, 0, 0], [0, 1, 2], [0, 2, 4]]"
      ]
     },
     "execution_count": 4,
     "metadata": {},
     "output_type": "execute_result"
    }
   ],
   "source": [
    "matrix"
   ]
  },
  {
   "cell_type": "code",
   "execution_count": 12,
   "id": "fc97a09e-c587-4376-951d-b99eea48b784",
   "metadata": {},
   "outputs": [],
   "source": [
    "# Question \n",
    "tasks =[\"Wake up\",\"Brush teeth\",\"Go for a run\",\"start working\"]\n",
    "tasks.insert(2,\"Breakfast\")"
   ]
  },
  {
   "cell_type": "code",
   "execution_count": 13,
   "id": "b69e7a1d-1471-4f22-b304-e3e4d1735f92",
   "metadata": {},
   "outputs": [
    {
     "data": {
      "text/plain": [
       "['Wake up', 'Brush teeth', 'Breakfast', 'Go for a run', 'start working']"
      ]
     },
     "execution_count": 13,
     "metadata": {},
     "output_type": "execute_result"
    }
   ],
   "source": [
    "tasks"
   ]
  }
 ],
 "metadata": {
  "kernelspec": {
   "display_name": "Python 3 (ipykernel)",
   "language": "python",
   "name": "python3"
  },
  "language_info": {
   "codemirror_mode": {
    "name": "ipython",
    "version": 3
   },
   "file_extension": ".py",
   "mimetype": "text/x-python",
   "name": "python",
   "nbconvert_exporter": "python",
   "pygments_lexer": "ipython3",
   "version": "3.12.7"
  }
 },
 "nbformat": 4,
 "nbformat_minor": 5
}
