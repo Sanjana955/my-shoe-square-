{
 "cells": [
  {
   "cell_type": "markdown",
   "id": "79135dfa-3524-4954-be1f-af7f3c8cdbb7",
   "metadata": {},
   "source": [
    "## Class and Objects"
   ]
  },
  {
   "cell_type": "code",
   "execution_count": 1,
   "id": "f62f7304-51fb-4e8c-8757-d0e88f8f7655",
   "metadata": {},
   "outputs": [
    {
     "name": "stdout",
     "output_type": "stream",
     "text": [
      "<class 'str'>\n"
     ]
    }
   ],
   "source": [
    "a = \"hello world\"\n",
    "print(type(a))"
   ]
  },
  {
   "cell_type": "code",
   "execution_count": 2,
   "id": "f114d63e-f0be-48cc-97a2-78b863f0d460",
   "metadata": {},
   "outputs": [
    {
     "data": {
      "text/plain": [
       "'Hello world'"
      ]
     },
     "execution_count": 2,
     "metadata": {},
     "output_type": "execute_result"
    }
   ],
   "source": [
    "a.capitalize()"
   ]
  },
  {
   "cell_type": "code",
   "execution_count": 3,
   "id": "06b645c9-5d23-4ec1-8d6d-912eb48a2a12",
   "metadata": {},
   "outputs": [
    {
     "name": "stdout",
     "output_type": "stream",
     "text": [
      "<class 'int'>\n"
     ]
    }
   ],
   "source": [
    "l = [1,2,3]\n",
    "print(type(1))"
   ]
  },
  {
   "cell_type": "code",
   "execution_count": 4,
   "id": "1d7674c5-d79f-49b7-8671-6523ee6e2bf9",
   "metadata": {},
   "outputs": [
    {
     "data": {
      "text/plain": [
       "7"
      ]
     },
     "execution_count": 4,
     "metadata": {},
     "output_type": "execute_result"
    }
   ],
   "source": [
    "list1 = [1,2,3,4,5,6,7]\n",
    "len(list1)"
   ]
  },
  {
   "cell_type": "code",
   "execution_count": 5,
   "id": "a31b9a57-b78c-49a1-961c-d846818b933c",
   "metadata": {},
   "outputs": [
    {
     "data": {
      "text/plain": [
       "[1, 2, 3, 4, 5, 6, 7, 9]"
      ]
     },
     "execution_count": 5,
     "metadata": {},
     "output_type": "execute_result"
    }
   ],
   "source": [
    "list1.append(9)\n",
    "list1"
   ]
  },
  {
   "cell_type": "code",
   "execution_count": 6,
   "id": "fa349a20-851e-4b5c-b311-15f1a99ab20d",
   "metadata": {},
   "outputs": [
    {
     "data": {
      "text/plain": [
       "[1, 2, 3, 4, 5, 6, 7, 9, 22, 34, 18]"
      ]
     },
     "execution_count": 6,
     "metadata": {},
     "output_type": "execute_result"
    }
   ],
   "source": [
    "list1.extend([22,34,18])\n",
    "list1"
   ]
  },
  {
   "cell_type": "code",
   "execution_count": 7,
   "id": "96148510-377d-413d-bcba-c1484bb114e1",
   "metadata": {},
   "outputs": [
    {
     "data": {
      "text/plain": [
       "34"
      ]
     },
     "execution_count": 7,
     "metadata": {},
     "output_type": "execute_result"
    }
   ],
   "source": [
    "max(list1)"
   ]
  },
  {
   "cell_type": "code",
   "execution_count": 8,
   "id": "6c5af87b-d6d7-46cf-a194-000c2a772170",
   "metadata": {},
   "outputs": [
    {
     "data": {
      "text/plain": [
       "1"
      ]
     },
     "execution_count": 8,
     "metadata": {},
     "output_type": "execute_result"
    }
   ],
   "source": [
    "min(list1)"
   ]
  },
  {
   "cell_type": "code",
   "execution_count": 9,
   "id": "d7c4a032-d037-4d29-923c-928ada08386a",
   "metadata": {},
   "outputs": [
    {
     "data": {
      "text/plain": [
       "111"
      ]
     },
     "execution_count": 9,
     "metadata": {},
     "output_type": "execute_result"
    }
   ],
   "source": [
    "sum(list1)"
   ]
  },
  {
   "cell_type": "code",
   "execution_count": 67,
   "id": "ade6d2ba-f002-4615-a7cb-fe8afc5ceef5",
   "metadata": {},
   "outputs": [],
   "source": [
    "class mobile_phone:\n",
    "    \n",
    "    def  __init__ (self,a_col,b_size,c_numc):\n",
    "        self.color = a_col\n",
    "        self.size = b_size\n",
    "        self.camera = c_numc\n",
    "\n",
    "def calling(self, call_rates):\n",
    "        print(f\"i am calling using {self.color} cell phone and the cell rates per second is {call_rates}\")"
   ]
  },
  {
   "cell_type": "code",
   "execution_count": 69,
   "id": "536dd5ea-9238-488f-b964-d2f6dc127aa7",
   "metadata": {},
   "outputs": [],
   "source": [
    "Oppo = mobile_phone(\"black\", 10,2)"
   ]
  },
  {
   "cell_type": "code",
   "execution_count": 70,
   "id": "6b3a740c-4443-4641-bb56-932e8a8edba9",
   "metadata": {},
   "outputs": [
    {
     "data": {
      "text/plain": [
       "'black'"
      ]
     },
     "execution_count": 70,
     "metadata": {},
     "output_type": "execute_result"
    }
   ],
   "source": [
    "Oppo.color"
   ]
  },
  {
   "cell_type": "code",
   "execution_count": 71,
   "id": "a0242e4f-1e4d-4593-b298-748d1fbc87c1",
   "metadata": {},
   "outputs": [
    {
     "data": {
      "text/plain": [
       "10"
      ]
     },
     "execution_count": 71,
     "metadata": {},
     "output_type": "execute_result"
    }
   ],
   "source": [
    "Oppo.size"
   ]
  },
  {
   "cell_type": "code",
   "execution_count": 72,
   "id": "31b2aa5d-3a58-433f-b194-f9ebd90c6fc7",
   "metadata": {},
   "outputs": [
    {
     "data": {
      "text/plain": [
       "2"
      ]
     },
     "execution_count": 72,
     "metadata": {},
     "output_type": "execute_result"
    }
   ],
   "source": [
    "Oppo.camera"
   ]
  },
  {
   "cell_type": "code",
   "execution_count": null,
   "id": "beee23bb-1b25-41e3-b403-ea71250f1f78",
   "metadata": {},
   "outputs": [],
   "source": [
    "Oppo.calling"
   ]
  },
  {
   "cell_type": "code",
   "execution_count": 83,
   "id": "f63f189f-d714-4f9c-a335-e57e5e507821",
   "metadata": {},
   "outputs": [],
   "source": [
    "class goldenvillas:\n",
    "    \n",
    "    def  __init__ (self,a,b,c,d,e):\n",
    "        self.color = a\n",
    "        self.is_furnish = b\n",
    "        self.is_rent = c\n",
    "        self.rooms = d\n",
    "        self.parking = e\n",
    "    def describe_villa(self):\n",
    "         print(f'this villa is having {self.color} color and it furnished and it is rented properly')"
   ]
  },
  {
   "cell_type": "code",
   "execution_count": 84,
   "id": "ad7e06cd-03a3-45f8-981d-0bb93f279035",
   "metadata": {},
   "outputs": [],
   "source": [
    "obj = goldenvillas('white','yes',4000,2,'available')       "
   ]
  },
  {
   "cell_type": "code",
   "execution_count": 85,
   "id": "7216b169-9751-47a5-8524-8dce67a47ad2",
   "metadata": {},
   "outputs": [
    {
     "data": {
      "text/plain": [
       "'white'"
      ]
     },
     "execution_count": 85,
     "metadata": {},
     "output_type": "execute_result"
    }
   ],
   "source": [
    "obj.color"
   ]
  },
  {
   "cell_type": "code",
   "execution_count": 86,
   "id": "7c5bfed8-c7c5-4a1f-87ce-3dbd58b7f56e",
   "metadata": {},
   "outputs": [
    {
     "name": "stdout",
     "output_type": "stream",
     "text": [
      "this villa is having white color and it furnished and it is rented properly\n"
     ]
    }
   ],
   "source": [
    "obj.describe_villa()"
   ]
  },
  {
   "cell_type": "code",
   "execution_count": 87,
   "id": "ef3d80ac-c362-4a25-a581-73af238218ad",
   "metadata": {},
   "outputs": [
    {
     "data": {
      "text/plain": [
       "'yes'"
      ]
     },
     "execution_count": 87,
     "metadata": {},
     "output_type": "execute_result"
    }
   ],
   "source": [
    "obj.is_furnish"
   ]
  },
  {
   "cell_type": "code",
   "execution_count": 88,
   "id": "0509c538-3e7a-4192-804b-de211e88bd12",
   "metadata": {},
   "outputs": [
    {
     "data": {
      "text/plain": [
       "'available'"
      ]
     },
     "execution_count": 88,
     "metadata": {},
     "output_type": "execute_result"
    }
   ],
   "source": [
    "obj.parking"
   ]
  },
  {
   "cell_type": "code",
   "execution_count": 106,
   "id": "6f8f3046-4a9d-4699-8e7f-8e2e7f74aec0",
   "metadata": {},
   "outputs": [],
   "source": [
    "class Person:\n",
    "    def  __init__ (self,a,b):\n",
    "        self.name = a\n",
    "        self.age = b\n",
    "    def introduce(self):\n",
    "        print(f'my name is {self.name} and i am {self.age} years old.')\n",
    "\n",
    "Person = Person('sanjana', 21)        "
   ]
  },
  {
   "cell_type": "code",
   "execution_count": 107,
   "id": "e42223b6-7a3a-4841-ab99-26941274520c",
   "metadata": {},
   "outputs": [
    {
     "name": "stdout",
     "output_type": "stream",
     "text": [
      "my name is sanjana and i am 21 years old.\n"
     ]
    }
   ],
   "source": [
    "Person.introduce()"
   ]
  },
  {
   "cell_type": "code",
   "execution_count": 108,
   "id": "5197ff3f-c2c0-40ca-9fea-a6b5ed7c1b86",
   "metadata": {},
   "outputs": [
    {
     "data": {
      "text/plain": [
       "'sanjana'"
      ]
     },
     "execution_count": 108,
     "metadata": {},
     "output_type": "execute_result"
    }
   ],
   "source": [
    "Person.name"
   ]
  },
  {
   "cell_type": "code",
   "execution_count": 111,
   "id": "08250e76-3fbc-4264-9c76-819467e45b51",
   "metadata": {},
   "outputs": [
    {
     "data": {
      "text/plain": [
       "21"
      ]
     },
     "execution_count": 111,
     "metadata": {},
     "output_type": "execute_result"
    }
   ],
   "source": [
    "Person.age"
   ]
  }
 ],
 "metadata": {
  "kernelspec": {
   "display_name": "Python 3 (ipykernel)",
   "language": "python",
   "name": "python3"
  },
  "language_info": {
   "codemirror_mode": {
    "name": "ipython",
    "version": 3
   },
   "file_extension": ".py",
   "mimetype": "text/x-python",
   "name": "python",
   "nbconvert_exporter": "python",
   "pygments_lexer": "ipython3",
   "version": "3.12.7"
  }
 },
 "nbformat": 4,
 "nbformat_minor": 5
}
