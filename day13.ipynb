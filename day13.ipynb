{
 "cells": [
  {
   "cell_type": "markdown",
   "id": "fdd11a3a-eda9-4792-8219-7a7799d8cc8b",
   "metadata": {},
   "source": [
    "## Dictionary"
   ]
  },
  {
   "cell_type": "code",
   "execution_count": 1,
   "id": "17a7ceef-a1a1-4b48-8f1a-295705af3f7d",
   "metadata": {},
   "outputs": [
    {
     "data": {
      "text/plain": [
       "{'name': 'Sanjana', 'age': 88}"
      ]
     },
     "execution_count": 1,
     "metadata": {},
     "output_type": "execute_result"
    }
   ],
   "source": [
    "# unique key\n",
    "my_dict = {\"name\": \"Sanjana\",\"age\": 21, \"age\":55,\"age\":88}\n",
    "my_dict"
   ]
  },
  {
   "cell_type": "code",
   "execution_count": 2,
   "id": "03aec6d3-e1b1-4923-a026-a0925318bafe",
   "metadata": {},
   "outputs": [
    {
     "name": "stdout",
     "output_type": "stream",
     "text": [
      "{(1, 2): 'point', 'name': 'alice'}\n"
     ]
    }
   ],
   "source": [
    "# immutable keys\n",
    "my_dict = {(1,2): \"point\",\"name\":\"alice\"}\n",
    "print(my_dict)"
   ]
  },
  {
   "cell_type": "code",
   "execution_count": 3,
   "id": "ef1c9066-5c29-4199-9a1a-13713e7cc6cf",
   "metadata": {},
   "outputs": [],
   "source": [
    "my_dict1 = {1,\"hello\"}"
   ]
  },
  {
   "cell_type": "code",
   "execution_count": 5,
   "id": "5f1f98b0-4404-4ede-bb25-f0071230c266",
   "metadata": {},
   "outputs": [
    {
     "ename": "TypeError",
     "evalue": "unhashable type: 'list'",
     "output_type": "error",
     "traceback": [
      "\u001b[1;31m---------------------------------------------------------------------------\u001b[0m",
      "\u001b[1;31mTypeError\u001b[0m                                 Traceback (most recent call last)",
      "Cell \u001b[1;32mIn[5], line 1\u001b[0m\n\u001b[1;32m----> 1\u001b[0m my_dict2 \u001b[38;5;241m=\u001b[39m {[\u001b[38;5;241m1\u001b[39m,\u001b[38;5;241m2\u001b[39m]: \u001b[38;5;124m\"\u001b[39m\u001b[38;5;124mhello\u001b[39m\u001b[38;5;124m\"\u001b[39m}\n",
      "\u001b[1;31mTypeError\u001b[0m: unhashable type: 'list'"
     ]
    }
   ],
   "source": [
    "my_dict2 = {[1,2]: \"hello\"}"
   ]
  },
  {
   "cell_type": "markdown",
   "id": "3f9b3677-cb18-4f52-90b1-55222e0b5084",
   "metadata": {},
   "source": [
    "## keys and values in python dictionary"
   ]
  },
  {
   "cell_type": "code",
   "execution_count": 8,
   "id": "096c8f84-5b30-4879-a676-85981b33211a",
   "metadata": {},
   "outputs": [],
   "source": [
    "# Accessing a value by key \n",
    "my_dict = {\n",
    "    \"name\": \"sanjana\",\n",
    "    \"age\": 21,\n",
    "    \"hobbies\": [\"reading\",\"cooking\"],\n",
    "    \"education\": {\"degree\": \"BCA\",\"year\": 2025}}"
   ]
  },
  {
   "cell_type": "code",
   "execution_count": 10,
   "id": "7dbb0f15-0f19-458d-b41f-236a920857f8",
   "metadata": {},
   "outputs": [
    {
     "data": {
      "text/plain": [
       "21"
      ]
     },
     "execution_count": 10,
     "metadata": {},
     "output_type": "execute_result"
    }
   ],
   "source": [
    "my_dict[\"age\"]"
   ]
  },
  {
   "cell_type": "code",
   "execution_count": 11,
   "id": "b4056f35-d00c-4135-8bea-58bcfb9f5d70",
   "metadata": {},
   "outputs": [
    {
     "data": {
      "text/plain": [
       "['reading', 'cooking']"
      ]
     },
     "execution_count": 11,
     "metadata": {},
     "output_type": "execute_result"
    }
   ],
   "source": [
    "my_dict[\"hobbies\"]"
   ]
  },
  {
   "cell_type": "code",
   "execution_count": 12,
   "id": "ace1e713-ba27-484c-a42f-4ad116586df6",
   "metadata": {},
   "outputs": [
    {
     "data": {
      "text/plain": [
       "{'degree': 'BCA', 'year': 2025}"
      ]
     },
     "execution_count": 12,
     "metadata": {},
     "output_type": "execute_result"
    }
   ],
   "source": [
    "my_dict[\"education\"]"
   ]
  },
  {
   "cell_type": "code",
   "execution_count": 13,
   "id": "b7aa41f4-afa0-46ea-b019-1de116d1b65a",
   "metadata": {},
   "outputs": [
    {
     "data": {
      "text/plain": [
       "21"
      ]
     },
     "execution_count": 13,
     "metadata": {},
     "output_type": "execute_result"
    }
   ],
   "source": [
    "# Using the get() method:\n",
    "my_dict = {\"name\": \"sanjana\",\"age\": 21}\n",
    "my_dict[\"age\"]"
   ]
  },
  {
   "cell_type": "code",
   "execution_count": 14,
   "id": "254f5363-3b19-41ac-8705-132bbde62b2f",
   "metadata": {},
   "outputs": [
    {
     "data": {
      "text/plain": [
       "21"
      ]
     },
     "execution_count": 14,
     "metadata": {},
     "output_type": "execute_result"
    }
   ],
   "source": [
    "my_dict.get(\"age\")"
   ]
  },
  {
   "cell_type": "code",
   "execution_count": 15,
   "id": "8a8992b7-c61b-4a50-aa17-e42fe1a9bf95",
   "metadata": {},
   "outputs": [
    {
     "data": {
      "text/plain": [
       "'sanjana'"
      ]
     },
     "execution_count": 15,
     "metadata": {},
     "output_type": "execute_result"
    }
   ],
   "source": [
    "my_dict.get(\"name\")"
   ]
  },
  {
   "cell_type": "code",
   "execution_count": 16,
   "id": "26140e56-c468-4b3f-865f-6e68e1994690",
   "metadata": {},
   "outputs": [
    {
     "name": "stdout",
     "output_type": "stream",
     "text": [
      "sanjana\n",
      "None\n"
     ]
    }
   ],
   "source": [
    "print(my_dict.get(\"name\"))\n",
    "print(my_dict.get(\"city\"))"
   ]
  },
  {
   "cell_type": "code",
   "execution_count": 22,
   "id": "ceafe992-3f61-43aa-b66d-c99d9d0c189e",
   "metadata": {},
   "outputs": [
    {
     "data": {
      "text/plain": [
       "dict_keys(['name', 'age', 'city'])"
      ]
     },
     "execution_count": 22,
     "metadata": {},
     "output_type": "execute_result"
    }
   ],
   "source": [
    "# Accessing all keys:\n",
    "my_dict = {\"name\": \"sanjana\",\"age\": 21,\"city\":\"India\"}\n",
    "my_dict.keys()"
   ]
  },
  {
   "cell_type": "code",
   "execution_count": 21,
   "id": "c98b5bbf-47cc-4e3e-a5a5-46c81182beed",
   "metadata": {},
   "outputs": [
    {
     "data": {
      "text/plain": [
       "dict_values(['sanjana', 21, 'India'])"
      ]
     },
     "execution_count": 21,
     "metadata": {},
     "output_type": "execute_result"
    }
   ],
   "source": [
    "# Accessing all key-value pairs \n",
    "my_dict = {\"name\": \"sanjana\",\"age\": 21,\"city\":\"India\"}\n",
    "my_dict.values()"
   ]
  },
  {
   "cell_type": "code",
   "execution_count": 23,
   "id": "13541460-4c78-4d3d-93cd-aee524a1da44",
   "metadata": {},
   "outputs": [
    {
     "data": {
      "text/plain": [
       "{'name': 'sanjana', 'age': 21, 'city': 'India'}"
      ]
     },
     "execution_count": 23,
     "metadata": {},
     "output_type": "execute_result"
    }
   ],
   "source": [
    "# accessing all keys-value pairs\n",
    "my_dict"
   ]
  },
  {
   "cell_type": "code",
   "execution_count": 24,
   "id": "f8dc9ee6-7c2d-4c36-b690-7b0e6ef1575e",
   "metadata": {},
   "outputs": [
    {
     "data": {
      "text/plain": [
       "dict_items([('name', 'sanjana'), ('age', 21), ('city', 'India')])"
      ]
     },
     "execution_count": 24,
     "metadata": {},
     "output_type": "execute_result"
    }
   ],
   "source": [
    "my_dict.items()"
   ]
  },
  {
   "cell_type": "code",
   "execution_count": 25,
   "id": "47148f48-387b-4dad-a7a8-24f38d3f06b6",
   "metadata": {},
   "outputs": [
    {
     "name": "stdout",
     "output_type": "stream",
     "text": [
      "name\n",
      "age\n",
      "city\n"
     ]
    }
   ],
   "source": [
    "# Iterating over keys and Values\n",
    "my_dict = {\"name\": \"Sanjana\",\"age\": 21,\"city\":\"India\"}\n",
    "for i in my_dict:\n",
    "    print(i)"
   ]
  },
  {
   "cell_type": "code",
   "execution_count": 27,
   "id": "7bcdf834-ef95-44bd-8d27-e9f16842e6a9",
   "metadata": {},
   "outputs": [
    {
     "name": "stdout",
     "output_type": "stream",
     "text": [
      "Sanjana\n",
      "21\n",
      "India\n"
     ]
    }
   ],
   "source": [
    "# Iterating over values\n",
    "for j in my_dict.values():\n",
    "    print(j)"
   ]
  },
  {
   "cell_type": "markdown",
   "id": "d2fbe8f1-a46e-45b6-9156-069eb158a9cb",
   "metadata": {},
   "source": [
    "# iterating over key-value pairs\n",
    "for i,j in my_dict.items():\n",
    "    print(f\"{i}: {j}\")"
   ]
  },
  {
   "cell_type": "markdown",
   "id": "7247fb31-3330-4109-9306-5f5176f687bb",
   "metadata": {},
   "source": [
    "### Nested Dictionary in python"
   ]
  },
  {
   "cell_type": "code",
   "execution_count": 44,
   "id": "ecb45dac-9c0a-47b0-b70d-43c165b80227",
   "metadata": {},
   "outputs": [],
   "source": [
    "nested_dict = {\n",
    "    \"person1\": {\n",
    "        \"name\": \"Sanjana\",\n",
    "        \"age\": 21,\n",
    "        \"city\": \"India\"\n",
    "    },\n",
    "    \"person2\": {\n",
    "        \"name\": \"Bob\",\n",
    "        \"age\": 35,\n",
    "        \"city\": \"New York\"\n",
    "    }\n",
    "}"
   ]
  },
  {
   "cell_type": "code",
   "execution_count": 45,
   "id": "614d46e2-df35-40e8-9908-566b18eb7d4b",
   "metadata": {},
   "outputs": [
    {
     "data": {
      "text/plain": [
       "{'person1': {'name': 'Sanjana', 'age': 21, 'city': 'India'},\n",
       " 'person2': {'name': 'Bob', 'age': 35, 'city': 'New York'}}"
      ]
     },
     "execution_count": 45,
     "metadata": {},
     "output_type": "execute_result"
    }
   ],
   "source": [
    "nested_dict"
   ]
  },
  {
   "cell_type": "markdown",
   "id": "fe329153-d59a-4c4b-b81f-4efef7bb6b8c",
   "metadata": {},
   "source": [
    "### Accesisng element in a Nested Dictionary"
   ]
  },
  {
   "cell_type": "code",
   "execution_count": 46,
   "id": "2615f5d1-4df1-4fbe-acc5-6f12cd5f33f9",
   "metadata": {},
   "outputs": [
    {
     "name": "stdout",
     "output_type": "stream",
     "text": [
      "Bob\n"
     ]
    }
   ],
   "source": [
    "print(nested_dict[\"person2\"][\"name\"])"
   ]
  },
  {
   "cell_type": "code",
   "execution_count": 47,
   "id": "bf5e83bd-25bb-43f0-bde4-ca3b21126ca9",
   "metadata": {},
   "outputs": [
    {
     "data": {
      "text/plain": [
       "{'person1': {'name': 'Sanjana', 'age': 21, 'city': 'India'},\n",
       " 'person2': {'name': 'Bob', 'age': 35, 'city': 'New York'}}"
      ]
     },
     "execution_count": 47,
     "metadata": {},
     "output_type": "execute_result"
    }
   ],
   "source": [
    "nested_dict"
   ]
  },
  {
   "cell_type": "code",
   "execution_count": 48,
   "id": "95ce08dc-7517-4267-80d7-ae707dbfe17d",
   "metadata": {},
   "outputs": [],
   "source": [
    "# updating the age of person1\n",
    "nested_dict[\"person1\"][\"age\"] = 55"
   ]
  },
  {
   "cell_type": "code",
   "execution_count": 49,
   "id": "a041dd45-4e9c-44da-9d9b-3b1ac805f6fb",
   "metadata": {},
   "outputs": [
    {
     "data": {
      "text/plain": [
       "{'person1': {'name': 'Sanjana', 'age': 55, 'city': 'India'},\n",
       " 'person2': {'name': 'Bob', 'age': 35, 'city': 'New York'}}"
      ]
     },
     "execution_count": 49,
     "metadata": {},
     "output_type": "execute_result"
    }
   ],
   "source": [
    "nested_dict"
   ]
  },
  {
   "cell_type": "markdown",
   "id": "b4d34382-b9a5-4d8d-89f3-4c416d90ebd6",
   "metadata": {},
   "source": [
    "### Adding a new dictionary to a nested dictionary"
   ]
  },
  {
   "cell_type": "code",
   "execution_count": 52,
   "id": "6429a527-0883-4c27-8ea9-ae55477358a4",
   "metadata": {},
   "outputs": [],
   "source": [
    "nested_dict[\"person4\"] = {\n",
    "        \"name\": \"Diana\",\n",
    "        \"age\": 28,\n",
    "        \"city\": \"Bostan\"\n",
    "    }"
   ]
  },
  {
   "cell_type": "code",
   "execution_count": 53,
   "id": "de17ae63-cd43-4cae-915d-a7563e789812",
   "metadata": {},
   "outputs": [
    {
     "data": {
      "text/plain": [
       "{'person1': {'name': 'Sanjana', 'age': 55, 'city': 'India'},\n",
       " 'person2': {'name': 'Bob', 'age': 35, 'city': 'New York'},\n",
       " 'person4': {'name': 'Diana', 'age': 28, 'city': 'Bostan'}}"
      ]
     },
     "execution_count": 53,
     "metadata": {},
     "output_type": "execute_result"
    }
   ],
   "source": [
    "nested_dict"
   ]
  },
  {
   "cell_type": "code",
   "execution_count": null,
   "id": "ef31c32b-2834-400b-a5f6-2e99c7d76239",
   "metadata": {},
   "outputs": [],
   "source": []
  }
 ],
 "metadata": {
  "kernelspec": {
   "display_name": "Python 3 (ipykernel)",
   "language": "python",
   "name": "python3"
  },
  "language_info": {
   "codemirror_mode": {
    "name": "ipython",
    "version": 3
   },
   "file_extension": ".py",
   "mimetype": "text/x-python",
   "name": "python",
   "nbconvert_exporter": "python",
   "pygments_lexer": "ipython3",
   "version": "3.12.7"
  }
 },
 "nbformat": 4,
 "nbformat_minor": 5
}
