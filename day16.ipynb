{
 "cells": [
  {
   "cell_type": "code",
   "execution_count": 1,
   "id": "39ec9104-d62e-4547-bb15-f216d1671b1a",
   "metadata": {},
   "outputs": [],
   "source": [
    "class mylist:\n",
    "    def __init__(self):\n",
    "        self.items=[]\n",
    "    def append(self, item):\n",
    "        \"\"\"method to add an item to the list\"\"\"\n",
    "        self.items.append(item)\n",
    "\n",
    "    def remove(self,item):\n",
    "        \"\"\" method to remove an item from the list\"\"\"\n",
    "        if item in self.items:\n",
    "            self.items.remove(item)\n",
    "        else:\n",
    "            print(f'{item} not found in the list')\n",
    "\n",
    "    def display(self):\n",
    "        \"\"\"method to display the current list\"\"\"\n",
    "        print(self.items)\n",
    "\n",
    "    def size(self):\n",
    "        \"\"\"method to return the size of the list\"\"\"\n",
    "        return len(self.items)\n",
    "        "
   ]
  },
  {
   "cell_type": "code",
   "execution_count": 2,
   "id": "408a4934-4342-40c6-97fb-da86b4e12d31",
   "metadata": {},
   "outputs": [],
   "source": [
    "l=mylist()"
   ]
  },
  {
   "cell_type": "code",
   "execution_count": 3,
   "id": "715a72dd-13b3-4af4-ab2d-cc21aea93d16",
   "metadata": {},
   "outputs": [],
   "source": [
    "l.append(1)\n",
    "l.append(2)\n",
    "l.append(3)"
   ]
  },
  {
   "cell_type": "code",
   "execution_count": 4,
   "id": "e387ae4f-7954-41fa-a133-853f7915b51d",
   "metadata": {},
   "outputs": [
    {
     "name": "stdout",
     "output_type": "stream",
     "text": [
      "[1, 2, 3]\n"
     ]
    }
   ],
   "source": [
    "l.display()"
   ]
  },
  {
   "cell_type": "code",
   "execution_count": 5,
   "id": "52ef6768-9712-464e-8885-ef2d6d913ec5",
   "metadata": {},
   "outputs": [],
   "source": [
    "l.remove(2)"
   ]
  },
  {
   "cell_type": "code",
   "execution_count": 6,
   "id": "1807d058-4fd8-4f04-8218-f05c0038c8bf",
   "metadata": {},
   "outputs": [
    {
     "name": "stdout",
     "output_type": "stream",
     "text": [
      "[1, 3]\n"
     ]
    }
   ],
   "source": [
    "l.display()"
   ]
  },
  {
   "cell_type": "code",
   "execution_count": 7,
   "id": "df509536-8c2b-4600-8f8d-5d141be0894f",
   "metadata": {},
   "outputs": [
    {
     "data": {
      "text/plain": [
       "2"
      ]
     },
     "execution_count": 7,
     "metadata": {},
     "output_type": "execute_result"
    }
   ],
   "source": [
    "l.size()"
   ]
  },
  {
   "cell_type": "code",
   "execution_count": 9,
   "id": "5fe302be-f51d-4573-8387-9dc437bca9c2",
   "metadata": {},
   "outputs": [],
   "source": [
    "class car:\n",
    "    # class attribute\n",
    "    wheels=4\n",
    "\n",
    "    def __init__(self,make,model):\n",
    "        self.make=make        #instance attribute\n",
    "        self.model=model      #instance attribute\n",
    "\n",
    "    # class method\n",
    "    @classmethod\n",
    "    def set_wheels(cls,number):\n",
    "        cls.wheels=number     # modify the class attribute\n",
    "\n",
    "    def car_info(self):    \n",
    "        return f\"{self.make} {self.model} has {car.wheels}\"\n",
    "        "
   ]
  },
  {
   "cell_type": "code",
   "execution_count": 10,
   "id": "d60aaf6f-c1d7-4738-bd6c-3d917bd4a391",
   "metadata": {},
   "outputs": [
    {
     "data": {
      "text/plain": [
       "<bound method car.set_wheels of <class '__main__.car'>>"
      ]
     },
     "execution_count": 10,
     "metadata": {},
     "output_type": "execute_result"
    }
   ],
   "source": [
    "obj=car('bmw','benz')\n",
    "obj.set_wheels"
   ]
  },
  {
   "cell_type": "code",
   "execution_count": 11,
   "id": "58f20cf7-06c2-41e7-96fc-ac92799005aa",
   "metadata": {},
   "outputs": [
    {
     "data": {
      "text/plain": [
       "'bmw benz has 3'"
      ]
     },
     "execution_count": 11,
     "metadata": {},
     "output_type": "execute_result"
    }
   ],
   "source": [
    "obj.set_wheels(3)\n",
    "obj.car_info()"
   ]
  },
  {
   "cell_type": "markdown",
   "id": "008a831e-f383-445e-a3fd-ee7e3f044394",
   "metadata": {},
   "source": [
    "## exception handling"
   ]
  },
  {
   "cell_type": "code",
   "execution_count": 12,
   "id": "ec7581d8-a1ee-4af5-9aa1-b9617e49c902",
   "metadata": {},
   "outputs": [
    {
     "name": "stdin",
     "output_type": "stream",
     "text": [
      "enter a number:  2\n"
     ]
    },
    {
     "name": "stdout",
     "output_type": "stream",
     "text": [
      "result is 5.0\n"
     ]
    }
   ],
   "source": [
    "try:\n",
    "    x=int(input(\"enter a number: \"))\n",
    "    result=10/x\n",
    "    print(\"result is\",result)\n",
    "\n",
    "except ValueError:\n",
    "    print(\"that was not a number.\")\n",
    "\n",
    "except ZeroDivisionError:\n",
    "    print('you cannot divide by zero')"
   ]
  },
  {
   "cell_type": "code",
   "execution_count": 13,
   "id": "14139cc8-a368-4286-9fa2-a72e3d597985",
   "metadata": {},
   "outputs": [
    {
     "name": "stdout",
     "output_type": "stream",
     "text": [
      "result is: 5.0\n",
      "this block runs no matter what.\n"
     ]
    }
   ],
   "source": [
    "# try excccept else finally\n",
    "\n",
    "try:\n",
    "    x=10\n",
    "    y=2\n",
    "    result=x/y\n",
    "\n",
    "except ZeroDivisionError:\n",
    "    print('cannot divide by zero')\n",
    "\n",
    "else:\n",
    "    print('result is:',result)\n",
    "\n",
    "finally:\n",
    "    print('this block runs no matter what.')"
   ]
  },
  {
   "cell_type": "code",
   "execution_count": 15,
   "id": "75ad8698-353b-4d45-a25f-c8e612f405cb",
   "metadata": {},
   "outputs": [
    {
     "name": "stdout",
     "output_type": "stream",
     "text": [
      "custom exception caught: age cannot be negative!\n"
     ]
    }
   ],
   "source": [
    "# custom exception for -ve age\n",
    "\n",
    "class negativeAgeError(Exception):\n",
    "    \"\"\"raised when the age is negative\"\"\"\n",
    "    pass\n",
    "\n",
    "def validate_age(age):\n",
    "    if age<0:\n",
    "        raise negativeAgeError(\"age cannot be negative!\")\n",
    "    else:\n",
    "        print(\"valid age:\",age)\n",
    "\n",
    "# test\n",
    "try:\n",
    "    validate_age(-5)\n",
    "except negativeAgeError as e:\n",
    "    print('custom exception caught:',e)"
   ]
  },
  {
   "cell_type": "code",
   "execution_count": 16,
   "id": "94c1b960-0d00-4687-ab64-d1bc6318ad82",
   "metadata": {},
   "outputs": [
    {
     "name": "stdin",
     "output_type": "stream",
     "text": [
      "enter amount to withdraw: 500\n"
     ]
    },
    {
     "name": "stdout",
     "output_type": "stream",
     "text": [
      "withdrawal successful! remaining balance: rs500\n"
     ]
    }
   ],
   "source": [
    "class insufficientFundsError(Exception):\n",
    "    pass  # just using the default behavior of exception\n",
    "\n",
    "#simulate bank withdrawal\n",
    "balance=1000\n",
    "\n",
    "try:\n",
    "    amount=int(input(\"enter amount to withdraw:\"))\n",
    "    if amount>balance:\n",
    "        raise insufficientFundsError(\"you dont hv enough money\")\n",
    "    balance -=amount\n",
    "    print(f'withdrawal successful! remaining balance: rs{balance}')\n",
    "\n",
    "except insufficientFundsError as e:\n",
    "    print(\"custom error:\",e)\n",
    "\n",
    "except ValueError:\n",
    "    print('please enter a valid number')"
   ]
  },
  {
   "cell_type": "code",
   "execution_count": null,
   "id": "4c7e47bf-4ea2-4654-85b9-ff9b175efa0a",
   "metadata": {},
   "outputs": [],
   "source": []
  }
 ],
 "metadata": {
  "kernelspec": {
   "display_name": "Python 3 (ipykernel)",
   "language": "python",
   "name": "python3"
  },
  "language_info": {
   "codemirror_mode": {
    "name": "ipython",
    "version": 3
   },
   "file_extension": ".py",
   "mimetype": "text/x-python",
   "name": "python",
   "nbconvert_exporter": "python",
   "pygments_lexer": "ipython3",
   "version": "3.12.7"
  }
 },
 "nbformat": 4,
 "nbformat_minor": 5
}
