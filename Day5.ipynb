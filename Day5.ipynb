{
 "cells": [
  {
   "cell_type": "code",
   "execution_count": 5,
   "id": "e3ccceb4-8a60-44f3-ac02-67b221745835",
   "metadata": {},
   "outputs": [
    {
     "name": "stdout",
     "output_type": "stream",
     "text": [
      "1\n",
      "2\n",
      "3\n",
      "4\n",
      "5\n"
     ]
    }
   ],
   "source": [
    "# for loop \n",
    "a = [1,2,3,4,5]\n",
    "for i in a:\n",
    "    print(i)\n",
    "    "
   ]
  },
  {
   "cell_type": "code",
   "execution_count": 7,
   "id": "720150bb-12a8-4b26-b7c7-564d892e06a6",
   "metadata": {},
   "outputs": [
    {
     "name": "stdout",
     "output_type": "stream",
     "text": [
      "apple\n",
      "banana\n",
      "cherry\n"
     ]
    }
   ],
   "source": [
    "fruit = ['apple','banana','cherry']\n",
    "for fruit in fruit:\n",
    "    print(fruit)"
   ]
  },
  {
   "cell_type": "code",
   "execution_count": 8,
   "id": "4cdf061e-3519-41da-b91b-056a6bb25255",
   "metadata": {},
   "outputs": [
    {
     "name": "stdout",
     "output_type": "stream",
     "text": [
      "H\n",
      "e\n",
      "l\n",
      "l\n",
      "o\n"
     ]
    }
   ],
   "source": [
    "word = \"Hello\"\n",
    "for i in word:\n",
    "    print(i)"
   ]
  },
  {
   "cell_type": "code",
   "execution_count": 9,
   "id": "aa28292d-83e3-4caf-92c7-3c7e5aa91d45",
   "metadata": {},
   "outputs": [
    {
     "name": "stdout",
     "output_type": "stream",
     "text": [
      "1\n",
      "2\n",
      "3\n",
      "4\n",
      "5\n",
      "loop in finished\n"
     ]
    }
   ],
   "source": [
    "# looping with else \n",
    "for i in a:\n",
    "    print(i)\n",
    "else:\n",
    "    print(\"loop in finished\")"
   ]
  },
  {
   "cell_type": "code",
   "execution_count": 10,
   "id": "37754629-f224-4312-88dd-8f1aad06575b",
   "metadata": {},
   "outputs": [
    {
     "name": "stdout",
     "output_type": "stream",
     "text": [
      "i=0,j=0\n",
      "i=0,j=1\n",
      "i=1,j=0\n",
      "i=1,j=1\n",
      "i=2,j=0\n",
      "i=2,j=1\n"
     ]
    }
   ],
   "source": [
    "for i in range(3):\n",
    "    for j in  range(2):\n",
    "        print(f\"i={i},j={j}\")"
   ]
  },
  {
   "cell_type": "code",
   "execution_count": 2,
   "id": "0743d1e3-29f9-437a-8195-525cadc1660b",
   "metadata": {},
   "outputs": [
    {
     "name": "stdout",
     "output_type": "stream",
     "text": [
      "my name is Sanjana\n"
     ]
    }
   ],
   "source": [
    "name = \"Sanjana\"\n",
    "print(f'my name is {name}')"
   ]
  },
  {
   "cell_type": "code",
   "execution_count": 3,
   "id": "346780b8-8fba-402d-86a6-4dc730816bc9",
   "metadata": {},
   "outputs": [
    {
     "name": "stdout",
     "output_type": "stream",
     "text": [
      "outer\n",
      "inner loop\n",
      "inner loop\n",
      "outer\n",
      "inner loop\n",
      "inner loop\n",
      "outer\n",
      "inner loop\n",
      "inner loop\n",
      "outer\n",
      "inner loop\n",
      "inner loop\n"
     ]
    }
   ],
   "source": [
    "for i in range(4):\n",
    "    print(\"outer\")\n",
    "    for j in range(2):\n",
    "        print(\"inner loop\")"
   ]
  },
  {
   "cell_type": "code",
   "execution_count": 4,
   "id": "ce317b80-5835-4231-8d5c-47ff75526134",
   "metadata": {},
   "outputs": [
    {
     "name": "stdout",
     "output_type": "stream",
     "text": [
      "0\n",
      "This is will be 1st\n",
      "Second\n",
      "Third\n",
      "1\n",
      "This is will be 1st\n",
      "Second\n",
      "Third\n",
      "2\n",
      "This is will be 1st\n",
      "Second\n",
      "Third\n"
     ]
    }
   ],
   "source": [
    "for i in range(3):\n",
    "    print(i)\n",
    "    print(\"This is will be 1st\")\n",
    "    print(\"Second\")\n",
    "    print(\"Third\")"
   ]
  },
  {
   "cell_type": "code",
   "execution_count": 5,
   "id": "65565dd7-ad8c-4f7a-9538-3fb38725a023",
   "metadata": {},
   "outputs": [
    {
     "name": "stdout",
     "output_type": "stream",
     "text": [
      "1\n",
      "4\n",
      "7\n"
     ]
    }
   ],
   "source": [
    "for i in range(1,10,3):\n",
    "    print(i)"
   ]
  },
  {
   "cell_type": "code",
   "execution_count": 6,
   "id": "f4c18521-a1fc-4217-85b5-e3decfb1f17e",
   "metadata": {},
   "outputs": [
    {
     "name": "stdout",
     "output_type": "stream",
     "text": [
      "0 = H\n",
      "1 = e\n",
      "2 = l\n",
      "3 = l\n",
      "4 = o\n"
     ]
    }
   ],
   "source": [
    "s = \"Hello\"\n",
    "r = len(s)\n",
    "for i in range(r):\n",
    "    print(i,\"=\", s[i])"
   ]
  },
  {
   "cell_type": "code",
   "execution_count": 7,
   "id": "94164d0d-1b44-4048-a3d4-ddbaa0b6ff0e",
   "metadata": {},
   "outputs": [
    {
     "name": "stdout",
     "output_type": "stream",
     "text": [
      "0 = H\n",
      "1 = e\n",
      "2 = l\n",
      "3 = l\n",
      "4 = o\n",
      "Reset of the code\n"
     ]
    }
   ],
   "source": [
    "s = \"Hello\"\n",
    "r = len(s)\n",
    "for i in range(r):\n",
    "    print(i,\"=\", s[i])\n",
    "print(\"Reset of the code\")    "
   ]
  },
  {
   "cell_type": "code",
   "execution_count": 6,
   "id": "6509d26e-1093-4bdf-8e1d-dd471fc5e08c",
   "metadata": {},
   "outputs": [
    {
     "name": "stdout",
     "output_type": "stream",
     "text": [
      "0\n",
      "1\n",
      "2\n",
      "3\n",
      "4\n"
     ]
    }
   ],
   "source": [
    "# Break \n",
    "\n",
    "for num in range(10):\n",
    "    if num == 5:\n",
    "        break  #exit the loop when number equals 5\n",
    "    print(num)\n",
    "        "
   ]
  },
  {
   "cell_type": "code",
   "execution_count": 4,
   "id": "3e588bf3-7cc5-4517-8d58-87e61b437b2f",
   "metadata": {},
   "outputs": [
    {
     "name": "stdout",
     "output_type": "stream",
     "text": [
      "0\n",
      "1\n",
      "2\n",
      "3\n",
      "4\n",
      "6\n",
      "7\n",
      "8\n",
      "9\n"
     ]
    }
   ],
   "source": [
    "# continue \n",
    "\n",
    "for num in range(10):\n",
    "    if num == 5:\n",
    "        continue\n",
    "    print(num)"
   ]
  },
  {
   "cell_type": "code",
   "execution_count": 5,
   "id": "067a8e55-ec0a-4344-90d1-3fd5b80c82b7",
   "metadata": {},
   "outputs": [
    {
     "name": "stdout",
     "output_type": "stream",
     "text": [
      "0\n",
      "1\n",
      "3\n",
      "4\n"
     ]
    }
   ],
   "source": [
    "for num in range(5):\n",
    "    if num == 2:\n",
    "        continue\n",
    "    print(num)"
   ]
  },
  {
   "cell_type": "code",
   "execution_count": 7,
   "id": "549b8cc6-5ba3-4c6a-88ab-903c13c45b23",
   "metadata": {},
   "outputs": [
    {
     "name": "stdout",
     "output_type": "stream",
     "text": [
      "0\n",
      "1\n",
      "2\n",
      "4\n"
     ]
    }
   ],
   "source": [
    "# PASS  it is written  in situation where it is required but no need to be printed \n",
    "\n",
    "for number in range(5):\n",
    "    if number == 3:\n",
    "        pass\n",
    "    else:\n",
    "        print(number)"
   ]
  },
  {
   "cell_type": "code",
   "execution_count": 12,
   "id": "20bd27f3-fe8e-4ff7-afbb-be7f171d765e",
   "metadata": {},
   "outputs": [
    {
     "name": "stdout",
     "output_type": "stream",
     "text": [
      "[1, 2, 3, 4, 5]\n"
     ]
    },
    {
     "name": "stdin",
     "output_type": "stream",
     "text": [
      " 5\n"
     ]
    },
    {
     "name": "stdout",
     "output_type": "stream",
     "text": [
      "Number 5 found in list.\n"
     ]
    }
   ],
   "source": [
    "list = [1,2,3,4,5,]\n",
    "print(list)\n",
    "target = int(input())\n",
    "for num in list:\n",
    "    if num == target :\n",
    "        print(f\"Number {target} found in list.\")\n",
    "        break\n",
    "else:\n",
    "    print(f\"Number {target} not found in list.\")"
   ]
  },
  {
   "cell_type": "code",
   "execution_count": 29,
   "id": "37fbd9a5-0dd9-4194-83ed-c8f4e2eb7c34",
   "metadata": {},
   "outputs": [
    {
     "name": "stdout",
     "output_type": "stream",
     "text": [
      "[1, 2, 3, 4, 5]\n"
     ]
    },
    {
     "name": "stdin",
     "output_type": "stream",
     "text": [
      " 6\n"
     ]
    },
    {
     "name": "stdout",
     "output_type": "stream",
     "text": [
      "Number 6 not found in list.\n"
     ]
    }
   ],
   "source": [
    "list = [1,2,3,4,5,]\n",
    "print(list)\n",
    "target = int(input())\n",
    "for num in list:\n",
    "    if num == target :\n",
    "        print(f\"Number {target} found in list.\")\n",
    "        break\n",
    "else:\n",
    "    print(f\"Number {target} not found in list.\")"
   ]
  }
 ],
 "metadata": {
  "kernelspec": {
   "display_name": "Python 3 (ipykernel)",
   "language": "python",
   "name": "python3"
  },
  "language_info": {
   "codemirror_mode": {
    "name": "ipython",
    "version": 3
   },
   "file_extension": ".py",
   "mimetype": "text/x-python",
   "name": "python",
   "nbconvert_exporter": "python",
   "pygments_lexer": "ipython3",
   "version": "3.12.7"
  }
 },
 "nbformat": 4,
 "nbformat_minor": 5
}
