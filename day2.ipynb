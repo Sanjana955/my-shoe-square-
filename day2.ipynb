{
 "cells": [
  {
   "cell_type": "markdown",
   "id": "5a8c5cef-c114-4728-b70b-def91f51c4a3",
   "metadata": {},
   "source": [
    "DAY 2 25-04-2025 FRIDAY"
   ]
  },
  {
   "cell_type": "code",
   "execution_count": null,
   "id": "c0a5be57-c383-4837-bbab-a20e9ea83e80",
   "metadata": {},
   "outputs": [],
   "source": [
    "DICTIONARY :  it is unorder collection of key- values pair enclosed in curly braces keys is immutable "
   ]
  },
  {
   "cell_type": "code",
   "execution_count": null,
   "id": "c1f1eefc-a57a-414d-8211-0b2c66dc3b1f",
   "metadata": {},
   "outputs": [],
   "source": [
    "strings : once we create we cannot be changed the values we can deleted"
   ]
  },
  {
   "cell_type": "code",
   "execution_count": 3,
   "id": "f219858f-b429-4640-afc6-5503cb05008b",
   "metadata": {},
   "outputs": [
    {
     "name": "stdout",
     "output_type": "stream",
     "text": [
      "{'name': 'sanjana', 'age': 21, 'major': 'computer science'}\n"
     ]
    }
   ],
   "source": [
    "student = {\"name\":\"sanjana\" , \"age\":21, \"major\":\"computer science\"}\n",
    "prices = {\"apple\":1.2, \"banana\": 0.5, \"cherry\":2.5}\n",
    "print(student)"
   ]
  },
  {
   "cell_type": "code",
   "execution_count": null,
   "id": "3ff6f75c-d9f0-4e5c-bd41-705f84835af1",
   "metadata": {},
   "outputs": [],
   "source": [
    "student = {\"name\":[\"raj\"],\"alice\"],\"Age\":[20,22]}"
   ]
  },
  {
   "cell_type": "code",
   "execution_count": 4,
   "id": "d9a7a405-9354-4154-aac9-83692e561856",
   "metadata": {},
   "outputs": [
    {
     "name": "stdout",
     "output_type": "stream",
     "text": [
      "{'name': 'sanjana', 'age': 21, 'major': 'computer science'}\n"
     ]
    }
   ],
   "source": [
    "print(student)"
   ]
  },
  {
   "cell_type": "code",
   "execution_count": null,
   "id": "a924a82a-6e50-4e98-9574-9b0ee5516154",
   "metadata": {},
   "outputs": [],
   "source": [
    "variables: it is a named location memory "
   ]
  },
  {
   "cell_type": "code",
   "execution_count": 4,
   "id": "2720dd83-ef2c-465b-adba-11945bda989f",
   "metadata": {},
   "outputs": [
    {
     "ename": "SyntaxError",
     "evalue": "invalid decimal literal (213241377.py, line 1)",
     "output_type": "error",
     "traceback": [
      "\u001b[1;36m  Cell \u001b[1;32mIn[4], line 1\u001b[1;36m\u001b[0m\n\u001b[1;33m    1ab = 10\u001b[0m\n\u001b[1;37m    ^\u001b[0m\n\u001b[1;31mSyntaxError\u001b[0m\u001b[1;31m:\u001b[0m invalid decimal literal\n"
     ]
    }
   ],
   "source": [
    "1ab = 10"
   ]
  },
  {
   "cell_type": "code",
   "execution_count": 5,
   "id": "87636d78-0604-4d20-9c61-86bb738fdc5f",
   "metadata": {},
   "outputs": [
    {
     "data": {
      "text/plain": [
       "10"
      ]
     },
     "execution_count": 5,
     "metadata": {},
     "output_type": "execute_result"
    }
   ],
   "source": [
    "ab"
   ]
  },
  {
   "cell_type": "code",
   "execution_count": 7,
   "id": "58ddcc76-bf50-442d-8dfc-37c5c22feb7b",
   "metadata": {},
   "outputs": [],
   "source": [
    "AB = 20"
   ]
  },
  {
   "cell_type": "code",
   "execution_count": 8,
   "id": "5208f56a-006d-49f6-a6af-1affb1416042",
   "metadata": {},
   "outputs": [
    {
     "data": {
      "text/plain": [
       "20"
      ]
     },
     "execution_count": 8,
     "metadata": {},
     "output_type": "execute_result"
    }
   ],
   "source": [
    "AB"
   ]
  },
  {
   "cell_type": "code",
   "execution_count": 10,
   "id": "c74a3f94-c1cf-4d13-b37b-d299ea79b487",
   "metadata": {},
   "outputs": [],
   "source": [
    "_ab = 10 "
   ]
  },
  {
   "cell_type": "code",
   "execution_count": 11,
   "id": "70e3c640-0cee-4a91-8b29-84dba848246d",
   "metadata": {},
   "outputs": [
    {
     "data": {
      "text/plain": [
       "10"
      ]
     },
     "execution_count": 11,
     "metadata": {},
     "output_type": "execute_result"
    }
   ],
   "source": [
    "_ab "
   ]
  },
  {
   "cell_type": "code",
   "execution_count": null,
   "id": "41c9b5ed-9108-493d-93e1-d75a4ebd4e74",
   "metadata": {},
   "outputs": [],
   "source": [
    "_AB = 5"
   ]
  },
  {
   "cell_type": "code",
   "execution_count": 11,
   "id": "4348f372-1f14-493e-86b6-adbe3d5aded8",
   "metadata": {},
   "outputs": [],
   "source": [
    "MyVariable = 225"
   ]
  },
  {
   "cell_type": "code",
   "execution_count": 12,
   "id": "ae03103a-4c24-4264-afbc-14fe83ca84d6",
   "metadata": {},
   "outputs": [
    {
     "data": {
      "text/plain": [
       "225"
      ]
     },
     "execution_count": 12,
     "metadata": {},
     "output_type": "execute_result"
    }
   ],
   "source": [
    "MyVariable"
   ]
  },
  {
   "cell_type": "code",
   "execution_count": 9,
   "id": "fb05b647-0494-4bb2-b2e7-5f6203d02820",
   "metadata": {},
   "outputs": [],
   "source": [
    "Myvariable = 330"
   ]
  },
  {
   "cell_type": "code",
   "execution_count": 10,
   "id": "4d719450-ec27-4434-bdeb-7939f7bdec92",
   "metadata": {},
   "outputs": [
    {
     "data": {
      "text/plain": [
       "330"
      ]
     },
     "execution_count": 10,
     "metadata": {},
     "output_type": "execute_result"
    }
   ],
   "source": [
    "Myvariable"
   ]
  },
  {
   "cell_type": "markdown",
   "id": "0ba6c021-c1bd-4dd5-9464-3c7435d1aafe",
   "metadata": {},
   "source": [
    "python key words "
   ]
  },
  {
   "cell_type": "code",
   "execution_count": 30,
   "id": "4e8a253b-d49c-464d-9abb-5db7ab496d81",
   "metadata": {},
   "outputs": [],
   "source": [
    "for_4 = 44"
   ]
  },
  {
   "cell_type": "code",
   "execution_count": 29,
   "id": "5e20ccf0-295c-43e9-abd3-c093ae2fa098",
   "metadata": {},
   "outputs": [],
   "source": [
    "for_4=23"
   ]
  },
  {
   "cell_type": "code",
   "execution_count": 14,
   "id": "41fe9851-9cc5-4ebc-acb0-5b54770998d7",
   "metadata": {},
   "outputs": [
    {
     "ename": "SyntaxError",
     "evalue": "invalid syntax (644637640.py, line 1)",
     "output_type": "error",
     "traceback": [
      "\u001b[1;36m  Cell \u001b[1;32mIn[14], line 1\u001b[1;36m\u001b[0m\n\u001b[1;33m    is = 225\u001b[0m\n\u001b[1;37m    ^\u001b[0m\n\u001b[1;31mSyntaxError\u001b[0m\u001b[1;31m:\u001b[0m invalid syntax\n"
     ]
    }
   ],
   "source": [
    "is = 225"
   ]
  },
  {
   "cell_type": "code",
   "execution_count": null,
   "id": "d0be6402-fa28-4552-9b21-5c6ff561463f",
   "metadata": {},
   "outputs": [],
   "source": [
    "Variables names should be descriptive and meanigful,providing some indlication of the purpose or content of the variables\n",
    " Example  : total_sales = 5000 (descriptive,indicationg the total sales amount)"
   ]
  },
  {
   "cell_type": "code",
   "execution_count": 15,
   "id": "3d622dfa-5a0f-43f0-8c4e-2e9f6b0cc2ba",
   "metadata": {},
   "outputs": [],
   "source": [
    "#Example 1\n",
    "variable_name = 10"
   ]
  },
  {
   "cell_type": "code",
   "execution_count": 16,
   "id": "2180743d-8cf7-484c-b049-7c65d25788ca",
   "metadata": {},
   "outputs": [
    {
     "data": {
      "text/plain": [
       "10"
      ]
     },
     "execution_count": 16,
     "metadata": {},
     "output_type": "execute_result"
    }
   ],
   "source": [
    "variable_name"
   ]
  },
  {
   "cell_type": "code",
   "execution_count": 18,
   "id": "a28e46f0-276f-45eb-a8eb-1709d59569ff",
   "metadata": {},
   "outputs": [],
   "source": [
    "#Example 2 \n",
    "user_age = 21\n",
    "user_Age = 25"
   ]
  },
  {
   "cell_type": "code",
   "execution_count": 19,
   "id": "d88256e0-bbef-4238-a99e-5a67efa7d413",
   "metadata": {},
   "outputs": [
    {
     "data": {
      "text/plain": [
       "21"
      ]
     },
     "execution_count": 19,
     "metadata": {},
     "output_type": "execute_result"
    }
   ],
   "source": [
    "user_age"
   ]
  },
  {
   "cell_type": "code",
   "execution_count": 20,
   "id": "8a7e142c-1d65-42d0-9672-a8dfcfb5e8e0",
   "metadata": {},
   "outputs": [
    {
     "data": {
      "text/plain": [
       "25"
      ]
     },
     "execution_count": 20,
     "metadata": {},
     "output_type": "execute_result"
    }
   ],
   "source": [
    "user_Age"
   ]
  },
  {
   "cell_type": "code",
   "execution_count": null,
   "id": "ff96ace1-9030-4e9c-9fe2-070d85569746",
   "metadata": {},
   "outputs": [],
   "source": [
    "#Example 3 : python keyword cannot be used as variablenames\n",
    "# for = 10 #invalid, 'for' is a keyword "
   ]
  },
  {
   "cell_type": "code",
   "execution_count": null,
   "id": "37b3f242-923d-4534-8ce9-d92c58db2ac9",
   "metadata": {},
   "outputs": [],
   "source": [
    "# Example 4 : Variable name should be descriptive \n",
    "total_sales = 5000 # descriptive name "
   ]
  },
  {
   "cell_type": "code",
   "execution_count": null,
   "id": "2f6209d0-89e0-45b1-a050-1388b7a2435e",
   "metadata": {},
   "outputs": [],
   "source": [
    "list for in True False tuple "
   ]
  },
  {
   "cell_type": "code",
   "execution_count": null,
   "id": "91c8794e-845a-4711-82d0-961b3c323634",
   "metadata": {},
   "outputs": [],
   "source": [
    "# Example 5  : Avoid using built in function/module names \n",
    "list = [1,2,3] # avoid using \"list', which is a built-in type"
   ]
  },
  {
   "cell_type": "code",
   "execution_count": null,
   "id": "7d5d6238-df9f-40d8-ae48-afd051adfc78",
   "metadata": {},
   "outputs": [],
   "source": [
    "# Example 6: Underscores can be used to separate multiple words\n",
    "average_score = 85  # uses underscores"
   ]
  },
  {
   "cell_type": "code",
   "execution_count": null,
   "id": "72f3ef3f-8a0d-45cd-be18-257a84dbf5fb",
   "metadata": {},
   "outputs": [],
   "source": [
    "# Example 7: use lowercase letters for variable names\n",
    "item_count = 42 # fpllows convention of using Lowercase "
   ]
  },
  {
   "cell_type": "code",
   "execution_count": null,
   "id": "f615c622-164a-4303-a0e7-76fe7767a16c",
   "metadata": {},
   "outputs": [],
   "source": [
    "# Example 8: Consistent naming style\n",
    "user_name = \"Sanjana\"\n",
    "user_age = 21\n",
    "user_email = \"sanjana123@example.com\""
   ]
  },
  {
   "cell_type": "markdown",
   "id": "1e571eac-30e7-4f40-8487-87ca45652ec3",
   "metadata": {},
   "source": [
    "Avoid using builtin function or modules names as variables names to prevent conflict and confusion "
   ]
  },
  {
   "cell_type": "code",
   "execution_count": null,
   "id": "c1ea093e-786e-4c20-af8e-3f1639fc120d",
   "metadata": {},
   "outputs": [],
   "source": [
    "list = 55 "
   ]
  },
  {
   "cell_type": "code",
   "execution_count": null,
   "id": "3a22c11a-f8ba-47e0-9a5d-8156db32d349",
   "metadata": {},
   "outputs": [],
   "source": [
    "tuple = 66"
   ]
  },
  {
   "cell_type": "code",
   "execution_count": null,
   "id": "b5b7469f-1f83-41b1-ae19-1972e9669262",
   "metadata": {},
   "outputs": [],
   "source": [
    "list "
   ]
  },
  {
   "cell_type": "code",
   "execution_count": null,
   "id": "0c08a89b-b79d-4a35-83c6-9084ea27d7c4",
   "metadata": {},
   "outputs": [],
   "source": [
    "Underscore can be used to separate multiple words in a variable name , such as \"my_variable\" or \"total_count\""
   ]
  },
  {
   "cell_type": "code",
   "execution_count": null,
   "id": "28538b12-dd40-43a2-818c-f4f5dfc75fa3",
   "metadata": {},
   "outputs": [],
   "source": [
    "average_score = 25"
   ]
  },
  {
   "cell_type": "markdown",
   "id": "f21ad3fe-3644-4c5b-b569-57d9bd67c9ef",
   "metadata": {},
   "source": [
    "Comments : A Comment is note in the code the is ignored by the interpreted and used to explain or annotaed the code for human readers\n",
    "Explanation : Comments help imporve code readability and maintainability by providing explanations or context for the code "
   ]
  },
  {
   "cell_type": "code",
   "execution_count": 31,
   "id": "7751dbbc-a65d-4816-9041-881c7b81cb57",
   "metadata": {},
   "outputs": [
    {
     "data": {
      "text/plain": [
       "' my name is sanjana\\na multilline comment \\nand ia am '"
      ]
     },
     "execution_count": 31,
     "metadata": {},
     "output_type": "execute_result"
    }
   ],
   "source": [
    "\"\"\" my name is sanjana\n",
    "a multilline comment \n",
    "and ia am \"\"\""
   ]
  },
  {
   "cell_type": "code",
   "execution_count": 34,
   "id": "1b3ad044-6224-4821-80c3-0c4b1f4ba072",
   "metadata": {},
   "outputs": [
    {
     "data": {
      "text/plain": [
       "'sanjana'"
      ]
     },
     "execution_count": 34,
     "metadata": {},
     "output_type": "execute_result"
    }
   ],
   "source": [
    "\"sanjana\""
   ]
  },
  {
   "cell_type": "markdown",
   "id": "d7bdccc6-4c88-4435-af08-981506e4e8b4",
   "metadata": {},
   "source": [
    "KEYWORDS : A keyword is a reserved word in python that has apredefined meaning and cannot be used as ana identifiers (such as variable or function  name)\n",
    "Explanation  : keyword are fundamental to the syntax and structure of the language, controlling the flow and behavior of code "
   ]
  },
  {
   "cell_type": "code",
   "execution_count": 36,
   "id": "764600a6-9a27-41e7-aefe-9db9dc1ded94",
   "metadata": {},
   "outputs": [
    {
     "name": "stdout",
     "output_type": "stream",
     "text": [
      "this is a keyword\n"
     ]
    }
   ],
   "source": [
    "Example : \n",
    "#'if' is a keyword used for conditional statement \n",
    "if True:\n",
    "    print(\"this is a keyword\")"
   ]
  },
  {
   "cell_type": "code",
   "execution_count": 37,
   "id": "2bd6cdd6-33c3-4afd-a8c4-15768ac6b230",
   "metadata": {},
   "outputs": [
    {
     "ename": "SyntaxError",
     "evalue": "invalid syntax (3097183176.py, line 1)",
     "output_type": "error",
     "traceback": [
      "\u001b[1;36m  Cell \u001b[1;32mIn[37], line 1\u001b[1;36m\u001b[0m\n\u001b[1;33m    if for in False True else\u001b[0m\n\u001b[1;37m       ^\u001b[0m\n\u001b[1;31mSyntaxError\u001b[0m\u001b[1;31m:\u001b[0m invalid syntax\n"
     ]
    }
   ],
   "source": [
    "if for in False True else"
   ]
  },
  {
   "cell_type": "code",
   "execution_count": 38,
   "id": "58daa20b-da33-41a4-a6ff-45b1065e14c0",
   "metadata": {},
   "outputs": [
    {
     "ename": "SyntaxError",
     "evalue": "invalid syntax (2990096196.py, line 1)",
     "output_type": "error",
     "traceback": [
      "\u001b[1;36m  Cell \u001b[1;32mIn[38], line 1\u001b[1;36m\u001b[0m\n\u001b[1;33m    if = 0\u001b[0m\n\u001b[1;37m       ^\u001b[0m\n\u001b[1;31mSyntaxError\u001b[0m\u001b[1;31m:\u001b[0m invalid syntax\n"
     ]
    }
   ],
   "source": [
    "if = 0"
   ]
  },
  {
   "cell_type": "markdown",
   "id": "8496d914-dd38-45f5-b55e-dadd4f607ca6",
   "metadata": {},
   "source": [
    "IDENTIFIERS :  An identifiers is a name used to identify a variable, function, class, module, or other object in python \n",
    "Explanation : Identifiers must start with a letters (a-z,A-Z) or an underscore(_),followed by letters, numbers, or underscores, and must not be a reserved keyword"
   ]
  },
  {
   "cell_type": "code",
   "execution_count": 39,
   "id": "3ac5c43e-eb74-47be-ba10-f1be20547ef6",
   "metadata": {},
   "outputs": [
    {
     "name": "stdout",
     "output_type": "stream",
     "text": [
      "raj\n"
     ]
    }
   ],
   "source": [
    "name = \"raj\"\n",
    "print(name)"
   ]
  },
  {
   "cell_type": "markdown",
   "id": "86a327dc-a0d1-40d5-9564-83ecc7d239d3",
   "metadata": {},
   "source": [
    "User input : the input() function in python reads a line of text from the user and returns it as a string \n",
    "Explanation : it allows the program to receive input from the user during execution "
   ]
  },
  {
   "cell_type": "code",
   "execution_count": null,
   "id": "c935a2e8-bd41-46b1-8ea5-4d71ef86cb2f",
   "metadata": {},
   "outputs": [],
   "source": [
    "Example : \n",
    "# prompting the user for their name \n",
    "name = imput(\"Enter your name: \")"
   ]
  },
  {
   "cell_type": "code",
   "execution_count": null,
   "id": "78cca615-9979-4a6a-8b71-2579c5c9fae5",
   "metadata": {},
   "outputs": [],
   "source": [
    "name = input(\"sanjana\")"
   ]
  },
  {
   "cell_type": "code",
   "execution_count": null,
   "id": "03ea2d58-dd99-4401-b9b5-55ba50ddc34b",
   "metadata": {},
   "outputs": [],
   "source": [
    "type(name)"
   ]
  },
  {
   "cell_type": "code",
   "execution_count": 45,
   "id": "53173a9f-dcf8-433e-8edc-5482b24c88bd",
   "metadata": {},
   "outputs": [
    {
     "name": "stdin",
     "output_type": "stream",
     "text": [
      "Enter the name: sanjana\n"
     ]
    },
    {
     "name": "stdout",
     "output_type": "stream",
     "text": [
      "hello sanjana\n"
     ]
    }
   ],
   "source": [
    "name=input(\"Enter the name:\")\n",
    "print(\"hello\",name)"
   ]
  },
  {
   "cell_type": "code",
   "execution_count": 46,
   "id": "2d1999c8-b156-471c-a607-76252f24a1a7",
   "metadata": {},
   "outputs": [
    {
     "data": {
      "text/plain": [
       "'sanjana'"
      ]
     },
     "execution_count": 46,
     "metadata": {},
     "output_type": "execute_result"
    }
   ],
   "source": [
    "name"
   ]
  },
  {
   "cell_type": "code",
   "execution_count": 47,
   "id": "13549e3d-8421-42e7-ad56-1fcfe0740f52",
   "metadata": {},
   "outputs": [
    {
     "name": "stdin",
     "output_type": "stream",
     "text": [
      "my clg name is: mcu\n"
     ]
    },
    {
     "name": "stdout",
     "output_type": "stream",
     "text": [
      "hello mcu\n"
     ]
    }
   ],
   "source": [
    "name=input(\"my clg name is:\")\n",
    "print(\"hello\",name)"
   ]
  },
  {
   "cell_type": "code",
   "execution_count": 50,
   "id": "9173b46b-648a-4a40-a83f-bc7b519ec7a7",
   "metadata": {},
   "outputs": [
    {
     "name": "stdin",
     "output_type": "stream",
     "text": [
      "Enter User name: sanjana\n"
     ]
    },
    {
     "name": "stdout",
     "output_type": "stream",
     "text": [
      "user name sanjana\n"
     ]
    }
   ],
   "source": [
    "name=input(\"Enter User name:\")\n",
    "print(\"user name is:\",name)"
   ]
  },
  {
   "cell_type": "code",
   "execution_count": 54,
   "id": "10249ef1-b928-4119-9dd2-758b8c918ccd",
   "metadata": {},
   "outputs": [
    {
     "name": "stdin",
     "output_type": "stream",
     "text": [
      "Enter password: sanyash19\n"
     ]
    },
    {
     "name": "stdout",
     "output_type": "stream",
     "text": [
      "password: sanyash19\n"
     ]
    }
   ],
   "source": [
    "name=input(\"Enter password:\")\n",
    "print(\"password:\",name)"
   ]
  },
  {
   "cell_type": "code",
   "execution_count": 55,
   "id": "da8e2180-18b0-4d95-90b3-012772c2790d",
   "metadata": {},
   "outputs": [
    {
     "name": "stdin",
     "output_type": "stream",
     "text": [
      "enter the user name sanjana\n"
     ]
    },
    {
     "data": {
      "text/plain": [
       "'sanjana'"
      ]
     },
     "execution_count": 55,
     "metadata": {},
     "output_type": "execute_result"
    }
   ],
   "source": [
    "input(\"enter the user name\")"
   ]
  },
  {
   "cell_type": "code",
   "execution_count": 56,
   "id": "b93488c9-fa1c-466c-982d-c788e4d32afa",
   "metadata": {},
   "outputs": [
    {
     "name": "stdin",
     "output_type": "stream",
     "text": [
      "Enter the password sanaysh99\n"
     ]
    }
   ],
   "source": [
    "user_name = input(\"Enter the password\")"
   ]
  },
  {
   "cell_type": "code",
   "execution_count": 64,
   "id": "67a1d7bd-1d6e-4b9f-adce-297b78350871",
   "metadata": {},
   "outputs": [
    {
     "name": "stdin",
     "output_type": "stream",
     "text": [
      "enter the first numbers 40\n"
     ]
    }
   ],
   "source": [
    "num1 = int(input(\"enter the first numbers\"))"
   ]
  },
  {
   "cell_type": "code",
   "execution_count": 65,
   "id": "deb036fa-abcb-4609-a979-e2a0c65c0b7f",
   "metadata": {},
   "outputs": [
    {
     "data": {
      "text/plain": [
       "40"
      ]
     },
     "execution_count": 65,
     "metadata": {},
     "output_type": "execute_result"
    }
   ],
   "source": [
    "num1"
   ]
  },
  {
   "cell_type": "code",
   "execution_count": 66,
   "id": "e8d5a099-d819-4c99-824c-38b23a593e0c",
   "metadata": {},
   "outputs": [
    {
     "data": {
      "text/plain": [
       "int"
      ]
     },
     "execution_count": 66,
     "metadata": {},
     "output_type": "execute_result"
    }
   ],
   "source": [
    "type(num1)"
   ]
  },
  {
   "cell_type": "code",
   "execution_count": 67,
   "id": "f42085a2-2893-408b-b24e-5c3edbf8b306",
   "metadata": {},
   "outputs": [
    {
     "name": "stdin",
     "output_type": "stream",
     "text": [
      "enter the first numbers 50\n"
     ]
    }
   ],
   "source": [
    "num1 = int(input(\"enter the first numbers\"))"
   ]
  },
  {
   "cell_type": "code",
   "execution_count": 68,
   "id": "673d3e31-fcd4-48bd-a869-66b1615fb48e",
   "metadata": {},
   "outputs": [
    {
     "data": {
      "text/plain": [
       "50"
      ]
     },
     "execution_count": 68,
     "metadata": {},
     "output_type": "execute_result"
    }
   ],
   "source": [
    "num2"
   ]
  },
  {
   "cell_type": "code",
   "execution_count": 69,
   "id": "d5a7053e-6c0d-4846-ae61-777640e9c3dc",
   "metadata": {},
   "outputs": [
    {
     "data": {
      "text/plain": [
       "90"
      ]
     },
     "execution_count": 69,
     "metadata": {},
     "output_type": "execute_result"
    }
   ],
   "source": [
    "num1 + num2"
   ]
  },
  {
   "cell_type": "code",
   "execution_count": 71,
   "id": "5c53b8e6-3ee2-4ed0-9fc0-0011bc11303d",
   "metadata": {},
   "outputs": [
    {
     "name": "stdin",
     "output_type": "stream",
     "text": [
      "enter the first numbers 4.0\n",
      "enter the second numbers 5.0\n"
     ]
    }
   ],
   "source": [
    "num1 = float(input(\"enter the first numbers\"))\n",
    "num2 = float(input(\"enter the second numbers\"))"
   ]
  },
  {
   "cell_type": "code",
   "execution_count": 78,
   "id": "fcd23868-65c0-4862-81ad-b62ecdf92d27",
   "metadata": {},
   "outputs": [
    {
     "name": "stdin",
     "output_type": "stream",
     "text": [
      "Enter the first number:  6\n",
      "Enter the second number:  4\n"
     ]
    },
    {
     "name": "stdout",
     "output_type": "stream",
     "text": [
      "sum is  <built-in function sum>\n",
      "difference is  -1.0\n",
      "product is  20.0\n",
      "ratio is  0.8\n"
     ]
    }
   ],
   "source": [
    "num = int(input(\"Enter the first number: \"))\n",
    "num = int(input(\"Enter the second number: \"))\n",
    "\n",
    "result = num1 + num2\n",
    "add = num1+num2\n",
    "sub = num1-num2\n",
    "mul = num1*num2\n",
    "div = num1/num2\n",
    "print(\"sum is \", sum)\n",
    "print(\"difference is \",sub)\n",
    "print(\"product is \", mul)\n",
    "print(\"ratio is \", div)"
   ]
  },
  {
   "cell_type": "code",
   "execution_count": null,
   "id": "3334f65c-2c26-432e-96fe-76f81ea371cc",
   "metadata": {},
   "outputs": [],
   "source": []
  }
 ],
 "metadata": {
  "kernelspec": {
   "display_name": "Python 3 (ipykernel)",
   "language": "python",
   "name": "python3"
  },
  "language_info": {
   "codemirror_mode": {
    "name": "ipython",
    "version": 3
   },
   "file_extension": ".py",
   "mimetype": "text/x-python",
   "name": "python",
   "nbconvert_exporter": "python",
   "pygments_lexer": "ipython3",
   "version": "3.12.7"
  }
 },
 "nbformat": 4,
 "nbformat_minor": 5
}
