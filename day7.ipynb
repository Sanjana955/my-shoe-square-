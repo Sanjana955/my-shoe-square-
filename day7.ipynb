{
 "cells": [
  {
   "cell_type": "markdown",
   "id": "fb953564-6838-41a1-878e-164942ce39ee",
   "metadata": {},
   "source": [
    "WHILE LOOPS "
   ]
  },
  {
   "cell_type": "code",
   "execution_count": 6,
   "id": "e2c73713-4206-4074-a345-84412786889c",
   "metadata": {},
   "outputs": [
    {
     "name": "stdout",
     "output_type": "stream",
     "text": [
      "Count is: 1\n",
      "Count is: 2\n",
      "Count is: 3\n",
      "Count is: 4\n",
      "Count is: 5\n"
     ]
    }
   ],
   "source": [
    "count = 1   # initialized count variable \n",
    "while count <= 5:\n",
    "    print(\"Count is:\", count)   \n",
    "    count = count + 1  # increment the count by 1"
   ]
  },
  {
   "cell_type": "code",
   "execution_count": 9,
   "id": "4f56cb1d-fbd8-4959-ba3e-5bdd7b382b51",
   "metadata": {},
   "outputs": [
    {
     "name": "stdout",
     "output_type": "stream",
     "text": [
      "Current number is: 10\n",
      "Current number is: 8\n",
      "Current number is: 6\n",
      "Current number is: 4\n",
      "Current number is: 2\n"
     ]
    }
   ],
   "source": [
    "number = 10\n",
    "\n",
    "while number > 0:\n",
    "    print(\"Current number is:\", number)\n",
    "    number -= 2   # Decrease number by 2 "
   ]
  },
  {
   "cell_type": "markdown",
   "id": "97883e24-024d-48cf-a62d-2956638c6e5c",
   "metadata": {},
   "source": [
    " Infinite Loop: "
   ]
  },
  {
   "cell_type": "code",
   "execution_count": null,
   "id": "6789a873-5cb3-4c30-b6a9-e1e9853a5d4a",
   "metadata": {},
   "outputs": [],
   "source": [
    "while True:\n",
    "    print(\"This loop runs forever unless stopped!\")"
   ]
  },
  {
   "cell_type": "markdown",
   "id": "600a543e-439d-4242-af18-61319201978b",
   "metadata": {},
   "source": [
    "using else with while loop "
   ]
  },
  {
   "cell_type": "code",
   "execution_count": 10,
   "id": "9294f2af-7d02-43f0-a16d-9fec5b3a4582",
   "metadata": {},
   "outputs": [
    {
     "name": "stdout",
     "output_type": "stream",
     "text": [
      "x is: 3\n",
      "x is: 2\n",
      "x is: 1\n",
      "Loop has ended\n"
     ]
    }
   ],
   "source": [
    "x = 3\n",
    "\n",
    "while x > 0:\n",
    "    print(\"x is:\", x)\n",
    "    x -= 1\n",
    "else:\n",
    "    print(\"Loop has ended\")"
   ]
  },
  {
   "cell_type": "markdown",
   "id": "81ea2729-e35c-430f-bacb-04573da3273d",
   "metadata": {},
   "source": [
    "Strings"
   ]
  },
  {
   "cell_type": "code",
   "execution_count": 13,
   "id": "aa8da027-fac0-42fc-9142-0fe2b14e9550",
   "metadata": {},
   "outputs": [],
   "source": [
    "my_string = \"Sanjana V\""
   ]
  },
  {
   "cell_type": "code",
   "execution_count": 14,
   "id": "b314d42a-8398-4540-9582-0bb40849dfb5",
   "metadata": {},
   "outputs": [
    {
     "data": {
      "text/plain": [
       "'j'"
      ]
     },
     "execution_count": 14,
     "metadata": {},
     "output_type": "execute_result"
    }
   ],
   "source": [
    "my_string[3]"
   ]
  },
  {
   "cell_type": "code",
   "execution_count": 17,
   "id": "71da74fd-e6f5-4e0c-a7c5-f9ac6c4bee5a",
   "metadata": {},
   "outputs": [
    {
     "data": {
      "text/plain": [
       "' '"
      ]
     },
     "execution_count": 17,
     "metadata": {},
     "output_type": "execute_result"
    }
   ],
   "source": [
    "my_string[7]"
   ]
  },
  {
   "cell_type": "code",
   "execution_count": 18,
   "id": "f7e44e09-939a-4f06-9086-0a546f9d2efc",
   "metadata": {},
   "outputs": [
    {
     "data": {
      "text/plain": [
       "'n'"
      ]
     },
     "execution_count": 18,
     "metadata": {},
     "output_type": "execute_result"
    }
   ],
   "source": [
    "my_string[5]"
   ]
  },
  {
   "cell_type": "code",
   "execution_count": 19,
   "id": "4e37cb80-c688-446d-932f-ebaf5254c439",
   "metadata": {},
   "outputs": [
    {
     "data": {
      "text/plain": [
       "'S'"
      ]
     },
     "execution_count": 19,
     "metadata": {},
     "output_type": "execute_result"
    }
   ],
   "source": [
    "my_string[0]"
   ]
  },
  {
   "cell_type": "code",
   "execution_count": 20,
   "id": "bfde8093-90bb-4ec0-8d68-11810668bf83",
   "metadata": {},
   "outputs": [
    {
     "data": {
      "text/plain": [
       "'V'"
      ]
     },
     "execution_count": 20,
     "metadata": {},
     "output_type": "execute_result"
    }
   ],
   "source": [
    "my_string[8]"
   ]
  },
  {
   "cell_type": "markdown",
   "id": "2f1c99c4-1569-4878-ba71-acb950eeb8f6",
   "metadata": {},
   "source": [
    "Negative index "
   ]
  },
  {
   "cell_type": "code",
   "execution_count": 22,
   "id": "cbeab5ae-e588-4b1f-a0c5-18034c651a8f",
   "metadata": {},
   "outputs": [],
   "source": [
    "my_string = (\"Python Programming\")"
   ]
  },
  {
   "cell_type": "code",
   "execution_count": 26,
   "id": "16e6be48-f3bf-4f11-a3f4-4818c8913568",
   "metadata": {},
   "outputs": [
    {
     "data": {
      "text/plain": [
       "'Pyt'"
      ]
     },
     "execution_count": 26,
     "metadata": {},
     "output_type": "execute_result"
    }
   ],
   "source": [
    "my_string[:3]"
   ]
  },
  {
   "cell_type": "code",
   "execution_count": 24,
   "id": "b1c5ac47-7125-46b7-ba29-7ce4baa3baf0",
   "metadata": {},
   "outputs": [],
   "source": [
    "text = (\"Python Programming\")"
   ]
  },
  {
   "cell_type": "code",
   "execution_count": 25,
   "id": "b86aa0a6-9fff-42e1-9aa3-7ea823edb368",
   "metadata": {},
   "outputs": [
    {
     "data": {
      "text/plain": [
       "'Py'"
      ]
     },
     "execution_count": 25,
     "metadata": {},
     "output_type": "execute_result"
    }
   ],
   "source": [
    "text[0:2]"
   ]
  },
  {
   "cell_type": "code",
   "execution_count": 34,
   "id": "81c5626e-0712-4f21-b36a-79d067494f7c",
   "metadata": {},
   "outputs": [
    {
     "data": {
      "text/plain": [
       "'Pyth'"
      ]
     },
     "execution_count": 34,
     "metadata": {},
     "output_type": "execute_result"
    }
   ],
   "source": [
    "text[0:4]"
   ]
  },
  {
   "cell_type": "code",
   "execution_count": 30,
   "id": "e3bed195-7cab-488e-971a-eb9eed3e7e34",
   "metadata": {},
   "outputs": [
    {
     "data": {
      "text/plain": [
       "'Python'"
      ]
     },
     "execution_count": 30,
     "metadata": {},
     "output_type": "execute_result"
    }
   ],
   "source": [
    "text[0:6]"
   ]
  },
  {
   "cell_type": "code",
   "execution_count": 32,
   "id": "28781f58-6233-4202-8522-58c995f8aa84",
   "metadata": {},
   "outputs": [
    {
     "data": {
      "text/plain": [
       "'Python Programming'"
      ]
     },
     "execution_count": 32,
     "metadata": {},
     "output_type": "execute_result"
    }
   ],
   "source": [
    "text[0:18]"
   ]
  },
  {
   "cell_type": "code",
   "execution_count": 35,
   "id": "c832effd-8695-4eaa-a0e9-d16255444d2f",
   "metadata": {},
   "outputs": [
    {
     "data": {
      "text/plain": [
       "'Python P'"
      ]
     },
     "execution_count": 35,
     "metadata": {},
     "output_type": "execute_result"
    }
   ],
   "source": [
    "text[ :8]"
   ]
  },
  {
   "cell_type": "code",
   "execution_count": 39,
   "id": "1dc8c715-3d13-4d8c-9173-a691a016fdad",
   "metadata": {},
   "outputs": [
    {
     "data": {
      "text/plain": [
       "'Py'"
      ]
     },
     "execution_count": 39,
     "metadata": {},
     "output_type": "execute_result"
    }
   ],
   "source": [
    "text[:2]"
   ]
  },
  {
   "cell_type": "code",
   "execution_count": 37,
   "id": "75f93013-c956-4a75-829d-06a88549516b",
   "metadata": {},
   "outputs": [
    {
     "data": {
      "text/plain": [
       "'n Programming'"
      ]
     },
     "execution_count": 37,
     "metadata": {},
     "output_type": "execute_result"
    }
   ],
   "source": [
    "text[5:]"
   ]
  },
  {
   "cell_type": "code",
   "execution_count": 38,
   "id": "2804285a-8d06-4d4b-880c-4116f7a42e7f",
   "metadata": {},
   "outputs": [
    {
     "data": {
      "text/plain": [
       "'thon Programming'"
      ]
     },
     "execution_count": 38,
     "metadata": {},
     "output_type": "execute_result"
    }
   ],
   "source": [
    "text[2:]"
   ]
  },
  {
   "cell_type": "code",
   "execution_count": 40,
   "id": "a9b93393-222b-4580-bbfc-b8ff97002664",
   "metadata": {},
   "outputs": [],
   "source": [
    "text = (\"Python Programming\")\n",
    "substring = text[:8]"
   ]
  },
  {
   "cell_type": "code",
   "execution_count": 41,
   "id": "386f4d2c-6e82-4975-98ce-ae41862000b1",
   "metadata": {},
   "outputs": [
    {
     "data": {
      "text/plain": [
       "'Python P'"
      ]
     },
     "execution_count": 41,
     "metadata": {},
     "output_type": "execute_result"
    }
   ],
   "source": [
    "substring"
   ]
  },
  {
   "cell_type": "code",
   "execution_count": 42,
   "id": "ebb69224-a7cc-4847-b551-c37bf6c979f8",
   "metadata": {},
   "outputs": [],
   "source": [
    "text = (\"Python Programming\")\n",
    "substring = text[4:]"
   ]
  },
  {
   "cell_type": "code",
   "execution_count": 43,
   "id": "78f5c696-ae1f-4352-a177-c4668255568c",
   "metadata": {},
   "outputs": [
    {
     "data": {
      "text/plain": [
       "'on Programming'"
      ]
     },
     "execution_count": 43,
     "metadata": {},
     "output_type": "execute_result"
    }
   ],
   "source": [
    "substring"
   ]
  },
  {
   "cell_type": "code",
   "execution_count": null,
   "id": "6ec30c9c-72d8-432e-a9f5-26d97c502fc3",
   "metadata": {},
   "outputs": [],
   "source": [
    "Negative Indexing "
   ]
  },
  {
   "cell_type": "code",
   "execution_count": 44,
   "id": "961572f1-f9f6-4e98-9917-fd1963a85a60",
   "metadata": {},
   "outputs": [
    {
     "data": {
      "text/plain": [
       "'Python Programming'"
      ]
     },
     "execution_count": 44,
     "metadata": {},
     "output_type": "execute_result"
    }
   ],
   "source": [
    "text"
   ]
  },
  {
   "cell_type": "code",
   "execution_count": 47,
   "id": "49ad4609-450c-443e-a7ff-23bdec5cb3d0",
   "metadata": {},
   "outputs": [
    {
     "data": {
      "text/plain": [
       "' Programmin'"
      ]
     },
     "execution_count": 47,
     "metadata": {},
     "output_type": "execute_result"
    }
   ],
   "source": [
    "text[-12:-1]"
   ]
  },
  {
   "cell_type": "code",
   "execution_count": 48,
   "id": "ccb50fe4-e016-4ea5-9c24-277dd500cf2c",
   "metadata": {},
   "outputs": [
    {
     "data": {
      "text/plain": [
       "'Python Programming'"
      ]
     },
     "execution_count": 48,
     "metadata": {},
     "output_type": "execute_result"
    }
   ],
   "source": [
    "text[::1]"
   ]
  },
  {
   "cell_type": "markdown",
   "id": "04fe22a8-3b23-4220-9171-47f971cdbf09",
   "metadata": {},
   "source": [
    "Reverse a String "
   ]
  },
  {
   "cell_type": "code",
   "execution_count": 53,
   "id": "2031eed5-5cae-4076-a039-519d899138d6",
   "metadata": {},
   "outputs": [],
   "source": [
    "text = \"Python Programming\""
   ]
  },
  {
   "cell_type": "code",
   "execution_count": 54,
   "id": "39572fd9-cdf9-45be-bdcc-3fb353f004fa",
   "metadata": {},
   "outputs": [],
   "source": [
    "reverse_string = text[::-1]"
   ]
  },
  {
   "cell_type": "code",
   "execution_count": 55,
   "id": "425e3aa1-2b87-4600-aa1c-436aeeb941a5",
   "metadata": {},
   "outputs": [
    {
     "data": {
      "text/plain": [
       "'gnimmargorP nohtyP'"
      ]
     },
     "execution_count": 55,
     "metadata": {},
     "output_type": "execute_result"
    }
   ],
   "source": [
    "reverse_string"
   ]
  },
  {
   "cell_type": "raw",
   "id": "e0b28ff1-30a4-4c2a-ae0a-f5b0e57b84cd",
   "metadata": {},
   "source": [
    "reverse_string = text[::-2]"
   ]
  },
  {
   "cell_type": "code",
   "execution_count": 62,
   "id": "421f0bdf-aa8d-47c5-9561-d963737777c5",
   "metadata": {},
   "outputs": [
    {
     "data": {
      "text/plain": [
       "'gnimmargorP nohtyP'"
      ]
     },
     "execution_count": 62,
     "metadata": {},
     "output_type": "execute_result"
    }
   ],
   "source": [
    "reverse_string"
   ]
  },
  {
   "cell_type": "markdown",
   "id": "6eb8ef82-7e5b-4ed1-afd3-deff453e07c0",
   "metadata": {},
   "source": [
    "Editing String "
   ]
  },
  {
   "cell_type": "code",
   "execution_count": 66,
   "id": "f6169a87-8694-4493-a0f9-6461c36946ec",
   "metadata": {},
   "outputs": [],
   "source": [
    "original_string = \"Hello world\""
   ]
  },
  {
   "cell_type": "code",
   "execution_count": 67,
   "id": "bd50c5e7-ce55-4a15-9368-06358593b845",
   "metadata": {},
   "outputs": [],
   "source": [
    "new_string = original_string.replace(\"World\",\"Python\")"
   ]
  },
  {
   "cell_type": "code",
   "execution_count": 68,
   "id": "ef943e59-f68e-493e-b19b-451cf79dcb75",
   "metadata": {},
   "outputs": [
    {
     "data": {
      "text/plain": [
       "'Hello world'"
      ]
     },
     "execution_count": 68,
     "metadata": {},
     "output_type": "execute_result"
    }
   ],
   "source": [
    "new_string"
   ]
  },
  {
   "cell_type": "markdown",
   "id": "28c9b5f2-4a37-4ce9-8333-e74bc308d8a2",
   "metadata": {},
   "source": [
    "Concatination "
   ]
  },
  {
   "cell_type": "code",
   "execution_count": 69,
   "id": "c5d844d2-835b-4352-9846-f1bdbee2edd4",
   "metadata": {},
   "outputs": [],
   "source": [
    "part1 = \"Hello\"\n",
    "part2 = \"World\"\n",
    "combined_string = part1 + \" \" + part2 + \"!\""
   ]
  },
  {
   "cell_type": "markdown",
   "id": "7ea480ad-1406-4546-841d-57ffcda662ff",
   "metadata": {},
   "source": [
    "combined_string"
   ]
  },
  {
   "cell_type": "code",
   "execution_count": 71,
   "id": "a4ad2890-7a44-4fcd-9cb0-613f13001443",
   "metadata": {},
   "outputs": [
    {
     "data": {
      "text/plain": [
       "'Hello Sanjana'"
      ]
     },
     "execution_count": 71,
     "metadata": {},
     "output_type": "execute_result"
    }
   ],
   "source": [
    "\"Hello\" + \" \" + \"Sanjana\""
   ]
  },
  {
   "cell_type": "markdown",
   "id": "c136e3bd-852d-4750-8972-20bfb3e006ce",
   "metadata": {},
   "source": [
    "Formating "
   ]
  },
  {
   "cell_type": "code",
   "execution_count": 72,
   "id": "85de5c12-d6c0-416e-8f92-442611a384e2",
   "metadata": {},
   "outputs": [],
   "source": [
    "name = \"Sanjana\"\n",
    "age = 21"
   ]
  },
  {
   "cell_type": "code",
   "execution_count": 73,
   "id": "c5da4879-0d13-4b2d-b94c-63d88ab55f9b",
   "metadata": {},
   "outputs": [
    {
     "name": "stdout",
     "output_type": "stream",
     "text": [
      "My name is Sanjana and the age is  21\n"
     ]
    }
   ],
   "source": [
    "print(\"My name is\",name,\"and the age is \", age)"
   ]
  },
  {
   "cell_type": "code",
   "execution_count": null,
   "id": "14233388-c0cf-4c1a-9e75-297ccaec442b",
   "metadata": {},
   "outputs": [],
   "source": [
    "print(\"My name is\",name,\"and the age is \", age)"
   ]
  },
  {
   "cell_type": "code",
   "execution_count": 74,
   "id": "cc85dee6-e930-42d6-94f7-5f96343d6798",
   "metadata": {},
   "outputs": [
    {
     "data": {
      "text/plain": [
       "'My name is Sanjana and I am 21 years old'"
      ]
     },
     "execution_count": 74,
     "metadata": {},
     "output_type": "execute_result"
    }
   ],
   "source": [
    "f'My name is {name} and I am {age} years old'"
   ]
  },
  {
   "cell_type": "code",
   "execution_count": 75,
   "id": "0871e692-7119-4ab5-8f45-15872f0920ff",
   "metadata": {},
   "outputs": [
    {
     "data": {
      "text/plain": [
       "'this is Sanjana and string 21'"
      ]
     },
     "execution_count": 75,
     "metadata": {},
     "output_type": "execute_result"
    }
   ],
   "source": [
    "f'this is {name} and string {age}'"
   ]
  },
  {
   "cell_type": "markdown",
   "id": "571083f6-ff56-4472-aa5f-f72b0c1348b8",
   "metadata": {},
   "source": [
    "Deleting String"
   ]
  },
  {
   "cell_type": "code",
   "execution_count": 1,
   "id": "93b7a63a-73b5-41b5-b8a5-120df94ae127",
   "metadata": {},
   "outputs": [],
   "source": [
    "my_string = \"Hello Python\""
   ]
  },
  {
   "cell_type": "code",
   "execution_count": 2,
   "id": "30f970ea-a5de-4323-b335-32565b98f1eb",
   "metadata": {},
   "outputs": [
    {
     "data": {
      "text/plain": [
       "'Hello Python'"
      ]
     },
     "execution_count": 2,
     "metadata": {},
     "output_type": "execute_result"
    }
   ],
   "source": [
    "my_string"
   ]
  },
  {
   "cell_type": "code",
   "execution_count": 3,
   "id": "66e6ba76-e7ee-44e5-bbd0-5a27c37cc98c",
   "metadata": {},
   "outputs": [],
   "source": [
    "del my_string"
   ]
  },
  {
   "cell_type": "markdown",
   "id": "e71dba9b-40c8-4b13-be91-9b2ffe76d0a4",
   "metadata": {},
   "source": [
    "Operations on string"
   ]
  },
  {
   "cell_type": "markdown",
   "id": "938f3b90-370e-4a5a-967a-821ba8091b35",
   "metadata": {},
   "source": [
    "Arithmetic Operations "
   ]
  },
  {
   "cell_type": "code",
   "execution_count": 90,
   "id": "e107fbd1-60c0-4377-85a5-0276e6aa57f6",
   "metadata": {},
   "outputs": [],
   "source": [
    "string1 = \"hello\"\n",
    "string2 = \"world\"\n",
    "result = string1 + \" \" + string2"
   ]
  },
  {
   "cell_type": "raw",
   "id": "ce495d42-8f04-4cc9-8320-cee06ba56f24",
   "metadata": {},
   "source": [
    "result"
   ]
  },
  {
   "cell_type": "markdown",
   "id": "fb804a07-7272-420e-ab9f-fa97acd0588c",
   "metadata": {},
   "source": [
    "Repetition String "
   ]
  },
  {
   "cell_type": "code",
   "execution_count": 87,
   "id": "d50ebd73-e623-4957-935f-7f6816d5ff98",
   "metadata": {},
   "outputs": [],
   "source": [
    "string = \"ha\""
   ]
  },
  {
   "cell_type": "code",
   "execution_count": 88,
   "id": "f920b1bd-2b7f-43b6-a31b-d1e2ef08d7af",
   "metadata": {},
   "outputs": [],
   "source": [
    "result = string * 12"
   ]
  },
  {
   "cell_type": "code",
   "execution_count": 89,
   "id": "c9619897-d981-45fd-bbf4-131bcd0246e9",
   "metadata": {},
   "outputs": [
    {
     "data": {
      "text/plain": [
       "'hahahahahahahahahahahaha'"
      ]
     },
     "execution_count": 89,
     "metadata": {},
     "output_type": "execute_result"
    }
   ],
   "source": [
    "result"
   ]
  },
  {
   "cell_type": "markdown",
   "id": "9026aa84-604e-4819-950a-69e34c11775d",
   "metadata": {},
   "source": [
    "Loop Operation"
   ]
  },
  {
   "cell_type": "code",
   "execution_count": 93,
   "id": "407ac09e-82ce-4769-9ba5-8f6f167cf8c7",
   "metadata": {},
   "outputs": [
    {
     "name": "stdout",
     "output_type": "stream",
     "text": [
      "P\n",
      "y\n",
      "t\n",
      "h\n",
      "o\n",
      "n\n"
     ]
    }
   ],
   "source": [
    "# for loop\n",
    "\n",
    "text = \"Python\"\n",
    "for char in text:\n",
    "    print(char)"
   ]
  },
  {
   "cell_type": "code",
   "execution_count": 95,
   "id": "4a74d850-511c-4bf1-a83f-7acbbdea2bc5",
   "metadata": {},
   "outputs": [
    {
     "name": "stdout",
     "output_type": "stream",
     "text": [
      "Number of vowels: 3\n"
     ]
    }
   ],
   "source": [
    "# count Vowel\n",
    "text  =\"Programming\"\n",
    "vowels =\"aeiou\"\n",
    "count = 0\n",
    "\n",
    "for char in text:\n",
    "    if char in vowels:\n",
    "        count +=1\n",
    "print(\"Number of vowels:\", count)        "
   ]
  },
  {
   "cell_type": "code",
   "execution_count": 98,
   "id": "314fef94-0569-413a-b6f7-52c048ebab4e",
   "metadata": {},
   "outputs": [
    {
     "name": "stdout",
     "output_type": "stream",
     "text": [
      "Number of vowels: 7\n"
     ]
    }
   ],
   "source": [
    "text  =\"Hello welcome to python\"\n",
    "vowels =\"aeiou\"\n",
    "count = 0\n",
    "\n",
    "for char in text:\n",
    "    if char in vowels:\n",
    "        count +=1\n",
    "print(\"Number of vowels:\", count)        "
   ]
  },
  {
   "cell_type": "code",
   "execution_count": 104,
   "id": "70d23d6c-e37b-484a-ab7c-35521e15877c",
   "metadata": {},
   "outputs": [
    {
     "data": {
      "text/plain": [
       "'sanjana acharya'"
      ]
     },
     "execution_count": 104,
     "metadata": {},
     "output_type": "execute_result"
    }
   ],
   "source": [
    "name= \"SANJANA ACHARYA\"\n",
    "name.lower()"
   ]
  },
  {
   "cell_type": "code",
   "execution_count": 106,
   "id": "c74c56a7-caa4-4751-af11-68a485d5e1df",
   "metadata": {},
   "outputs": [
    {
     "data": {
      "text/plain": [
       "'HELLO PYTHON'"
      ]
     },
     "execution_count": 106,
     "metadata": {},
     "output_type": "execute_result"
    }
   ],
   "source": [
    "name= \"hello python\"\n",
    "name.upper()"
   ]
  }
 ],
 "metadata": {
  "kernelspec": {
   "display_name": "Python 3 (ipykernel)",
   "language": "python",
   "name": "python3"
  },
  "language_info": {
   "codemirror_mode": {
    "name": "ipython",
    "version": 3
   },
   "file_extension": ".py",
   "mimetype": "text/x-python",
   "name": "python",
   "nbconvert_exporter": "python",
   "pygments_lexer": "ipython3",
   "version": "3.12.7"
  }
 },
 "nbformat": 4,
 "nbformat_minor": 5
}
