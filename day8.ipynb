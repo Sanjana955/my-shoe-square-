{
 "cells": [
  {
   "cell_type": "raw",
   "id": "6bf167c5-b116-4f7b-abd0-38c3194b3569",
   "metadata": {},
   "source": [
    "Loops Operations on strings in python"
   ]
  },
  {
   "cell_type": "code",
   "execution_count": 4,
   "id": "c7501636-c3b2-4dab-ae66-2eed1dfe1d0c",
   "metadata": {},
   "outputs": [
    {
     "name": "stdout",
     "output_type": "stream",
     "text": [
      "P\n",
      "y\n",
      "t\n",
      "h\n",
      "o\n",
      "n\n"
     ]
    }
   ],
   "source": [
    "# For Loop\n",
    "\n",
    "text = \"Python\"\n",
    "for char in text:\n",
    "    print(char)"
   ]
  },
  {
   "cell_type": "markdown",
   "id": "c43e9e04-ef6f-4df2-977c-8dedec6157ea",
   "metadata": {},
   "source": [
    "Create a new string with Uppercase letters "
   ]
  },
  {
   "cell_type": "code",
   "execution_count": null,
   "id": "c16c6f5a-d1f4-47fd-92ff-1538ea822aef",
   "metadata": {},
   "outputs": [],
   "source": [
    "text =\"hello\"\n",
    "uppercase_text = \"\"\n",
    "for  char in text"
   ]
  },
  {
   "cell_type": "markdown",
   "id": "91575d82-b659-4fa6-8ad9-b553000794b5",
   "metadata": {},
   "source": [
    "Membership Operators "
   ]
  },
  {
   "cell_type": "code",
   "execution_count": 5,
   "id": "4fc0b5b1-42ae-4e31-9055-416d9d801269",
   "metadata": {},
   "outputs": [
    {
     "data": {
      "text/plain": [
       "True"
      ]
     },
     "execution_count": 5,
     "metadata": {},
     "output_type": "execute_result"
    }
   ],
   "source": [
    "text = \"hello World!\"\n",
    "\"W\" in text"
   ]
  },
  {
   "cell_type": "code",
   "execution_count": 6,
   "id": "c3d87dc1-8ece-4c43-9f82-c0acd7ddbc3f",
   "metadata": {},
   "outputs": [
    {
     "data": {
      "text/plain": [
       "True"
      ]
     },
     "execution_count": 6,
     "metadata": {},
     "output_type": "execute_result"
    }
   ],
   "source": [
    "'ello' in text"
   ]
  },
  {
   "cell_type": "code",
   "execution_count": 7,
   "id": "f43643de-89aa-464f-983d-9c53f2cb382d",
   "metadata": {},
   "outputs": [
    {
     "data": {
      "text/plain": [
       "False"
      ]
     },
     "execution_count": 7,
     "metadata": {},
     "output_type": "execute_result"
    }
   ],
   "source": [
    "'old' in text"
   ]
  },
  {
   "cell_type": "code",
   "execution_count": 9,
   "id": "b93616c4-8a65-4c30-ae6e-b1950107ffed",
   "metadata": {},
   "outputs": [
    {
     "data": {
      "text/plain": [
       "False"
      ]
     },
     "execution_count": 9,
     "metadata": {},
     "output_type": "execute_result"
    }
   ],
   "source": [
    "'llo w' in text"
   ]
  },
  {
   "cell_type": "code",
   "execution_count": 10,
   "id": "bac43366-ee9d-4c32-bbec-8bbeb8e57a5c",
   "metadata": {},
   "outputs": [
    {
     "data": {
      "text/plain": [
       "True"
      ]
     },
     "execution_count": 10,
     "metadata": {},
     "output_type": "execute_result"
    }
   ],
   "source": [
    "text =\"Sanjana\"\n",
    "\"j\" in text"
   ]
  },
  {
   "cell_type": "markdown",
   "id": "3994c371-4161-42a2-aa88-198937fbb8e3",
   "metadata": {},
   "source": [
    "check if a substring does not exist "
   ]
  },
  {
   "cell_type": "code",
   "execution_count": 11,
   "id": "49ea6d38-820c-4d05-bdd7-dec5e70c25d0",
   "metadata": {},
   "outputs": [
    {
     "data": {
      "text/plain": [
       "False"
      ]
     },
     "execution_count": 11,
     "metadata": {},
     "output_type": "execute_result"
    }
   ],
   "source": [
    "text =\"Hello, World!\"\n",
    "\"Hello\" not in text"
   ]
  },
  {
   "cell_type": "code",
   "execution_count": 12,
   "id": "fc98c485-8812-40cd-b191-1bf036e2242b",
   "metadata": {},
   "outputs": [
    {
     "data": {
      "text/plain": [
       "True"
      ]
     },
     "execution_count": 12,
     "metadata": {},
     "output_type": "execute_result"
    }
   ],
   "source": [
    "'hep' not in text"
   ]
  },
  {
   "cell_type": "code",
   "execution_count": 13,
   "id": "703e33f1-6af9-499f-9406-ef6598591254",
   "metadata": {},
   "outputs": [
    {
     "data": {
      "text/plain": [
       "False"
      ]
     },
     "execution_count": 13,
     "metadata": {},
     "output_type": "execute_result"
    }
   ],
   "source": [
    "'World' not in text"
   ]
  },
  {
   "cell_type": "code",
   "execution_count": 14,
   "id": "fde7e664-b81a-417d-bd7d-e1c0e4ba4c71",
   "metadata": {},
   "outputs": [
    {
     "data": {
      "text/plain": [
       "True"
      ]
     },
     "execution_count": 14,
     "metadata": {},
     "output_type": "execute_result"
    }
   ],
   "source": [
    "'Hello' in text"
   ]
  },
  {
   "cell_type": "code",
   "execution_count": 17,
   "id": "79c83233-03f2-4926-86c2-bc790feed6b7",
   "metadata": {},
   "outputs": [
    {
     "data": {
      "text/plain": [
       "False"
      ]
     },
     "execution_count": 17,
     "metadata": {},
     "output_type": "execute_result"
    }
   ],
   "source": [
    "\"Hello, World!\" not in text"
   ]
  },
  {
   "cell_type": "code",
   "execution_count": 22,
   "id": "1768e785-51ca-4fb4-886f-95eb0e382b82",
   "metadata": {},
   "outputs": [
    {
     "data": {
      "text/plain": [
       "'Dictionary is a collection which is oredred** and changeable. no duplicate members'"
      ]
     },
     "execution_count": 22,
     "metadata": {},
     "output_type": "execute_result"
    }
   ],
   "source": [
    "mystring = \"list is a collection which is ordered and changeable. Allows duplicates members\"\n",
    "\"tuple is a collection which is oredred and unchangeble. Allows duplicate members\"\n",
    "\"set is a collection which is unordered, unchangeable* , and unindex duplicated members\"\n",
    "\"Dictionary is a collection which is oredred** and changeable. no duplicate members\""
   ]
  },
  {
   "cell_type": "code",
   "execution_count": 23,
   "id": "6513ec46-20bd-44f1-8191-f6bfa81e2a28",
   "metadata": {},
   "outputs": [
    {
     "data": {
      "text/plain": [
       "True"
      ]
     },
     "execution_count": 23,
     "metadata": {},
     "output_type": "execute_result"
    }
   ],
   "source": [
    "\"ordered\" in mystring"
   ]
  },
  {
   "cell_type": "code",
   "execution_count": 24,
   "id": "31b8df1e-6123-4aea-a690-0eabf2fbbe61",
   "metadata": {},
   "outputs": [
    {
     "data": {
      "text/plain": [
       "True"
      ]
     },
     "execution_count": 24,
     "metadata": {},
     "output_type": "execute_result"
    }
   ],
   "source": [
    "\"collection\" in mystring"
   ]
  },
  {
   "cell_type": "code",
   "execution_count": 25,
   "id": "c3b3ba8c-9105-4fab-be59-0d85dbd821aa",
   "metadata": {},
   "outputs": [
    {
     "data": {
      "text/plain": [
       "False"
      ]
     },
     "execution_count": 25,
     "metadata": {},
     "output_type": "execute_result"
    }
   ],
   "source": [
    "\"duplicate\" not in mystring"
   ]
  },
  {
   "cell_type": "markdown",
   "id": "c009f43f-2240-459e-899e-81b691d15ee5",
   "metadata": {},
   "source": [
    "str.title()"
   ]
  },
  {
   "cell_type": "code",
   "execution_count": 27,
   "id": "fd0c41ae-27e9-46bb-a6d6-28299c7c1cb0",
   "metadata": {},
   "outputs": [],
   "source": [
    "text = \"hello, world!\"\n",
    "titl_text = text.title()"
   ]
  },
  {
   "cell_type": "code",
   "execution_count": 28,
   "id": "847c41fb-cb06-497a-a165-1696760da0b3",
   "metadata": {},
   "outputs": [
    {
     "data": {
      "text/plain": [
       "'Hello, World! Try'"
      ]
     },
     "execution_count": 28,
     "metadata": {},
     "output_type": "execute_result"
    }
   ],
   "source": [
    "text =\"hello, world! try\"\n",
    "text.title()"
   ]
  },
  {
   "cell_type": "markdown",
   "id": "81614e44-6063-4458-80cb-6fbd9fca1aed",
   "metadata": {},
   "source": [
    "str.strip()"
   ]
  },
  {
   "cell_type": "code",
   "execution_count": 31,
   "id": "87a48081-2347-4a78-ad29-185bf4540309",
   "metadata": {},
   "outputs": [],
   "source": [
    "text = \"    hello, world!   \"\n",
    "stripped_text = text.strip()"
   ]
  },
  {
   "cell_type": "code",
   "execution_count": 32,
   "id": "d498434f-5342-44df-9473-381ef61379e0",
   "metadata": {},
   "outputs": [
    {
     "data": {
      "text/plain": [
       "'hello, world!'"
      ]
     },
     "execution_count": 32,
     "metadata": {},
     "output_type": "execute_result"
    }
   ],
   "source": [
    "text = \"    hello, world!   \"\n",
    "text.strip()"
   ]
  },
  {
   "cell_type": "code",
   "execution_count": null,
   "id": "c703db55-5dec-4418-a670-6e6681165cd8",
   "metadata": {},
   "outputs": [],
   "source": [
    "str.replace(old,new)"
   ]
  },
  {
   "cell_type": "code",
   "execution_count": null,
   "id": "f2e8179c-a80c-4eb7-9e5e-ef5c558b1f78",
   "metadata": {},
   "outputs": [],
   "source": [
    "text = \"Hello, World!\"\n",
    "replaced_text "
   ]
  },
  {
   "cell_type": "markdown",
   "id": "6692c1cb-bd07-47cd-ac3e-29fc4427bd76",
   "metadata": {},
   "source": [
    "split"
   ]
  },
  {
   "cell_type": "code",
   "execution_count": 33,
   "id": "dd271d4e-c2f5-49d0-9229-8896c713c06a",
   "metadata": {},
   "outputs": [],
   "source": [
    "text = \"Hello, World!\"\n",
    "split_text = text.split(\", \")"
   ]
  },
  {
   "cell_type": "code",
   "execution_count": 34,
   "id": "ca062615-6043-4189-9b7c-09bed670bcf9",
   "metadata": {},
   "outputs": [
    {
     "data": {
      "text/plain": [
       "['Hello', 'World!', 'this', 'is', 'asplit', 'method']"
      ]
     },
     "execution_count": 34,
     "metadata": {},
     "output_type": "execute_result"
    }
   ],
   "source": [
    "text = \"Hello World! this is asplit method\"\n",
    "text.split(\" \")"
   ]
  },
  {
   "cell_type": "code",
   "execution_count": 35,
   "id": "48e6f3e4-3cab-4c9c-b80b-6318e6726457",
   "metadata": {},
   "outputs": [
    {
     "data": {
      "text/plain": [
       "['Hello', 'World!']"
      ]
     },
     "execution_count": 35,
     "metadata": {},
     "output_type": "execute_result"
    }
   ],
   "source": [
    "split_text"
   ]
  },
  {
   "cell_type": "code",
   "execution_count": 38,
   "id": "1437f615-a214-484f-9b6c-342077437c10",
   "metadata": {},
   "outputs": [
    {
     "data": {
      "text/plain": [
       "['Hello, World! ', ' is a split method']"
      ]
     },
     "execution_count": 38,
     "metadata": {},
     "output_type": "execute_result"
    }
   ],
   "source": [
    "text = \"Hello, World! this is a split method\"\n",
    "text.split(\"this\")"
   ]
  },
  {
   "cell_type": "code",
   "execution_count": 37,
   "id": "58f85b49-daad-4a54-a3f9-4f9719070045",
   "metadata": {},
   "outputs": [
    {
     "data": {
      "text/plain": [
       "['Hello', 'World!']"
      ]
     },
     "execution_count": 37,
     "metadata": {},
     "output_type": "execute_result"
    }
   ],
   "source": [
    "split_text"
   ]
  },
  {
   "cell_type": "markdown",
   "id": "05d400b1-91f7-4fd4-ba62-5d23c0e58646",
   "metadata": {},
   "source": [
    "str.join(iterable)"
   ]
  },
  {
   "cell_type": "code",
   "execution_count": 40,
   "id": "424658e1-f097-427b-9694-d4d07322dc94",
   "metadata": {},
   "outputs": [],
   "source": [
    "words =['Hello','World']\n",
    "joined_text = ' '. join(words)"
   ]
  },
  {
   "cell_type": "code",
   "execution_count": 41,
   "id": "463b7cfb-657b-4b25-ab7e-225564ee3813",
   "metadata": {},
   "outputs": [
    {
     "data": {
      "text/plain": [
       "['Hello', 'World', 'this', 'is']"
      ]
     },
     "execution_count": 41,
     "metadata": {},
     "output_type": "execute_result"
    }
   ],
   "source": [
    "words = ['Hello','World',\"this\",\"is\"]\n",
    "words"
   ]
  },
  {
   "cell_type": "code",
   "execution_count": 45,
   "id": "e2c43b22-5312-46cd-9a73-ddf4af85c0e7",
   "metadata": {},
   "outputs": [],
   "source": [
    "joined_text = '-'.join(words)"
   ]
  },
  {
   "cell_type": "code",
   "execution_count": 46,
   "id": "f933a74a-a231-428a-bd4d-ead622f6a9d1",
   "metadata": {},
   "outputs": [
    {
     "data": {
      "text/plain": [
       "'Hello-World-this-is'"
      ]
     },
     "execution_count": 46,
     "metadata": {},
     "output_type": "execute_result"
    }
   ],
   "source": [
    "joined_text"
   ]
  },
  {
   "cell_type": "markdown",
   "id": "a4697550-3935-43fa-ab10-0aec803473a0",
   "metadata": {},
   "source": [
    "str.find(substring)"
   ]
  },
  {
   "cell_type": "code",
   "execution_count": 47,
   "id": "784fd33e-a3e5-4e00-9cfa-875326850922",
   "metadata": {},
   "outputs": [],
   "source": [
    "text =\"Hello, World!\"\n",
    "index = text.find(\"World\")"
   ]
  },
  {
   "cell_type": "code",
   "execution_count": 50,
   "id": "f4b10669-10c8-472d-a2a3-f06f62876997",
   "metadata": {},
   "outputs": [],
   "source": [
    "text =\"hello, World!\"\n",
    "index = text.find(\"World\")"
   ]
  },
  {
   "cell_type": "code",
   "execution_count": 51,
   "id": "cc8aaae3-dba2-44f0-b37e-86bdb04c2c8f",
   "metadata": {},
   "outputs": [
    {
     "data": {
      "text/plain": [
       "7"
      ]
     },
     "execution_count": 51,
     "metadata": {},
     "output_type": "execute_result"
    }
   ],
   "source": [
    "index"
   ]
  },
  {
   "cell_type": "markdown",
   "id": "3aa0fe92-6ff5-4e9e-9a43-5173fe21536e",
   "metadata": {},
   "source": [
    "str.count()"
   ]
  },
  {
   "cell_type": "code",
   "execution_count": 55,
   "id": "73247da7-e2b8-4730-a121-0ddcb78edcff",
   "metadata": {},
   "outputs": [],
   "source": [
    "text =\"Hello, Hello, World!\"\n",
    "count = text.count(\"Hello\")"
   ]
  },
  {
   "cell_type": "code",
   "execution_count": 56,
   "id": "f171fe99-b1d2-4f1e-a8fb-8bf70482441e",
   "metadata": {},
   "outputs": [],
   "source": [
    "text =\"Hello, Hello, World!\"\n",
    "count = text.count(\"o\")"
   ]
  },
  {
   "cell_type": "code",
   "execution_count": 57,
   "id": "83ccb6aa-9cdd-4107-b3d1-69da68a43542",
   "metadata": {},
   "outputs": [
    {
     "data": {
      "text/plain": [
       "3"
      ]
     },
     "execution_count": 57,
     "metadata": {},
     "output_type": "execute_result"
    }
   ],
   "source": [
    "count"
   ]
  },
  {
   "cell_type": "code",
   "execution_count": 58,
   "id": "41db0870-d289-4907-84da-2db3e5dda4ce",
   "metadata": {},
   "outputs": [],
   "source": [
    "text =\"Hello, Hello, World!\"\n",
    "count = text.count(\"e\")"
   ]
  },
  {
   "cell_type": "code",
   "execution_count": 59,
   "id": "57ef6c07-5af1-4ae1-b3b5-58aa53baee25",
   "metadata": {},
   "outputs": [
    {
     "data": {
      "text/plain": [
       "2"
      ]
     },
     "execution_count": 59,
     "metadata": {},
     "output_type": "execute_result"
    }
   ],
   "source": [
    "count"
   ]
  },
  {
   "cell_type": "markdown",
   "id": "87cf2405-bb70-4253-be43-7841264f012f",
   "metadata": {},
   "source": [
    "str.startswith(prefix)"
   ]
  },
  {
   "cell_type": "code",
   "execution_count": 61,
   "id": "4fe70aa0-d566-462a-ab29-80d17289c989",
   "metadata": {},
   "outputs": [],
   "source": [
    "text =\"Hello, Hello, World!\"\n",
    "starts_with_hello = text.startswith(\"Hello\")"
   ]
  },
  {
   "cell_type": "code",
   "execution_count": 62,
   "id": "bbab8842-8352-4f24-98a9-8ab2b4f853dd",
   "metadata": {},
   "outputs": [],
   "source": [
    "text = \"Hello, World!\""
   ]
  },
  {
   "cell_type": "code",
   "execution_count": 65,
   "id": "4c43d7a7-4ff2-4903-bbd7-60f673721609",
   "metadata": {},
   "outputs": [
    {
     "data": {
      "text/plain": [
       "False"
      ]
     },
     "execution_count": 65,
     "metadata": {},
     "output_type": "execute_result"
    }
   ],
   "source": [
    "text =\"Hello, World!\"\n",
    "text.startswith(\"World\")"
   ]
  },
  {
   "cell_type": "code",
   "execution_count": 66,
   "id": "b2b699aa-0922-4932-bb3c-0e168d7a95b8",
   "metadata": {},
   "outputs": [
    {
     "data": {
      "text/plain": [
       "True"
      ]
     },
     "execution_count": 66,
     "metadata": {},
     "output_type": "execute_result"
    }
   ],
   "source": [
    "text =\"Hello, World!\"\n",
    "text.startswith(\"Hello\")"
   ]
  },
  {
   "cell_type": "code",
   "execution_count": 67,
   "id": "7225fd49-0dde-452c-864c-6c62953d8d90",
   "metadata": {},
   "outputs": [],
   "source": [
    "text =\"Hello, Hello, World!\"\n",
    "ends_with_World = text.endswith(\"World!\")"
   ]
  },
  {
   "cell_type": "code",
   "execution_count": 68,
   "id": "eb7e7fa0-9715-4bd0-a531-3b78ffab9693",
   "metadata": {},
   "outputs": [
    {
     "data": {
      "text/plain": [
       "True"
      ]
     },
     "execution_count": 68,
     "metadata": {},
     "output_type": "execute_result"
    }
   ],
   "source": [
    "text =\"Hello, World!\"\n",
    "text.endswith(\"!\")"
   ]
  },
  {
   "cell_type": "markdown",
   "id": "dfffe0ae-25e9-4375-abe6-5b3c914e44f5",
   "metadata": {},
   "source": [
    "str.isdigit()"
   ]
  },
  {
   "cell_type": "code",
   "execution_count": 69,
   "id": "b98151ba-7d54-4750-a86b-1eedaac64910",
   "metadata": {},
   "outputs": [],
   "source": [
    "text = \"12345\"\n",
    "is_digit = text.isdigit()"
   ]
  },
  {
   "cell_type": "code",
   "execution_count": 70,
   "id": "30f7fcff-873d-48f2-b914-ecf09a7facff",
   "metadata": {},
   "outputs": [
    {
     "data": {
      "text/plain": [
       "True"
      ]
     },
     "execution_count": 70,
     "metadata": {},
     "output_type": "execute_result"
    }
   ],
   "source": [
    "text = \"12345\"\n",
    "text.isdigit()"
   ]
  },
  {
   "cell_type": "code",
   "execution_count": 72,
   "id": "9d71ccc7-1010-4cd5-95fe-41635c7e8e88",
   "metadata": {},
   "outputs": [
    {
     "data": {
      "text/plain": [
       "False"
      ]
     },
     "execution_count": 72,
     "metadata": {},
     "output_type": "execute_result"
    }
   ],
   "source": [
    "text = \"abcd\"\n",
    "text.isdigit()"
   ]
  },
  {
   "cell_type": "markdown",
   "id": "bb97ed75-5098-4883-a058-d15af4384f01",
   "metadata": {},
   "source": [
    "str.isalpha()"
   ]
  },
  {
   "cell_type": "code",
   "execution_count": 80,
   "id": "28519208-fdf5-42d6-8599-881f0e51d52f",
   "metadata": {},
   "outputs": [],
   "source": [
    "text =\"Hello\"\n",
    "is_alpha = text.isalpha()"
   ]
  },
  {
   "cell_type": "code",
   "execution_count": 81,
   "id": "d7a79312-3601-405d-a780-2dc35d642f73",
   "metadata": {},
   "outputs": [
    {
     "data": {
      "text/plain": [
       "True"
      ]
     },
     "execution_count": 81,
     "metadata": {},
     "output_type": "execute_result"
    }
   ],
   "source": [
    "text =\"Hello\"\n",
    "text.isalpha()"
   ]
  },
  {
   "cell_type": "code",
   "execution_count": null,
   "id": "4aa236cc-6263-46b8-9982-e7a6c4f8ac43",
   "metadata": {},
   "outputs": [],
   "source": [
    "str.islower()"
   ]
  },
  {
   "cell_type": "code",
   "execution_count": 82,
   "id": "51672976-f7ab-4733-93db-a45216db5aee",
   "metadata": {},
   "outputs": [],
   "source": [
    "text =\"hello\"\n",
    "is_lower = text.isalpha()"
   ]
  },
  {
   "cell_type": "code",
   "execution_count": 84,
   "id": "5796d50c-d41b-4397-b7fe-32b2340e2270",
   "metadata": {},
   "outputs": [
    {
     "data": {
      "text/plain": [
       "True"
      ]
     },
     "execution_count": 84,
     "metadata": {},
     "output_type": "execute_result"
    }
   ],
   "source": [
    "text.islower()"
   ]
  },
  {
   "cell_type": "markdown",
   "id": "554a32a6-e307-46fa-afd3-af444787fc1a",
   "metadata": {},
   "source": [
    "str.isupper"
   ]
  },
  {
   "cell_type": "code",
   "execution_count": 87,
   "id": "e0e4a858-fca5-4948-94fc-116a3b7397e5",
   "metadata": {},
   "outputs": [],
   "source": [
    "text =\"HELLO\"\n",
    "is_upper = text.isupper()"
   ]
  },
  {
   "cell_type": "code",
   "execution_count": 88,
   "id": "819658b9-92eb-4ae9-91ee-f09e8df1584a",
   "metadata": {},
   "outputs": [
    {
     "data": {
      "text/plain": [
       "True"
      ]
     },
     "execution_count": 88,
     "metadata": {},
     "output_type": "execute_result"
    }
   ],
   "source": [
    "text.isupper()"
   ]
  },
  {
   "cell_type": "markdown",
   "id": "eff1c155-2393-4d2b-a5cc-6958fec48122",
   "metadata": {},
   "source": [
    "strzfill(width)"
   ]
  },
  {
   "cell_type": "code",
   "execution_count": 90,
   "id": "a3350128-e998-4df4-be36-063dc4ecc829",
   "metadata": {},
   "outputs": [],
   "source": [
    "text =\"42\"\n",
    "padded_text = text.zfill(5)"
   ]
  },
  {
   "cell_type": "code",
   "execution_count": 91,
   "id": "72e02288-bbaa-495d-b339-1414f0063095",
   "metadata": {},
   "outputs": [
    {
     "data": {
      "text/plain": [
       "'00042'"
      ]
     },
     "execution_count": 91,
     "metadata": {},
     "output_type": "execute_result"
    }
   ],
   "source": [
    "text =\"42\"\n",
    "padded_text = text.zfill(5)\n",
    "padded_text"
   ]
  },
  {
   "cell_type": "markdown",
   "id": "fe2a6ba8-3a2d-46e7-bb91-2406c3dc7d06",
   "metadata": {},
   "source": [
    "str.rfind(substing)"
   ]
  },
  {
   "cell_type": "code",
   "execution_count": 92,
   "id": "46d67a48-ba36-4442-aa80-6984e0375ab3",
   "metadata": {},
   "outputs": [],
   "source": [
    "text =\"Hello,Hello, World!\"\n",
    "index = text.rfind(\"Hello\")"
   ]
  },
  {
   "cell_type": "code",
   "execution_count": 96,
   "id": "ed437264-a4e1-436d-a4f2-a4eb603f61b6",
   "metadata": {},
   "outputs": [],
   "source": [
    "text = \"Hello, Hello, Hello World!\"\n",
    "index = text.rfind(\"World\")"
   ]
  },
  {
   "cell_type": "code",
   "execution_count": 97,
   "id": "4d44350f-fbf8-4b7b-a91a-fefecb7cf2fe",
   "metadata": {},
   "outputs": [
    {
     "data": {
      "text/plain": [
       "20"
      ]
     },
     "execution_count": 97,
     "metadata": {},
     "output_type": "execute_result"
    }
   ],
   "source": [
    "index"
   ]
  },
  {
   "cell_type": "markdown",
   "id": "91bceec4-bfff-4e32-afb2-ee0ab55f1054",
   "metadata": {},
   "source": [
    "Common Function "
   ]
  },
  {
   "cell_type": "markdown",
   "id": "8858b5c9-203b-4795-b720-393efe97fbe7",
   "metadata": {},
   "source": [
    "len()"
   ]
  },
  {
   "cell_type": "code",
   "execution_count": 98,
   "id": "5b53b00d-8c6f-4f0e-a133-8b8af376139e",
   "metadata": {},
   "outputs": [],
   "source": [
    "text = \"Hello, World!\"\n",
    "length = len(text)"
   ]
  },
  {
   "cell_type": "code",
   "execution_count": 99,
   "id": "00e2f1d9-adbd-478f-9c3f-073e83af77e6",
   "metadata": {},
   "outputs": [
    {
     "data": {
      "text/plain": [
       "13"
      ]
     },
     "execution_count": 99,
     "metadata": {},
     "output_type": "execute_result"
    }
   ],
   "source": [
    "text = \"Hello, World!\"\n",
    "len(text)"
   ]
  },
  {
   "cell_type": "markdown",
   "id": "8d1b7f3d-bdfd-431b-b918-4823db3500e8",
   "metadata": {},
   "source": [
    "sorted()"
   ]
  },
  {
   "cell_type": "code",
   "execution_count": 101,
   "id": "932d4b9d-07dd-42c6-8f60-a6ce6321fcbc",
   "metadata": {},
   "outputs": [],
   "source": [
    "text = \"banana\"\n",
    "sorted_text = sorted(text)"
   ]
  },
  {
   "cell_type": "code",
   "execution_count": 102,
   "id": "490cd654-46ea-41ea-ba69-ccf399eb484e",
   "metadata": {},
   "outputs": [
    {
     "data": {
      "text/plain": [
       "['a', 'a', 'a', 'b', 'n', 'n']"
      ]
     },
     "execution_count": 102,
     "metadata": {},
     "output_type": "execute_result"
    }
   ],
   "source": [
    "text = \"banana\"\n",
    "sorted_text"
   ]
  },
  {
   "cell_type": "markdown",
   "id": "edc73146-7290-4bec-b20d-6697cbcff2f4",
   "metadata": {},
   "source": [
    "Reversed()"
   ]
  },
  {
   "cell_type": "code",
   "execution_count": 107,
   "id": "d633439b-2777-4067-be3a-9d0cf83b9659",
   "metadata": {},
   "outputs": [],
   "source": [
    "text = \"Hello, World!\"\n",
    "reversed_text = ''.join(reversed(text))"
   ]
  },
  {
   "cell_type": "code",
   "execution_count": 110,
   "id": "c552a881-d19d-409e-97d1-1086cb89bc48",
   "metadata": {},
   "outputs": [
    {
     "data": {
      "text/plain": [
       "'!dlroW ,olleH'"
      ]
     },
     "execution_count": 110,
     "metadata": {},
     "output_type": "execute_result"
    }
   ],
   "source": [
    "text = \"Hello, World!\"\n",
    "''.join(reversed(text))"
   ]
  },
  {
   "cell_type": "markdown",
   "id": "52ed7b2b-0527-429d-8632-0ea794b9bd1f",
   "metadata": {},
   "source": [
    "sum()"
   ]
  },
  {
   "cell_type": "code",
   "execution_count": 112,
   "id": "a9a6c112-766b-4a19-925b-1034cecbaf4e",
   "metadata": {},
   "outputs": [],
   "source": [
    "numbers = [1,2,3,4,5]\n",
    "total = sum(numbers)"
   ]
  },
  {
   "cell_type": "code",
   "execution_count": 114,
   "id": "e3144ebc-72c3-4476-b002-27452909ae88",
   "metadata": {},
   "outputs": [
    {
     "data": {
      "text/plain": [
       "15"
      ]
     },
     "execution_count": 114,
     "metadata": {},
     "output_type": "execute_result"
    }
   ],
   "source": [
    "sum(numbers)"
   ]
  },
  {
   "cell_type": "code",
   "execution_count": 117,
   "id": "b004b413-2a95-4509-abef-42b3007d29f1",
   "metadata": {},
   "outputs": [],
   "source": [
    "first_name =\"John\"\n",
    "last_name =\"Doe\"\n",
    "full_name = first_name + \" \" + last_name"
   ]
  },
  {
   "cell_type": "code",
   "execution_count": 118,
   "id": "12d3ff2a-8c07-4506-9e5c-7d61a026f0a3",
   "metadata": {},
   "outputs": [
    {
     "data": {
      "text/plain": [
       "'John Doe'"
      ]
     },
     "execution_count": 118,
     "metadata": {},
     "output_type": "execute_result"
    }
   ],
   "source": [
    "full_name"
   ]
  }
 ],
 "metadata": {
  "kernelspec": {
   "display_name": "Python 3 (ipykernel)",
   "language": "python",
   "name": "python3"
  },
  "language_info": {
   "codemirror_mode": {
    "name": "ipython",
    "version": 3
   },
   "file_extension": ".py",
   "mimetype": "text/x-python",
   "name": "python",
   "nbconvert_exporter": "python",
   "pygments_lexer": "ipython3",
   "version": "3.12.7"
  }
 },
 "nbformat": 4,
 "nbformat_minor": 5
}
