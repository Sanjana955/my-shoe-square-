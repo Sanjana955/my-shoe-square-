{
 "cells": [
  {
   "cell_type": "markdown",
   "id": "26ff5a15-11da-4ea4-b50a-2208e55d62f2",
   "metadata": {},
   "source": [
    "TUPLE"
   ]
  },
  {
   "cell_type": "code",
   "execution_count": null,
   "id": "9a03f419-663e-4426-b146-6e70529045b9",
   "metadata": {},
   "outputs": [],
   "source": [
    "Oredr:"
   ]
  },
  {
   "cell_type": "code",
   "execution_count": null,
   "id": "2d35ce68-88dd-477c-8589-380562bd3fbe",
   "metadata": {},
   "outputs": [],
   "source": [
    "Immutable : "
   ]
  },
  {
   "cell_type": "code",
   "execution_count": 2,
   "id": "5ad3df1b-8ff7-4455-941e-40c891b226b2",
   "metadata": {},
   "outputs": [],
   "source": [
    "my_tuple = (1,2,3)"
   ]
  },
  {
   "cell_type": "code",
   "execution_count": 3,
   "id": "cf9cae35-a2a7-4cfe-8869-056b4234e1ec",
   "metadata": {},
   "outputs": [
    {
     "ename": "TypeError",
     "evalue": "'tuple' object does not support item assignment",
     "output_type": "error",
     "traceback": [
      "\u001b[1;31m---------------------------------------------------------------------------\u001b[0m",
      "\u001b[1;31mTypeError\u001b[0m                                 Traceback (most recent call last)",
      "Cell \u001b[1;32mIn[3], line 1\u001b[0m\n\u001b[1;32m----> 1\u001b[0m my_tuple[\u001b[38;5;241m0\u001b[39m] \u001b[38;5;241m=\u001b[39m\u001b[38;5;241m2225\u001b[39m\n",
      "\u001b[1;31mTypeError\u001b[0m: 'tuple' object does not support item assignment"
     ]
    }
   ],
   "source": [
    "my_tuple[0] =2225"
   ]
  },
  {
   "cell_type": "code",
   "execution_count": 4,
   "id": "e3c9ffcb-2549-4499-8936-dd265f056e79",
   "metadata": {},
   "outputs": [
    {
     "name": "stdout",
     "output_type": "stream",
     "text": [
      "(1, 'hello', 3, 14)\n"
     ]
    }
   ],
   "source": [
    "# Hetero genious\n",
    "my_tuple = (1,\"hello\", 3,14)\n",
    "print(my_tuple)"
   ]
  },
  {
   "cell_type": "code",
   "execution_count": 16,
   "id": "2064c8ee-1d1a-421b-9629-f6b5edf42777",
   "metadata": {},
   "outputs": [
    {
     "name": "stdout",
     "output_type": "stream",
     "text": [
      "30\n",
      "(20, 30, 40)\n"
     ]
    }
   ],
   "source": [
    "# Indexing and slicing\n",
    "my_tuple = (10,20,30,40,50)\n",
    "print(my_tuple[2])\n",
    "print(my_tuple[1:4])"
   ]
  },
  {
   "cell_type": "code",
   "execution_count": 17,
   "id": "dbf181c9-bcb4-4e1c-b5e2-b3383ec1a8f0",
   "metadata": {},
   "outputs": [
    {
     "data": {
      "text/plain": [
       "30"
      ]
     },
     "execution_count": 17,
     "metadata": {},
     "output_type": "execute_result"
    }
   ],
   "source": [
    "my_tuple[2]"
   ]
  },
  {
   "cell_type": "code",
   "execution_count": 18,
   "id": "0919350a-635d-4b67-bcda-c315a9e3cf0a",
   "metadata": {},
   "outputs": [],
   "source": [
    "# Packing and Unpacking\n",
    "my_tuple = 1,2,3"
   ]
  },
  {
   "cell_type": "code",
   "execution_count": 19,
   "id": "11cfd7c3-e05e-46c7-9ecc-49da661569c7",
   "metadata": {},
   "outputs": [
    {
     "data": {
      "text/plain": [
       "tuple"
      ]
     },
     "execution_count": 19,
     "metadata": {},
     "output_type": "execute_result"
    }
   ],
   "source": [
    "type(my_tuple)"
   ]
  },
  {
   "cell_type": "code",
   "execution_count": 20,
   "id": "386b0074-4e06-4c30-a103-1054f46a2cd6",
   "metadata": {},
   "outputs": [
    {
     "name": "stdout",
     "output_type": "stream",
     "text": [
      "(1, 2, 3)\n"
     ]
    }
   ],
   "source": [
    "#packing\n",
    "my_tuple = 1,2,3\n",
    "print(my_tuple)"
   ]
  },
  {
   "cell_type": "code",
   "execution_count": 23,
   "id": "031f484a-9e91-4d43-b9ed-0ed4cd6446d9",
   "metadata": {},
   "outputs": [
    {
     "name": "stdout",
     "output_type": "stream",
     "text": [
      "('Sanya', 21, 'Engineer')\n"
     ]
    }
   ],
   "source": [
    "# Example 1\n",
    "# creating a tuple:\n",
    "person =(\"Sanya\" , 21, \"Engineer\")\n",
    "print(person)"
   ]
  },
  {
   "cell_type": "code",
   "execution_count": 26,
   "id": "61cd91e3-0216-4577-9c22-c8cc0b842e15",
   "metadata": {},
   "outputs": [
    {
     "name": "stdout",
     "output_type": "stream",
     "text": [
      "10 20 30\n"
     ]
    }
   ],
   "source": [
    "# Example 2\n",
    "coordinates =(10,20,30)\n",
    "x = coordinates[0]\n",
    "y = coordinates[1]\n",
    "z = coordinates[2]\n",
    "print(x,y,z)"
   ]
  },
  {
   "cell_type": "code",
   "execution_count": 29,
   "id": "2b47c37b-d910-4ab8-a1ee-6d0c845caa7b",
   "metadata": {},
   "outputs": [],
   "source": [
    "l = [[1,2,3,4],[5,6,7,8,[1,2,3,4]]] "
   ]
  },
  {
   "cell_type": "code",
   "execution_count": 33,
   "id": "e52b81ff-ed88-4290-aa60-812ab17bacd1",
   "metadata": {},
   "outputs": [],
   "source": [
    "l = [0][0]"
   ]
  },
  {
   "cell_type": "code",
   "execution_count": 34,
   "id": "5bddbb43-184d-4d50-bcb7-a562f3787fff",
   "metadata": {},
   "outputs": [
    {
     "data": {
      "text/plain": [
       "0"
      ]
     },
     "execution_count": 34,
     "metadata": {},
     "output_type": "execute_result"
    }
   ],
   "source": [
    "l"
   ]
  },
  {
   "cell_type": "code",
   "execution_count": 38,
   "id": "f72246b0-6270-4fbf-b281-00accea5cbad",
   "metadata": {},
   "outputs": [],
   "source": [
    "# Example 3: Nested tuples \n",
    "nested_tuple = (1,(2,3) ,(4,(5,6)))"
   ]
  },
  {
   "cell_type": "code",
   "execution_count": 40,
   "id": "31eb5b9e-6144-49d8-875a-8f98057a2fc4",
   "metadata": {},
   "outputs": [
    {
     "data": {
      "text/plain": [
       "3"
      ]
     },
     "execution_count": 40,
     "metadata": {},
     "output_type": "execute_result"
    }
   ],
   "source": [
    "nested_tuple[1][1]"
   ]
  },
  {
   "cell_type": "code",
   "execution_count": 41,
   "id": "cc9811bf-eed5-4214-8217-12384199038b",
   "metadata": {},
   "outputs": [],
   "source": [
    "# creating a tuple\n",
    "my_tuple = (12, 14, 16, 18)"
   ]
  },
  {
   "cell_type": "code",
   "execution_count": 47,
   "id": "c0eb3b56-beb2-4ac2-bfef-b30c404c2e72",
   "metadata": {},
   "outputs": [],
   "source": [
    "slice_1 = my_tuple[1:3]\n",
    "slice_2 = my_tuple[:4]\n",
    "slice_3 = my_tuple[2 :]"
   ]
  },
  {
   "cell_type": "code",
   "execution_count": 48,
   "id": "71630e68-d053-438b-ac42-4c3f3aa46b41",
   "metadata": {},
   "outputs": [
    {
     "name": "stdout",
     "output_type": "stream",
     "text": [
      "(14, 16)\n",
      "(12, 14, 16, 18)\n",
      "(16, 18)\n"
     ]
    }
   ],
   "source": [
    "print(slice_1)\n",
    "print(slice_2)\n",
    "print(slice_3)"
   ]
  },
  {
   "cell_type": "code",
   "execution_count": 56,
   "id": "d8443c73-eed3-413b-b604-7552fbabeb33",
   "metadata": {},
   "outputs": [
    {
     "name": "stdout",
     "output_type": "stream",
     "text": [
      "cherry\n"
     ]
    }
   ],
   "source": [
    "# Question\n",
    "fruits = (\"apple\",\"banana\",\"cherry\",\"date\",\"elderberry\")\n",
    "cherry = fruits[2]\n",
    "print(cherry)"
   ]
  },
  {
   "cell_type": "code",
   "execution_count": 57,
   "id": "fc5d14fb-f42e-4dce-8a08-005744e58c36",
   "metadata": {},
   "outputs": [
    {
     "name": "stdout",
     "output_type": "stream",
     "text": [
      "(10, 20, 30)\n"
     ]
    }
   ],
   "source": [
    "# Question 2\n",
    "numbers = (10,20,30,40,50)\n",
    "first_three = numbers[:3]\n",
    "print(first_three)"
   ]
  },
  {
   "cell_type": "code",
   "execution_count": 61,
   "id": "3067ace4-d304-4297-884d-7aa2ac5c6b1d",
   "metadata": {},
   "outputs": [],
   "source": [
    "# Question 3\n",
    "colors = (\"red\",\"green\",\"blue\",\"yellow\",\"purple\")\n",
    "color = colors[-1]"
   ]
  },
  {
   "cell_type": "code",
   "execution_count": 62,
   "id": "fbc4f8e5-acca-46d3-9d5a-f28a9e427102",
   "metadata": {},
   "outputs": [
    {
     "name": "stdout",
     "output_type": "stream",
     "text": [
      "purple\n"
     ]
    }
   ],
   "source": [
    "print(color)"
   ]
  },
  {
   "cell_type": "code",
   "execution_count": 64,
   "id": "c6327c6f-fa93-440f-babf-e26446518e73",
   "metadata": {},
   "outputs": [
    {
     "name": "stdout",
     "output_type": "stream",
     "text": [
      "5\n"
     ]
    }
   ],
   "source": [
    "# question 4\n",
    "nested_tuple = (1,(2,3),(4,(5,6),7),8)\n",
    "five = nested_tuple[2][1][0]\n",
    "print(five)"
   ]
  },
  {
   "cell_type": "code",
   "execution_count": 81,
   "id": "0ce3dfb6-c4e8-4d8e-bf26-3d587f964fb3",
   "metadata": {},
   "outputs": [],
   "source": [
    "# Original tuple \n",
    "fruits = (\"apple\",\"banana\",\"cherry\")"
   ]
  },
  {
   "cell_type": "code",
   "execution_count": 82,
   "id": "94770154-ea18-4d7c-a7de-66503b95618e",
   "metadata": {},
   "outputs": [
    {
     "data": {
      "text/plain": [
       "tuple"
      ]
     },
     "execution_count": 82,
     "metadata": {},
     "output_type": "execute_result"
    }
   ],
   "source": [
    "type(fruits)"
   ]
  },
  {
   "cell_type": "code",
   "execution_count": 83,
   "id": "5a1949d9-097a-4879-b99d-fd09ef46c580",
   "metadata": {},
   "outputs": [],
   "source": [
    "a = list(fruits)"
   ]
  },
  {
   "cell_type": "code",
   "execution_count": 84,
   "id": "d6999b54-e319-42dd-8d7e-14845bfd3c58",
   "metadata": {},
   "outputs": [
    {
     "data": {
      "text/plain": [
       "list"
      ]
     },
     "execution_count": 84,
     "metadata": {},
     "output_type": "execute_result"
    }
   ],
   "source": [
    "type(a)"
   ]
  },
  {
   "cell_type": "code",
   "execution_count": 85,
   "id": "304217c7-a2e8-435a-9409-89349f9841cb",
   "metadata": {},
   "outputs": [
    {
     "data": {
      "text/plain": [
       "['apple', 'banana', 'cherry', 'Mango']"
      ]
     },
     "execution_count": 85,
     "metadata": {},
     "output_type": "execute_result"
    }
   ],
   "source": [
    "a.append(\"Mango\")\n",
    "a"
   ]
  },
  {
   "cell_type": "code",
   "execution_count": 86,
   "id": "6fb4f75b-db6b-42c3-8183-f396571480f3",
   "metadata": {},
   "outputs": [
    {
     "data": {
      "text/plain": [
       "('apple', 'banana', 'cherry', 'Mango')"
      ]
     },
     "execution_count": 86,
     "metadata": {},
     "output_type": "execute_result"
    }
   ],
   "source": [
    "b = tuple(a)\n",
    "b"
   ]
  },
  {
   "cell_type": "code",
   "execution_count": 87,
   "id": "6e84d2b3-211f-471a-abb0-48d8fc7c2544",
   "metadata": {},
   "outputs": [
    {
     "data": {
      "text/plain": [
       "('apple', 'banana', 'cherry', 'Mango')"
      ]
     },
     "execution_count": 87,
     "metadata": {},
     "output_type": "execute_result"
    }
   ],
   "source": [
    "tuple(b)"
   ]
  },
  {
   "cell_type": "code",
   "execution_count": 89,
   "id": "cde58750-32f3-4cc7-a9d4-ee0c86b0b458",
   "metadata": {},
   "outputs": [
    {
     "data": {
      "text/plain": [
       "('apple', 'banana', 'cherry', 'Mango')"
      ]
     },
     "execution_count": 89,
     "metadata": {},
     "output_type": "execute_result"
    }
   ],
   "source": [
    "tuple(a)"
   ]
  },
  {
   "cell_type": "code",
   "execution_count": 90,
   "id": "4b1e5590-f723-4edc-83f2-a3747543d0f3",
   "metadata": {},
   "outputs": [],
   "source": [
    "# Concatenate slice of tuple:\n",
    "fruits = (\"apple\",\"banana\",\"cherry\")"
   ]
  },
  {
   "cell_type": "code",
   "execution_count": 93,
   "id": "d13d3aad-6f8a-4f38-8d98-457a54d9ea4e",
   "metadata": {},
   "outputs": [
    {
     "name": "stdout",
     "output_type": "stream",
     "text": [
      "('apple', 'blueberry', 'cherry')\n"
     ]
    }
   ],
   "source": [
    "fruits_new = fruits[:1] + (\"blueberry\",) + fruits[2:]\n",
    "print(fruits_new)"
   ]
  },
  {
   "cell_type": "code",
   "execution_count": 94,
   "id": "155a5aa0-655c-4213-832b-a2616d577a3c",
   "metadata": {},
   "outputs": [],
   "source": [
    "#Using Concatenation to add elements:\n",
    "fruits = (\"apple\",\"banana\",\"cherry\")"
   ]
  },
  {
   "cell_type": "code",
   "execution_count": 95,
   "id": "e04a65b0-3da7-4ffb-98dc-a52a5ee8e9ec",
   "metadata": {},
   "outputs": [],
   "source": [
    "fruits1 = fruits + (\"date\",)"
   ]
  },
  {
   "cell_type": "code",
   "execution_count": 96,
   "id": "62f6f435-cdbe-4039-a61e-f9ffc9850104",
   "metadata": {},
   "outputs": [
    {
     "name": "stdout",
     "output_type": "stream",
     "text": [
      "('apple', 'banana', 'cherry', 'date')\n"
     ]
    }
   ],
   "source": [
    "print(fruits1)"
   ]
  },
  {
   "cell_type": "code",
   "execution_count": null,
   "id": "5b24bd6c-c479-413b-9575-7eb7f800fa28",
   "metadata": {},
   "outputs": [],
   "source": [
    "index:"
   ]
  },
  {
   "cell_type": "code",
   "execution_count": 100,
   "id": "c1bbe1cf-dd42-4bd6-9f8d-c5411b5a1a6d",
   "metadata": {},
   "outputs": [],
   "source": [
    "my_tuple = ('a','b','c','d','e')"
   ]
  },
  {
   "cell_type": "code",
   "execution_count": 101,
   "id": "b8da43b3-f075-443b-8a41-b1fa11f0e7d5",
   "metadata": {},
   "outputs": [
    {
     "data": {
      "text/plain": [
       "4"
      ]
     },
     "execution_count": 101,
     "metadata": {},
     "output_type": "execute_result"
    }
   ],
   "source": [
    "my_tuple.index(\"e\")"
   ]
  },
  {
   "cell_type": "code",
   "execution_count": 102,
   "id": "9714e4d7-c328-4915-b2c1-4385d7916d03",
   "metadata": {},
   "outputs": [
    {
     "data": {
      "text/plain": [
       "2"
      ]
     },
     "execution_count": 102,
     "metadata": {},
     "output_type": "execute_result"
    }
   ],
   "source": [
    "my_tuple.index(\"c\")"
   ]
  },
  {
   "cell_type": "markdown",
   "id": "cc41f692-893e-4636-b202-6cef60d568ad",
   "metadata": {},
   "source": [
    "python functions on tuple:"
   ]
  },
  {
   "cell_type": "code",
   "execution_count": 104,
   "id": "6b34babf-84a0-4219-9fa2-a58d647ca9b6",
   "metadata": {},
   "outputs": [
    {
     "name": "stdout",
     "output_type": "stream",
     "text": [
      "5\n"
     ]
    }
   ],
   "source": [
    "# len()  -----------> Returns the number of elements in tuple\n",
    "my_tuple = (10,20,30,40,50)\n",
    "length = len(my_tuple)\n",
    "print(length)"
   ]
  },
  {
   "cell_type": "code",
   "execution_count": 108,
   "id": "17e2bdce-ecab-4e60-af6f-771b3c604358",
   "metadata": {},
   "outputs": [
    {
     "name": "stdout",
     "output_type": "stream",
     "text": [
      "98\n"
     ]
    }
   ],
   "source": [
    "# max()   ----------> Returns the maximum values in a tuple\n",
    "my_tuple = (1,2,44,5,98,0,55)\n",
    "maximum = max(my_tuple)\n",
    "print(maximum)"
   ]
  },
  {
   "cell_type": "code",
   "execution_count": 112,
   "id": "16d1d591-08f9-4865-b1af-99385325a3e3",
   "metadata": {},
   "outputs": [
    {
     "name": "stdout",
     "output_type": "stream",
     "text": [
      "1\n"
     ]
    }
   ],
   "source": [
    "# min()   ------------> Returns the minimum values in a tuple\n",
    "my_tuple = (1,2,44,5,98,55)\n",
    "minimum = min(my_tuple)\n",
    "print(minimum)"
   ]
  },
  {
   "cell_type": "code",
   "execution_count": 116,
   "id": "1b87936e-8062-43eb-809e-e6cccf728d30",
   "metadata": {},
   "outputs": [
    {
     "data": {
      "text/plain": [
       "[1, 2, 6, 8, 8, 45]"
      ]
     },
     "execution_count": 116,
     "metadata": {},
     "output_type": "execute_result"
    }
   ],
   "source": [
    "# sorted()\n",
    "t = (1,2,45,6,8,8)\n",
    "sorted(t)"
   ]
  },
  {
   "cell_type": "code",
   "execution_count": 117,
   "id": "0661d90a-e7c6-4988-ac91-00ccf0ae6986",
   "metadata": {},
   "outputs": [
    {
     "name": "stdout",
     "output_type": "stream",
     "text": [
      "False\n"
     ]
    }
   ],
   "source": [
    "# any()\n",
    "my_tuple = (0,0,0)\n",
    "result = any(my_tuple)\n",
    "print(result)"
   ]
  },
  {
   "cell_type": "code",
   "execution_count": 124,
   "id": "1c99b940-e994-421f-b9df-e3ffe8804281",
   "metadata": {},
   "outputs": [
    {
     "data": {
      "text/plain": [
       "92"
      ]
     },
     "execution_count": 124,
     "metadata": {},
     "output_type": "execute_result"
    }
   ],
   "source": [
    "# Questions \n",
    "scores = (88,76,92,85,79)\n",
    "max(scores)"
   ]
  },
  {
   "cell_type": "code",
   "execution_count": 125,
   "id": "af4ba08c-2b0d-41bd-8f85-cff45f39083e",
   "metadata": {},
   "outputs": [
    {
     "data": {
      "text/plain": [
       "76"
      ]
     },
     "execution_count": 125,
     "metadata": {},
     "output_type": "execute_result"
    }
   ],
   "source": [
    "min(scores)"
   ]
  },
  {
   "cell_type": "code",
   "execution_count": 133,
   "id": "bb8aa652-74af-4bb9-a8cd-9498db0d0c4d",
   "metadata": {},
   "outputs": [
    {
     "name": "stdout",
     "output_type": "stream",
     "text": [
      "True\n"
     ]
    }
   ],
   "source": [
    "# Question 2\n",
    "cities =(\"New York\",\"Los Angeles\",\"Paris\",\"London\",\"Tokyo\")\n",
    "is_paris_in_tuple = \"Paris\" in cities\n",
    "print(is_paris_in_tuple)"
   ]
  }
 ],
 "metadata": {
  "kernelspec": {
   "display_name": "Python 3 (ipykernel)",
   "language": "python",
   "name": "python3"
  },
  "language_info": {
   "codemirror_mode": {
    "name": "ipython",
    "version": 3
   },
   "file_extension": ".py",
   "mimetype": "text/x-python",
   "name": "python",
   "nbconvert_exporter": "python",
   "pygments_lexer": "ipython3",
   "version": "3.12.7"
  }
 },
 "nbformat": 4,
 "nbformat_minor": 5
}
